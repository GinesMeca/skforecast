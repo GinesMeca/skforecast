{
 "cells": [
  {
   "cell_type": "code",
   "execution_count": 1,
   "metadata": {},
   "outputs": [
    {
     "name": "stdout",
     "output_type": "stream",
     "text": [
      "c:\\Users\\jaesc2\\GitHub\\skforecast\n"
     ]
    }
   ],
   "source": [
    "%load_ext autoreload\n",
    "%autoreload 2\n",
    "import sys\n",
    "from pathlib import Path\n",
    "path = str(Path.cwd().parent)\n",
    "print(path)\n",
    "sys.path.insert(1, path)"
   ]
  },
  {
   "cell_type": "code",
   "execution_count": 7,
   "metadata": {},
   "outputs": [
    {
     "data": {
      "text/html": [
       "<div>\n",
       "<style scoped>\n",
       "    .dataframe tbody tr th:only-of-type {\n",
       "        vertical-align: middle;\n",
       "    }\n",
       "\n",
       "    .dataframe tbody tr th {\n",
       "        vertical-align: top;\n",
       "    }\n",
       "\n",
       "    .dataframe thead th {\n",
       "        text-align: right;\n",
       "    }\n",
       "</style>\n",
       "<table border=\"1\" class=\"dataframe\">\n",
       "  <thead>\n",
       "    <tr style=\"text-align: right;\">\n",
       "      <th></th>\n",
       "      <th>lag</th>\n",
       "      <th>partial_autocorrelation_abs</th>\n",
       "      <th>partial_autocorrelation</th>\n",
       "      <th>autocorrelation_abs</th>\n",
       "      <th>autocorrelation</th>\n",
       "    </tr>\n",
       "  </thead>\n",
       "  <tbody>\n",
       "    <tr>\n",
       "      <th>0</th>\n",
       "      <td>1</td>\n",
       "      <td>0.777778</td>\n",
       "      <td>0.777778</td>\n",
       "      <td>0.700000</td>\n",
       "      <td>0.700000</td>\n",
       "    </tr>\n",
       "    <tr>\n",
       "      <th>1</th>\n",
       "      <td>4</td>\n",
       "      <td>0.360707</td>\n",
       "      <td>-0.360707</td>\n",
       "      <td>0.078788</td>\n",
       "      <td>-0.078788</td>\n",
       "    </tr>\n",
       "    <tr>\n",
       "      <th>2</th>\n",
       "      <td>3</td>\n",
       "      <td>0.274510</td>\n",
       "      <td>-0.274510</td>\n",
       "      <td>0.148485</td>\n",
       "      <td>0.148485</td>\n",
       "    </tr>\n",
       "    <tr>\n",
       "      <th>3</th>\n",
       "      <td>2</td>\n",
       "      <td>0.227273</td>\n",
       "      <td>-0.227273</td>\n",
       "      <td>0.412121</td>\n",
       "      <td>0.412121</td>\n",
       "    </tr>\n",
       "  </tbody>\n",
       "</table>\n",
       "</div>"
      ],
      "text/plain": [
       "   lag  partial_autocorrelation_abs  partial_autocorrelation  \\\n",
       "0    1                     0.777778                 0.777778   \n",
       "1    4                     0.360707                -0.360707   \n",
       "2    3                     0.274510                -0.274510   \n",
       "3    2                     0.227273                -0.227273   \n",
       "\n",
       "   autocorrelation_abs  autocorrelation  \n",
       "0             0.700000         0.700000  \n",
       "1             0.078788        -0.078788  \n",
       "2             0.148485         0.148485  \n",
       "3             0.412121         0.412121  "
      ]
     },
     "execution_count": 7,
     "metadata": {},
     "output_type": "execute_result"
    }
   ],
   "source": [
    "from skforecast.plot import calculate_lag_autocorrelation\n",
    "import pandas as pd\n",
    "data = pd.Series([1, 2, 3, 4, 5, 6, 7, 8, 9, 10])\n",
    "calculate_lag_autocorrelation(data = data, n_lags = 4)"
   ]
  },
  {
   "cell_type": "code",
   "execution_count": 8,
   "metadata": {},
   "outputs": [
    {
     "name": "stdout",
     "output_type": "stream",
     "text": [
      "   lag  partial_autocorrelation_abs  partial_autocorrelation  \\\n",
      "0    1                     0.777778                 0.777778   \n",
      "1    4                     0.360707                -0.360707   \n",
      "2    3                     0.274510                -0.274510   \n",
      "3    2                     0.227273                -0.227273   \n",
      "\n",
      "   autocorrelation_abs  autocorrelation  \n",
      "0             0.700000         0.700000  \n",
      "1             0.078788        -0.078788  \n",
      "2             0.148485         0.148485  \n",
      "3             0.412121         0.412121  \n"
     ]
    }
   ],
   "source": [
    "print(calculate_lag_autocorrelation(data = data, n_lags = 4))"
   ]
  },
  {
   "cell_type": "code",
   "execution_count": null,
   "metadata": {},
   "outputs": [],
   "source": []
  }
 ],
 "metadata": {
  "kernelspec": {
   "display_name": "skforecast_py11_2",
   "language": "python",
   "name": "python3"
  },
  "language_info": {
   "codemirror_mode": {
    "name": "ipython",
    "version": 3
   },
   "file_extension": ".py",
   "mimetype": "text/x-python",
   "name": "python",
   "nbconvert_exporter": "python",
   "pygments_lexer": "ipython3",
   "version": "3.11.10"
  },
  "orig_nbformat": 4
 },
 "nbformat": 4,
 "nbformat_minor": 2
}
