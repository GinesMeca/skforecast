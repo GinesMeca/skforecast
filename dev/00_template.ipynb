{
 "cells": [
  {
   "cell_type": "code",
   "execution_count": 2,
   "metadata": {},
   "outputs": [
    {
     "name": "stdout",
     "output_type": "stream",
     "text": [
      "c:\\Users\\jaesc2\\GitHub\\skforecast\n"
     ]
    }
   ],
   "source": [
    "%load_ext autoreload\n",
    "%autoreload 2\n",
    "import sys\n",
    "from pathlib import Path\n",
    "path = str(Path.cwd().parent)\n",
    "print(path)\n",
    "sys.path.insert(1, path)"
   ]
  },
  {
   "cell_type": "code",
   "execution_count": 1,
   "metadata": {},
   "outputs": [],
   "source": [
    "import numpy as np"
   ]
  },
  {
   "cell_type": "code",
   "execution_count": 20,
   "metadata": {},
   "outputs": [],
   "source": [
    "def coverage(y: np.ndarray, lower_bound: np.ndarray, upper_bound: np.ndarray) -> float:\n",
    "    \"\"\"\n",
    "    Calculate coverage of a given interval\n",
    "    \"\"\"\n",
    "\n",
    "    if not isinstance(y, np.ndarray) or y.ndim != 1:\n",
    "        raise TypeError(\"`y` must be a 1D numpy array.\")\n",
    "    \n",
    "    if not isinstance(lower_bound, np.ndarray) or lower_bound.ndim != 1:\n",
    "        raise TypeError(\"`lower_bound` must be a 1D numpy array.\")\n",
    "    \n",
    "    if not isinstance(upper_bound, np.ndarray) or upper_bound.ndim != 1:\n",
    "        raise TypeError(\"`upper_bound` must be a 1D numpy array.\")\n",
    "    \n",
    "    if y.shape != lower_bound.shape or y.shape != upper_bound.shape:\n",
    "        raise TypeError(\"`y`, `lower_bound`, and `upper_bound` must have the same shape.\")\n",
    "    \n",
    "    coverage = np.mean(np.logical_and(y >= lower_bound, y <= upper_bound))\n",
    "\n",
    "    return coverage"
   ]
  },
  {
   "cell_type": "code",
   "execution_count": 23,
   "metadata": {},
   "outputs": [
    {
     "data": {
      "text/plain": [
       "0.9"
      ]
     },
     "execution_count": 23,
     "metadata": {},
     "output_type": "execute_result"
    }
   ],
   "source": [
    "def test_coverage_raise_error_when_no_valid_inputs():\n",
    "\n",
    "    y = np.array([1, 2])\n",
    "    lower_bound = np.array([1, 2])\n",
    "    upper_bound = np.array([2, 3])\n",
    "\n",
    "    msg = \"`y`, must be a 1D numpy array.\"\n",
    "    with pytest.raises(TypeError):\n",
    "        coverage(y='invalid value', lower_bound, upper_bound)\n",
    "\n",
    "    msg = \"`lower_bound`, must be a 1D numpy array.\"\n",
    "    with pytest.raises(TypeError):\n",
    "        coverage(y, lower_bound='invalid value', upper_bound)\n",
    "\n",
    "    msg = \"`upper_bound`, must be a 1D numpy array.\"\n",
    "    with pytest.raises(TypeError):\n",
    "        coverage(y, lower_bound, upper_bound='invalid value')\n",
    "\n",
    "    msg = \"`y`, `lower_bound`, and `upper_bound` must have the same shape.\"\n",
    "    with pytest.raises(TypeError):\n",
    "        coverage(y, lower_bound=np.array([1, 2, 3]), upper_bound)\n",
    "    with pytest.raises(TypeError):\n",
    "        coverage(y, lower_bound, upper_bound=np.array([1, 2, 3]))\n",
    "    with pytest.raises(TypeError):\n",
    "        coverage(y=np.array([1, 2, 3]), lower_bound, upper_bound)\n",
    "\n",
    "    "
   ]
  },
  {
   "cell_type": "code",
   "execution_count": null,
   "metadata": {},
   "outputs": [],
   "source": []
  },
  {
   "cell_type": "code",
   "execution_count": 25,
   "metadata": {},
   "outputs": [],
   "source": [
    "def test_coverage_output():\n",
    "    \"\"\"\n",
    "    Test the output of the coverage function when 10 out of 100 values are outside\n",
    "    the upper and lower bounds.\n",
    "    \"\"\"\n",
    "    lower_bound = np.random.normal(10, 2, 100)\n",
    "    upper_bound = lower_bound * 2\n",
    "    y = (lower_bound + upper_bound) / 2\n",
    "    y[[10, 12, 15, 20, 25, 30, 35, 40, 45, 50]] = (\n",
    "        y[[10, 12, 15, 20, 25, 30, 35, 40, 45, 50]] * 10\n",
    "    )\n",
    "    results = coverage(y, lower_bound, upper_bound)\n",
    "    expected = 0.9\n",
    "\n",
    "    assert results == expected\n",
    "\n",
    "test_coverage_output()"
   ]
  },
  {
   "cell_type": "code",
   "execution_count": null,
   "metadata": {},
   "outputs": [],
   "source": []
  }
 ],
 "metadata": {
  "kernelspec": {
   "display_name": "skforecast_14_p12",
   "language": "python",
   "name": "python3"
  },
  "language_info": {
   "codemirror_mode": {
    "name": "ipython",
    "version": 3
   },
   "file_extension": ".py",
   "mimetype": "text/x-python",
   "name": "python",
   "nbconvert_exporter": "python",
   "pygments_lexer": "ipython3",
   "version": "3.12.4"
  },
  "orig_nbformat": 4
 },
 "nbformat": 4,
 "nbformat_minor": 2
}
