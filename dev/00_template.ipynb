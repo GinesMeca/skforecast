{
 "cells": [
  {
   "cell_type": "code",
   "execution_count": 1,
   "metadata": {},
   "outputs": [
    {
     "name": "stdout",
     "output_type": "stream",
     "text": [
      "c:\\Users\\jaesc2\\GitHub\\skforecast\n"
     ]
    }
   ],
   "source": [
    "%load_ext autoreload\n",
    "%autoreload 2\n",
    "import sys\n",
    "from pathlib import Path\n",
    "path = str(Path.cwd().parent)\n",
    "print(path)\n",
    "sys.path.insert(1, path)"
   ]
  },
  {
   "cell_type": "code",
   "execution_count": 2,
   "metadata": {},
   "outputs": [],
   "source": [
    "# Libraries\n",
    "# ==============================================================================\n",
    "import numpy as np\n",
    "import pandas as pd\n",
    "import matplotlib.pyplot as plt\n",
    "from sklearn.preprocessing import StandardScaler\n",
    "from sklearn.preprocessing import MinMaxScaler\n",
    "from sklearn.metrics import mean_absolute_error\n",
    "from lightgbm import LGBMRegressor\n",
    "\n",
    "from skforecast.datasets import fetch_dataset\n",
    "from skforecast.preprocessing import RollingFeatures\n",
    "from skforecast.recursive import ForecasterRecursiveMultiSeries\n",
    "from skforecast.model_selection import TimeSeriesFold\n",
    "from skforecast.model_selection import backtesting_forecaster_multiseries\n",
    "from skforecast.model_selection import grid_search_forecaster_multiseries\n",
    "from skforecast.model_selection import bayesian_search_forecaster_multiseries"
   ]
  },
  {
   "cell_type": "code",
   "execution_count": 3,
   "metadata": {},
   "outputs": [
    {
     "name": "stdout",
     "output_type": "stream",
     "text": [
      "items_sales\n",
      "-----------\n",
      "Simulated time series for the sales of 3 different items.\n",
      "Simulated data.\n",
      "Shape of the dataset: (1097, 3)\n",
      "Train dates : 2012-01-01 00:00:00 --- 2014-07-15 00:00:00   (n=927)\n",
      "Test dates  : 2014-07-16 00:00:00 --- 2015-01-01 00:00:00   (n=170)\n"
     ]
    },
    {
     "data": {
      "text/html": [
       "<div>\n",
       "<style scoped>\n",
       "    .dataframe tbody tr th:only-of-type {\n",
       "        vertical-align: middle;\n",
       "    }\n",
       "\n",
       "    .dataframe tbody tr th {\n",
       "        vertical-align: top;\n",
       "    }\n",
       "\n",
       "    .dataframe thead th {\n",
       "        text-align: right;\n",
       "    }\n",
       "</style>\n",
       "<table border=\"1\" class=\"dataframe\">\n",
       "  <thead>\n",
       "    <tr style=\"text-align: right;\">\n",
       "      <th></th>\n",
       "      <th>item_1</th>\n",
       "      <th>item_2</th>\n",
       "      <th>item_3</th>\n",
       "    </tr>\n",
       "    <tr>\n",
       "      <th>date</th>\n",
       "      <th></th>\n",
       "      <th></th>\n",
       "      <th></th>\n",
       "    </tr>\n",
       "  </thead>\n",
       "  <tbody>\n",
       "    <tr>\n",
       "      <th>2012-01-01</th>\n",
       "      <td>8.253175</td>\n",
       "      <td>21.047727</td>\n",
       "      <td>19.429739</td>\n",
       "    </tr>\n",
       "    <tr>\n",
       "      <th>2012-01-02</th>\n",
       "      <td>22.777826</td>\n",
       "      <td>26.578125</td>\n",
       "      <td>28.009863</td>\n",
       "    </tr>\n",
       "    <tr>\n",
       "      <th>2012-01-03</th>\n",
       "      <td>27.549099</td>\n",
       "      <td>31.751042</td>\n",
       "      <td>32.078922</td>\n",
       "    </tr>\n",
       "    <tr>\n",
       "      <th>2012-01-04</th>\n",
       "      <td>25.895533</td>\n",
       "      <td>24.567708</td>\n",
       "      <td>27.252276</td>\n",
       "    </tr>\n",
       "    <tr>\n",
       "      <th>2012-01-05</th>\n",
       "      <td>21.379238</td>\n",
       "      <td>18.191667</td>\n",
       "      <td>20.357737</td>\n",
       "    </tr>\n",
       "  </tbody>\n",
       "</table>\n",
       "</div>"
      ],
      "text/plain": [
       "               item_1     item_2     item_3\n",
       "date                                       \n",
       "2012-01-01   8.253175  21.047727  19.429739\n",
       "2012-01-02  22.777826  26.578125  28.009863\n",
       "2012-01-03  27.549099  31.751042  32.078922\n",
       "2012-01-04  25.895533  24.567708  27.252276\n",
       "2012-01-05  21.379238  18.191667  20.357737"
      ]
     },
     "execution_count": 3,
     "metadata": {},
     "output_type": "execute_result"
    }
   ],
   "source": [
    "# Data download\n",
    "# ==============================================================================\n",
    "data = fetch_dataset(name=\"items_sales\")\n",
    "\n",
    "# Split data into train-val-test\n",
    "# ==============================================================================\n",
    "end_train = '2014-07-15 23:59:00'\n",
    "data_train = data.loc[:end_train, :].copy()\n",
    "data_test  = data.loc[end_train:, :].copy()\n",
    "\n",
    "print(\n",
    "    f\"Train dates : {data_train.index.min()} --- {data_train.index.max()}   \"\n",
    "    f\"(n={len(data_train)})\"\n",
    ")\n",
    "print(\n",
    "    f\"Test dates  : {data_test.index.min()} --- {data_test.index.max()}   \"\n",
    "    f\"(n={len(data_test)})\"\n",
    ")\n",
    "data.head()"
   ]
  },
  {
   "cell_type": "code",
   "execution_count": 4,
   "metadata": {},
   "outputs": [
    {
     "name": "stdout",
     "output_type": "stream",
     "text": [
      "1\n",
      "1\n",
      "TimeSeriesDifferentiator(order=1, window_size=49)\n",
      "None\n"
     ]
    }
   ],
   "source": [
    "# Create and train ForecasterRecursiveMultiSeries\n",
    "# ==============================================================================\n",
    "forecaster = ForecasterRecursiveMultiSeries(\n",
    "                 regressor          = LGBMRegressor(random_state=123, verbose=-1),\n",
    "                 lags               = 24,\n",
    "                 window_features    = RollingFeatures(stats=['mean', 'mean'], window_sizes=[24, 48]),\n",
    "                 encoding           = 'ordinal',\n",
    "                 transformer_series = None,\n",
    "                 transformer_exog   = None,\n",
    "                 weight_func        = None,\n",
    "                 series_weights     = None,\n",
    "                 differentiation    = 1,\n",
    "                 dropna_from_series = False,\n",
    "                 fit_kwargs         = None,\n",
    "                 forecaster_id      = None\n",
    "             )\n",
    "\n",
    "# forecaster.fit(series=data_train)\n",
    "print(forecaster.differentiation)\n",
    "print(forecaster.differentiation_max)\n",
    "print(forecaster.differentiator)\n",
    "print(forecaster.differentiator_)"
   ]
  },
  {
   "cell_type": "code",
   "execution_count": 5,
   "metadata": {},
   "outputs": [
    {
     "data": {
      "text/html": [
       "<div>\n",
       "<style scoped>\n",
       "    .dataframe tbody tr th:only-of-type {\n",
       "        vertical-align: middle;\n",
       "    }\n",
       "\n",
       "    .dataframe tbody tr th {\n",
       "        vertical-align: top;\n",
       "    }\n",
       "\n",
       "    .dataframe thead th {\n",
       "        text-align: right;\n",
       "    }\n",
       "</style>\n",
       "<table border=\"1\" class=\"dataframe\">\n",
       "  <thead>\n",
       "    <tr style=\"text-align: right;\">\n",
       "      <th></th>\n",
       "      <th>item_1</th>\n",
       "      <th>item_2</th>\n",
       "      <th>item_3</th>\n",
       "      <th>item_id</th>\n",
       "    </tr>\n",
       "    <tr>\n",
       "      <th>date</th>\n",
       "      <th></th>\n",
       "      <th></th>\n",
       "      <th></th>\n",
       "      <th></th>\n",
       "    </tr>\n",
       "  </thead>\n",
       "  <tbody>\n",
       "    <tr>\n",
       "      <th>2012-01-01</th>\n",
       "      <td>8.253175</td>\n",
       "      <td>21.047727</td>\n",
       "      <td>19.429739</td>\n",
       "      <td>A</td>\n",
       "    </tr>\n",
       "    <tr>\n",
       "      <th>2012-01-02</th>\n",
       "      <td>22.777826</td>\n",
       "      <td>26.578125</td>\n",
       "      <td>28.009863</td>\n",
       "      <td>B</td>\n",
       "    </tr>\n",
       "    <tr>\n",
       "      <th>2012-01-03</th>\n",
       "      <td>27.549099</td>\n",
       "      <td>31.751042</td>\n",
       "      <td>32.078922</td>\n",
       "      <td>A</td>\n",
       "    </tr>\n",
       "    <tr>\n",
       "      <th>2012-01-04</th>\n",
       "      <td>25.895533</td>\n",
       "      <td>24.567708</td>\n",
       "      <td>27.252276</td>\n",
       "      <td>B</td>\n",
       "    </tr>\n",
       "    <tr>\n",
       "      <th>2012-01-05</th>\n",
       "      <td>21.379238</td>\n",
       "      <td>18.191667</td>\n",
       "      <td>20.357737</td>\n",
       "      <td>A</td>\n",
       "    </tr>\n",
       "    <tr>\n",
       "      <th>...</th>\n",
       "      <td>...</td>\n",
       "      <td>...</td>\n",
       "      <td>...</td>\n",
       "      <td>...</td>\n",
       "    </tr>\n",
       "    <tr>\n",
       "      <th>2014-07-11</th>\n",
       "      <td>25.662128</td>\n",
       "      <td>11.002083</td>\n",
       "      <td>10.396751</td>\n",
       "      <td>A</td>\n",
       "    </tr>\n",
       "    <tr>\n",
       "      <th>2014-07-12</th>\n",
       "      <td>23.773923</td>\n",
       "      <td>11.008333</td>\n",
       "      <td>16.139173</td>\n",
       "      <td>B</td>\n",
       "    </tr>\n",
       "    <tr>\n",
       "      <th>2014-07-13</th>\n",
       "      <td>22.609388</td>\n",
       "      <td>8.100000</td>\n",
       "      <td>13.028927</td>\n",
       "      <td>A</td>\n",
       "    </tr>\n",
       "    <tr>\n",
       "      <th>2014-07-14</th>\n",
       "      <td>23.307307</td>\n",
       "      <td>10.895833</td>\n",
       "      <td>9.315334</td>\n",
       "      <td>B</td>\n",
       "    </tr>\n",
       "    <tr>\n",
       "      <th>2014-07-15</th>\n",
       "      <td>25.980745</td>\n",
       "      <td>10.489583</td>\n",
       "      <td>9.908915</td>\n",
       "      <td>A</td>\n",
       "    </tr>\n",
       "  </tbody>\n",
       "</table>\n",
       "<p>927 rows × 4 columns</p>\n",
       "</div>"
      ],
      "text/plain": [
       "               item_1     item_2     item_3 item_id\n",
       "date                                               \n",
       "2012-01-01   8.253175  21.047727  19.429739       A\n",
       "2012-01-02  22.777826  26.578125  28.009863       B\n",
       "2012-01-03  27.549099  31.751042  32.078922       A\n",
       "2012-01-04  25.895533  24.567708  27.252276       B\n",
       "2012-01-05  21.379238  18.191667  20.357737       A\n",
       "...               ...        ...        ...     ...\n",
       "2014-07-11  25.662128  11.002083  10.396751       A\n",
       "2014-07-12  23.773923  11.008333  16.139173       B\n",
       "2014-07-13  22.609388   8.100000  13.028927       A\n",
       "2014-07-14  23.307307  10.895833   9.315334       B\n",
       "2014-07-15  25.980745  10.489583   9.908915       A\n",
       "\n",
       "[927 rows x 4 columns]"
      ]
     },
     "execution_count": 5,
     "metadata": {},
     "output_type": "execute_result"
    }
   ],
   "source": [
    "# Create df with categoricals\n",
    "# ==============================================================================\n",
    "data_train_cat = data_train.copy()\n",
    "data_train_cat['item_id'] = np.array(['A', 'B'] * int(len(data_train) / 2) + ['A'])\n",
    "data_train_cat['item_id'] = data_train_cat['item_id'].astype('category')\n",
    "data_train_cat"
   ]
  },
  {
   "cell_type": "code",
   "execution_count": 6,
   "metadata": {},
   "outputs": [
    {
     "data": {
      "text/plain": [
       "item_1      float64\n",
       "item_2      float64\n",
       "item_3      float64\n",
       "item_id    category\n",
       "dtype: object"
      ]
     },
     "execution_count": 6,
     "metadata": {},
     "output_type": "execute_result"
    }
   ],
   "source": [
    "data_train_cat.dtypes"
   ]
  },
  {
   "cell_type": "code",
   "execution_count": 7,
   "metadata": {},
   "outputs": [
    {
     "data": {
      "text/plain": [
       "item_1     float64\n",
       "item_2     float64\n",
       "item_3     float64\n",
       "item_id    float64\n",
       "dtype: object"
      ]
     },
     "execution_count": 7,
     "metadata": {},
     "output_type": "execute_result"
    }
   ],
   "source": [
    "pd.DataFrame().reindex_like(data_train_cat).dtypes"
   ]
  },
  {
   "cell_type": "code",
   "execution_count": 10,
   "metadata": {},
   "outputs": [
    {
     "data": {
      "text/plain": [
       "{'item_1': dtype('float64'),\n",
       " 'item_2': dtype('float64'),\n",
       " 'item_3': dtype('float64'),\n",
       " 'item_id': CategoricalDtype(categories=['A', 'B'], ordered=False, categories_dtype=object)}"
      ]
     },
     "execution_count": 10,
     "metadata": {},
     "output_type": "execute_result"
    }
   ],
   "source": [
    "data_train_cat.dtypes.to_dict()"
   ]
  },
  {
   "cell_type": "code",
   "execution_count": 12,
   "metadata": {},
   "outputs": [
    {
     "data": {
      "text/plain": [
       "item_1      float64\n",
       "item_2      float64\n",
       "item_3      float64\n",
       "item_id    category\n",
       "dtype: object"
      ]
     },
     "execution_count": 12,
     "metadata": {},
     "output_type": "execute_result"
    }
   ],
   "source": [
    "pd.DataFrame(index=data_train_cat.index, columns=data_train_cat.columns).astype(data_train_cat.dtypes.to_dict()).dtypes"
   ]
  },
  {
   "cell_type": "code",
   "execution_count": 21,
   "metadata": {},
   "outputs": [],
   "source": [
    "from copy import copy\n",
    "\n",
    "copy(None)"
   ]
  },
  {
   "cell_type": "code",
   "execution_count": 7,
   "metadata": {},
   "outputs": [],
   "source": [
    "from __future__ import annotations\n",
    "\n",
    "def sum(a: int | list | None = None) -> int:\n",
    "    return a"
   ]
  },
  {
   "cell_type": "code",
   "execution_count": 11,
   "metadata": {},
   "outputs": [
    {
     "ename": "TypeError",
     "evalue": "'>=' not supported between instances of 'int' and 'NoneType'",
     "output_type": "error",
     "traceback": [
      "\u001b[1;31m---------------------------------------------------------------------------\u001b[0m",
      "\u001b[1;31mTypeError\u001b[0m                                 Traceback (most recent call last)",
      "Cell \u001b[1;32mIn[11], line 3\u001b[0m\n\u001b[0;32m      1\u001b[0m \u001b[38;5;28;01mimport\u001b[39;00m \u001b[38;5;21;01mnumpy\u001b[39;00m \u001b[38;5;28;01mas\u001b[39;00m \u001b[38;5;21;01mnp\u001b[39;00m\n\u001b[1;32m----> 3\u001b[0m \u001b[43mnp\u001b[49m\u001b[38;5;241;43m.\u001b[39;49m\u001b[43mmax\u001b[49m\u001b[43m(\u001b[49m\u001b[43m[\u001b[49m\u001b[38;5;241;43m5\u001b[39;49m\u001b[43m,\u001b[49m\u001b[43m \u001b[49m\u001b[38;5;28;43;01mNone\u001b[39;49;00m\u001b[43m]\u001b[49m\u001b[43m)\u001b[49m\n",
      "File \u001b[1;32mc:\\Users\\jaesc2\\Miniconda3\\envs\\cienciadedatos\\lib\\site-packages\\numpy\\_core\\fromnumeric.py:2899\u001b[0m, in \u001b[0;36mmax\u001b[1;34m(a, axis, out, keepdims, initial, where)\u001b[0m\n\u001b[0;32m   2781\u001b[0m \u001b[38;5;129m@array_function_dispatch\u001b[39m(_max_dispatcher)\n\u001b[0;32m   2782\u001b[0m \u001b[38;5;129m@set_module\u001b[39m(\u001b[38;5;124m'\u001b[39m\u001b[38;5;124mnumpy\u001b[39m\u001b[38;5;124m'\u001b[39m)\n\u001b[0;32m   2783\u001b[0m \u001b[38;5;28;01mdef\u001b[39;00m \u001b[38;5;21mmax\u001b[39m(a, axis\u001b[38;5;241m=\u001b[39m\u001b[38;5;28;01mNone\u001b[39;00m, out\u001b[38;5;241m=\u001b[39m\u001b[38;5;28;01mNone\u001b[39;00m, keepdims\u001b[38;5;241m=\u001b[39mnp\u001b[38;5;241m.\u001b[39m_NoValue, initial\u001b[38;5;241m=\u001b[39mnp\u001b[38;5;241m.\u001b[39m_NoValue,\n\u001b[0;32m   2784\u001b[0m          where\u001b[38;5;241m=\u001b[39mnp\u001b[38;5;241m.\u001b[39m_NoValue):\n\u001b[0;32m   2785\u001b[0m \u001b[38;5;250m    \u001b[39m\u001b[38;5;124;03m\"\"\"\u001b[39;00m\n\u001b[0;32m   2786\u001b[0m \u001b[38;5;124;03m    Return the maximum of an array or maximum along an axis.\u001b[39;00m\n\u001b[0;32m   2787\u001b[0m \n\u001b[1;32m   (...)\u001b[0m\n\u001b[0;32m   2897\u001b[0m \u001b[38;5;124;03m    5\u001b[39;00m\n\u001b[0;32m   2898\u001b[0m \u001b[38;5;124;03m    \"\"\"\u001b[39;00m\n\u001b[1;32m-> 2899\u001b[0m     \u001b[38;5;28;01mreturn\u001b[39;00m \u001b[43m_wrapreduction\u001b[49m\u001b[43m(\u001b[49m\u001b[43ma\u001b[49m\u001b[43m,\u001b[49m\u001b[43m \u001b[49m\u001b[43mnp\u001b[49m\u001b[38;5;241;43m.\u001b[39;49m\u001b[43mmaximum\u001b[49m\u001b[43m,\u001b[49m\u001b[43m \u001b[49m\u001b[38;5;124;43m'\u001b[39;49m\u001b[38;5;124;43mmax\u001b[39;49m\u001b[38;5;124;43m'\u001b[39;49m\u001b[43m,\u001b[49m\u001b[43m \u001b[49m\u001b[43maxis\u001b[49m\u001b[43m,\u001b[49m\u001b[43m \u001b[49m\u001b[38;5;28;43;01mNone\u001b[39;49;00m\u001b[43m,\u001b[49m\u001b[43m \u001b[49m\u001b[43mout\u001b[49m\u001b[43m,\u001b[49m\n\u001b[0;32m   2900\u001b[0m \u001b[43m                          \u001b[49m\u001b[43mkeepdims\u001b[49m\u001b[38;5;241;43m=\u001b[39;49m\u001b[43mkeepdims\u001b[49m\u001b[43m,\u001b[49m\u001b[43m \u001b[49m\u001b[43minitial\u001b[49m\u001b[38;5;241;43m=\u001b[39;49m\u001b[43minitial\u001b[49m\u001b[43m,\u001b[49m\u001b[43m \u001b[49m\u001b[43mwhere\u001b[49m\u001b[38;5;241;43m=\u001b[39;49m\u001b[43mwhere\u001b[49m\u001b[43m)\u001b[49m\n",
      "File \u001b[1;32mc:\\Users\\jaesc2\\Miniconda3\\envs\\cienciadedatos\\lib\\site-packages\\numpy\\_core\\fromnumeric.py:86\u001b[0m, in \u001b[0;36m_wrapreduction\u001b[1;34m(obj, ufunc, method, axis, dtype, out, **kwargs)\u001b[0m\n\u001b[0;32m     83\u001b[0m         \u001b[38;5;28;01melse\u001b[39;00m:\n\u001b[0;32m     84\u001b[0m             \u001b[38;5;28;01mreturn\u001b[39;00m reduction(axis\u001b[38;5;241m=\u001b[39maxis, out\u001b[38;5;241m=\u001b[39mout, \u001b[38;5;241m*\u001b[39m\u001b[38;5;241m*\u001b[39mpasskwargs)\n\u001b[1;32m---> 86\u001b[0m \u001b[38;5;28;01mreturn\u001b[39;00m ufunc\u001b[38;5;241m.\u001b[39mreduce(obj, axis, dtype, out, \u001b[38;5;241m*\u001b[39m\u001b[38;5;241m*\u001b[39mpasskwargs)\n",
      "\u001b[1;31mTypeError\u001b[0m: '>=' not supported between instances of 'int' and 'NoneType'"
     ]
    }
   ],
   "source": [
    "import numpy as np\n",
    "\n",
    "np.max([5, None])"
   ]
  },
  {
   "cell_type": "code",
   "execution_count": null,
   "metadata": {},
   "outputs": [
    {
     "data": {
      "text/plain": [
       "{'l1': [1], 'l2': [2], 'l3': None}"
      ]
     },
     "execution_count": 27,
     "metadata": {},
     "output_type": "execute_result"
    }
   ],
   "source": [
    "diff = {'l1': [1], 'l2': [2]}\n",
    "differentiator_ = {'l1': [1], 'l2': [1], 'l3': None}\n",
    "differentiator_.update(\n",
    "    {k: deepcopy(v) for k, v in diff.items()}\n",
    ")\n",
    "differentiator_"
   ]
  },
  {
   "cell_type": "code",
   "execution_count": 28,
   "metadata": {},
   "outputs": [
    {
     "data": {
      "text/plain": [
       "{'l1': [1000], 'l2': [2], 'l3': None}"
      ]
     },
     "execution_count": 28,
     "metadata": {},
     "output_type": "execute_result"
    }
   ],
   "source": [
    "differentiator_['l1'] = [1000]\n",
    "differentiator_"
   ]
  },
  {
   "cell_type": "code",
   "execution_count": 29,
   "metadata": {},
   "outputs": [
    {
     "data": {
      "text/plain": [
       "{'l1': [1], 'l2': [2]}"
      ]
     },
     "execution_count": 29,
     "metadata": {},
     "output_type": "execute_result"
    }
   ],
   "source": [
    "diff"
   ]
  },
  {
   "cell_type": "code",
   "execution_count": null,
   "metadata": {},
   "outputs": [],
   "source": []
  },
  {
   "cell_type": "code",
   "execution_count": 3,
   "metadata": {},
   "outputs": [],
   "source": [
    "import re\n",
    "import pytest\n",
    "import numpy as np\n",
    "import pandas as pd\n",
    "from skforecast.exceptions import MissingValuesWarning\n",
    "from skforecast.exceptions import IgnoredArgumentWarning\n",
    "from sklearn.linear_model import LinearRegression\n",
    "from sklearn.compose import ColumnTransformer\n",
    "from sklearn.preprocessing import StandardScaler\n",
    "from sklearn.preprocessing import OneHotEncoder\n",
    "from skforecast.preprocessing import RollingFeatures\n",
    "from skforecast.recursive import ForecasterRecursiveMultiSeries"
   ]
  },
  {
   "cell_type": "code",
   "execution_count": 21,
   "metadata": {},
   "outputs": [],
   "source": [
    "series = {\n",
    "    \"l1\": pd.Series(np.array([14,  2, 85, 92, 77, 91, 63, 96, 11, 53])),\n",
    "    \"l2\": pd.Series(np.array([16, 23, 98, 76, 75,  9, 23])),\n",
    "    \"l3\": pd.Series(np.array([92,  2, 76, 94, 88, 10, 63])),\n",
    "}\n",
    "series[\"l1\"].index = pd.date_range(\"1990-01-01\", periods=10, freq=\"D\")\n",
    "series[\"l2\"].index = pd.date_range(\"1990-01-05\", periods=7, freq=\"D\")\n",
    "series[\"l3\"].index = pd.date_range(\"1990-01-03\", periods=7, freq=\"D\")\n",
    "\n",
    "exog = {\n",
    "    \"l1\": pd.Series(np.arange(100, 110), name=\"exog_1\", dtype=float),\n",
    "    \"l3\": pd.DataFrame(\n",
    "        {\"exog_1\": np.arange(203, 210, dtype=float), \"exog_2\": np.arange(303, 310, dtype=float)}\n",
    "    ),\n",
    "}\n",
    "exog[\"l1\"].index = pd.date_range(\"1990-01-01\", periods=10, freq=\"D\")\n",
    "exog[\"l3\"].index = pd.date_range(\"1990-01-03\", periods=7, freq=\"D\")"
   ]
  },
  {
   "cell_type": "code",
   "execution_count": 30,
   "metadata": {},
   "outputs": [
    {
     "name": "stderr",
     "output_type": "stream",
     "text": [
      "c:\\Users\\jaesc2\\GitHub\\skforecast\\skforecast\\recursive\\_forecaster_recursive_multiseries.py:486: UserWarning: When using a linear model, it is recommended to use a transformer_series to ensure all series are in the same scale. You can use, for example, a `StandardScaler` from sklearn.preprocessing.\n",
      "  warnings.warn(\n",
      "c:\\Users\\jaesc2\\GitHub\\skforecast\\skforecast\\utils\\utils.py:2404: MissingExogWarning: {'l2'} not present in `exog`. All values of the exogenous variables for these series will be NaN. \n",
      " You can suppress this warning using: warnings.simplefilter('ignore', category=MissingExogWarning)\n",
      "  warnings.warn(\n",
      "c:\\Users\\jaesc2\\GitHub\\skforecast\\skforecast\\recursive\\_forecaster_recursive_multiseries.py:1134: MissingValuesWarning: NaNs detected in `X_train`. Some regressors do not allow NaN values during training. If you want to drop them, set `forecaster.dropna_from_series = True`. \n",
      " You can suppress this warning using: warnings.simplefilter('ignore', category=MissingValuesWarning)\n",
      "  warnings.warn(\n"
     ]
    },
    {
     "data": {
      "text/html": [
       "<div>\n",
       "<style scoped>\n",
       "    .dataframe tbody tr th:only-of-type {\n",
       "        vertical-align: middle;\n",
       "    }\n",
       "\n",
       "    .dataframe tbody tr th {\n",
       "        vertical-align: top;\n",
       "    }\n",
       "\n",
       "    .dataframe thead th {\n",
       "        text-align: right;\n",
       "    }\n",
       "</style>\n",
       "<table border=\"1\" class=\"dataframe\">\n",
       "  <thead>\n",
       "    <tr style=\"text-align: right;\">\n",
       "      <th></th>\n",
       "      <th>lag_1</th>\n",
       "      <th>lag_2</th>\n",
       "      <th>lag_3</th>\n",
       "      <th>roll_mean_4</th>\n",
       "      <th>_level_skforecast</th>\n",
       "      <th>exog_1</th>\n",
       "      <th>exog_2</th>\n",
       "    </tr>\n",
       "  </thead>\n",
       "  <tbody>\n",
       "    <tr>\n",
       "      <th>1990-01-07</th>\n",
       "      <td>14.0</td>\n",
       "      <td>-15.0</td>\n",
       "      <td>7.0</td>\n",
       "      <td>22.25</td>\n",
       "      <td>0</td>\n",
       "      <td>106.0</td>\n",
       "      <td>NaN</td>\n",
       "    </tr>\n",
       "    <tr>\n",
       "      <th>1990-01-08</th>\n",
       "      <td>-28.0</td>\n",
       "      <td>14.0</td>\n",
       "      <td>-15.0</td>\n",
       "      <td>-5.50</td>\n",
       "      <td>0</td>\n",
       "      <td>107.0</td>\n",
       "      <td>NaN</td>\n",
       "    </tr>\n",
       "    <tr>\n",
       "      <th>1990-01-09</th>\n",
       "      <td>33.0</td>\n",
       "      <td>-28.0</td>\n",
       "      <td>14.0</td>\n",
       "      <td>1.00</td>\n",
       "      <td>0</td>\n",
       "      <td>108.0</td>\n",
       "      <td>NaN</td>\n",
       "    </tr>\n",
       "    <tr>\n",
       "      <th>1990-01-10</th>\n",
       "      <td>-85.0</td>\n",
       "      <td>33.0</td>\n",
       "      <td>-28.0</td>\n",
       "      <td>-16.50</td>\n",
       "      <td>0</td>\n",
       "      <td>109.0</td>\n",
       "      <td>NaN</td>\n",
       "    </tr>\n",
       "    <tr>\n",
       "      <th>1990-01-11</th>\n",
       "      <td>-65.0</td>\n",
       "      <td>21.0</td>\n",
       "      <td>-97.0</td>\n",
       "      <td>-18.25</td>\n",
       "      <td>1</td>\n",
       "      <td>NaN</td>\n",
       "      <td>NaN</td>\n",
       "    </tr>\n",
       "    <tr>\n",
       "      <th>1990-01-09</th>\n",
       "      <td>10.0</td>\n",
       "      <td>88.0</td>\n",
       "      <td>94.0</td>\n",
       "      <td>67.00</td>\n",
       "      <td>2</td>\n",
       "      <td>209.0</td>\n",
       "      <td>309.0</td>\n",
       "    </tr>\n",
       "  </tbody>\n",
       "</table>\n",
       "</div>"
      ],
      "text/plain": [
       "            lag_1  lag_2  lag_3  roll_mean_4  _level_skforecast  exog_1  \\\n",
       "1990-01-07   14.0  -15.0    7.0        22.25                  0   106.0   \n",
       "1990-01-08  -28.0   14.0  -15.0        -5.50                  0   107.0   \n",
       "1990-01-09   33.0  -28.0   14.0         1.00                  0   108.0   \n",
       "1990-01-10  -85.0   33.0  -28.0       -16.50                  0   109.0   \n",
       "1990-01-11  -65.0   21.0  -97.0       -18.25                  1     NaN   \n",
       "1990-01-09   10.0   88.0   94.0        67.00                  2   209.0   \n",
       "\n",
       "            exog_2  \n",
       "1990-01-07     NaN  \n",
       "1990-01-08     NaN  \n",
       "1990-01-09     NaN  \n",
       "1990-01-10     NaN  \n",
       "1990-01-11     NaN  \n",
       "1990-01-09   309.0  "
      ]
     },
     "execution_count": 30,
     "metadata": {},
     "output_type": "execute_result"
    }
   ],
   "source": [
    "forecaster = ForecasterRecursiveMultiSeries(\n",
    "        LinearRegression(), lags=3, window_features=RollingFeatures(stats='mean', window_sizes=4), \n",
    "        encoding='ordinal',\n",
    "        transformer_series=None, differentiation={'l1': 1, 'l2': 2, 'l3': None}\n",
    "    )\n",
    "    \n",
    "forecaster._create_train_X_y(series=series, exog=exog)[0]"
   ]
  },
  {
   "cell_type": "code",
   "execution_count": 33,
   "metadata": {},
   "outputs": [
    {
     "name": "stderr",
     "output_type": "stream",
     "text": [
      "c:\\Users\\jaesc2\\GitHub\\skforecast\\skforecast\\utils\\utils.py:2404: MissingExogWarning: {'l2'} not present in `exog`. All values of the exogenous variables for these series will be NaN. \n",
      " You can suppress this warning using: warnings.simplefilter('ignore', category=MissingExogWarning)\n",
      "  warnings.warn(\n",
      "c:\\Users\\jaesc2\\GitHub\\skforecast\\skforecast\\recursive\\_forecaster_recursive_multiseries.py:1134: MissingValuesWarning: NaNs detected in `X_train`. Some regressors do not allow NaN values during training. If you want to drop them, set `forecaster.dropna_from_series = True`. \n",
      " You can suppress this warning using: warnings.simplefilter('ignore', category=MissingValuesWarning)\n",
      "  warnings.warn(\n"
     ]
    },
    {
     "data": {
      "text/plain": [
       "lag_1                float64\n",
       "lag_2                float64\n",
       "lag_3                float64\n",
       "roll_mean_4          float64\n",
       "_level_skforecast      int32\n",
       "exog_1               float64\n",
       "exog_2               float64\n",
       "dtype: object"
      ]
     },
     "execution_count": 33,
     "metadata": {},
     "output_type": "execute_result"
    }
   ],
   "source": [
    "forecaster._create_train_X_y(series=series, exog=exog)[0].dtypes"
   ]
  },
  {
   "cell_type": "code",
   "execution_count": 42,
   "metadata": {},
   "outputs": [
    {
     "name": "stderr",
     "output_type": "stream",
     "text": [
      "c:\\Users\\jaesc2\\GitHub\\skforecast\\skforecast\\utils\\utils.py:2404: MissingExogWarning: {'l2'} not present in `exog`. All values of the exogenous variables for these series will be NaN. \n",
      " You can suppress this warning using: warnings.simplefilter('ignore', category=MissingExogWarning)\n",
      "  warnings.warn(\n",
      "c:\\Users\\jaesc2\\GitHub\\skforecast\\skforecast\\recursive\\_forecaster_recursive_multiseries.py:1134: MissingValuesWarning: NaNs detected in `X_train`. Some regressors do not allow NaN values during training. If you want to drop them, set `forecaster.dropna_from_series = True`. \n",
      " You can suppress this warning using: warnings.simplefilter('ignore', category=MissingValuesWarning)\n",
      "  warnings.warn(\n"
     ]
    },
    {
     "data": {
      "text/plain": [
       "{'l1': 1990-01-05    77\n",
       " 1990-01-06    91\n",
       " 1990-01-07    63\n",
       " 1990-01-08    96\n",
       " 1990-01-09    11\n",
       " 1990-01-10    53\n",
       " Freq: D, Name: l1, dtype: int32,\n",
       " 'l2': 1990-01-06    23\n",
       " 1990-01-07    98\n",
       " 1990-01-08    76\n",
       " 1990-01-09    75\n",
       " 1990-01-10     9\n",
       " 1990-01-11    23\n",
       " Freq: D, Name: l2, dtype: int32,\n",
       " 'l3': 1990-01-04     2\n",
       " 1990-01-05    76\n",
       " 1990-01-06    94\n",
       " 1990-01-07    88\n",
       " 1990-01-08    10\n",
       " 1990-01-09    63\n",
       " Freq: D, Name: l3, dtype: int32}"
      ]
     },
     "execution_count": 42,
     "metadata": {},
     "output_type": "execute_result"
    }
   ],
   "source": [
    "forecaster._create_train_X_y(series=series, exog=exog)[9]"
   ]
  },
  {
   "cell_type": "code",
   "execution_count": 50,
   "metadata": {},
   "outputs": [
    {
     "name": "stderr",
     "output_type": "stream",
     "text": [
      "c:\\Users\\jaesc2\\GitHub\\skforecast\\skforecast\\utils\\utils.py:2404: MissingExogWarning: {'l2'} not present in `exog`. All values of the exogenous variables for these series will be NaN. \n",
      " You can suppress this warning using: warnings.simplefilter('ignore', category=MissingExogWarning)\n",
      "  warnings.warn(\n",
      "c:\\Users\\jaesc2\\GitHub\\skforecast\\skforecast\\recursive\\_forecaster_recursive_multiseries.py:1134: MissingValuesWarning: NaNs detected in `X_train`. Some regressors do not allow NaN values during training. If you want to drop them, set `forecaster.dropna_from_series = True`. \n",
      " You can suppress this warning using: warnings.simplefilter('ignore', category=MissingValuesWarning)\n",
      "  warnings.warn(\n",
      "c:\\Users\\jaesc2\\GitHub\\skforecast\\skforecast\\utils\\utils.py:2404: MissingExogWarning: {'l2'} not present in `exog`. All values of the exogenous variables for these series will be NaN. \n",
      " You can suppress this warning using: warnings.simplefilter('ignore', category=MissingExogWarning)\n",
      "  warnings.warn(\n",
      "c:\\Users\\jaesc2\\GitHub\\skforecast\\skforecast\\recursive\\_forecaster_recursive_multiseries.py:1134: MissingValuesWarning: NaNs detected in `X_train`. Some regressors do not allow NaN values during training. If you want to drop them, set `forecaster.dropna_from_series = True`. \n",
      " You can suppress this warning using: warnings.simplefilter('ignore', category=MissingValuesWarning)\n",
      "  warnings.warn(\n"
     ]
    },
    {
     "ename": "AssertionError",
     "evalue": "",
     "output_type": "error",
     "traceback": [
      "\u001b[1;31m---------------------------------------------------------------------------\u001b[0m",
      "\u001b[1;31mAssertionError\u001b[0m                            Traceback (most recent call last)",
      "Cell \u001b[1;32mIn[50], line 103\u001b[0m\n\u001b[0;32m    101\u001b[0m \u001b[38;5;28;01massert\u001b[39;00m results[\u001b[38;5;241m7\u001b[39m] \u001b[38;5;241m==\u001b[39m expected[\u001b[38;5;241m7\u001b[39m]\n\u001b[0;32m    102\u001b[0m \u001b[38;5;28;01mfor\u001b[39;00m k \u001b[38;5;129;01min\u001b[39;00m results[\u001b[38;5;241m8\u001b[39m]\u001b[38;5;241m.\u001b[39mkeys():\n\u001b[1;32m--> 103\u001b[0m     \u001b[38;5;28;01massert\u001b[39;00m results[\u001b[38;5;241m8\u001b[39m][k] \u001b[38;5;241m==\u001b[39m expected[\u001b[38;5;241m8\u001b[39m][k]\n\u001b[0;32m    104\u001b[0m \u001b[38;5;28;01mfor\u001b[39;00m k \u001b[38;5;129;01min\u001b[39;00m results[\u001b[38;5;241m9\u001b[39m]\u001b[38;5;241m.\u001b[39mkeys():\n\u001b[0;32m    105\u001b[0m     pd\u001b[38;5;241m.\u001b[39mtesting\u001b[38;5;241m.\u001b[39massert_series_equal(results[\u001b[38;5;241m9\u001b[39m][k], expected[\u001b[38;5;241m9\u001b[39m][k])\n",
      "\u001b[1;31mAssertionError\u001b[0m: "
     ]
    }
   ],
   "source": [
    "series = {\n",
    "        \"l1\": pd.Series(np.array([14,  2, 85, 92, 77, 91, 63, 96, 11, 53], dtype=float)),\n",
    "        \"l2\": pd.Series(np.array([16, 23, 98, 76, 75,  9, 23], dtype=float)),\n",
    "        \"l3\": pd.Series(np.array([92,  2, 76, 94, 88, 10, 63], dtype=float)),\n",
    "    }\n",
    "series[\"l1\"].index = pd.date_range(\"1990-01-01\", periods=10, freq=\"D\")\n",
    "series[\"l2\"].index = pd.date_range(\"1990-01-05\", periods=7, freq=\"D\")\n",
    "series[\"l3\"].index = pd.date_range(\"1990-01-03\", periods=7, freq=\"D\")\n",
    "\n",
    "exog = {\n",
    "    \"l1\": pd.Series(np.arange(100, 110), name=\"exog_1\", dtype=float),\n",
    "    \"l3\": pd.DataFrame(\n",
    "        {\"exog_1\": np.arange(203, 210, dtype=float), \n",
    "            \"exog_2\": np.arange(303, 310, dtype=float)}\n",
    "    ),\n",
    "}\n",
    "exog[\"l1\"].index = pd.date_range(\"1990-01-01\", periods=10, freq=\"D\")\n",
    "exog[\"l3\"].index = pd.date_range(\"1990-01-03\", periods=7, freq=\"D\")\n",
    "\n",
    "window_features = RollingFeatures(stats='mean', window_sizes=4)\n",
    "forecaster = ForecasterRecursiveMultiSeries(\n",
    "    LGBMRegressor(verbose=-1, random_state=123), lags=3, \n",
    "    encoding='ordinal', window_features=window_features,\n",
    "    transformer_series=None, differentiation={'l1': 1, 'l2': 2, 'l3': None}\n",
    ")\n",
    "\n",
    "if True:\n",
    "    forecaster.fit(series=series, exog=exog)\n",
    "\n",
    "results = forecaster._create_train_X_y(series=series, exog=exog)\n",
    "\n",
    "expected = (\n",
    "    pd.DataFrame(\n",
    "        data = np.array([[ 14., -15.,   7.,  22.25, 0., 106.  , np.nan],\n",
    "                            [-28.,  14., -15.,  -5.5 , 0., 107.  , np.nan],\n",
    "                            [ 33., -28.,  14.,   1.  , 0., 108.  , np.nan],\n",
    "                            [-85.,  33., -28., -16.5 , 0., 109.  , np.nan],\n",
    "                            [-65.,  21., -97., -18.25, 1., np.nan, np.nan],\n",
    "                            [ 10.,  88.,  94.,  67.  , 2., 209.  , 309.  ]]),\n",
    "        index   = pd.Index(\n",
    "                        pd.DatetimeIndex(\n",
    "                            ['1990-01-07', '1990-01-08', '1990-01-09', '1990-01-10',\n",
    "                            '1990-01-11', \n",
    "                            '1990-01-09']\n",
    "                        )\n",
    "                    ),\n",
    "        columns = ['lag_1', 'lag_2', 'lag_3', 'roll_mean_4', \n",
    "                    '_level_skforecast', 'exog_1', 'exog_2']\n",
    "    ).astype({'_level_skforecast': int}\n",
    "    ),\n",
    "    pd.Series(\n",
    "        data  = np.array([-28., 33., -85., 42., 80., 63.]),\n",
    "        index = pd.Index(\n",
    "                    pd.DatetimeIndex(\n",
    "                        ['1990-01-07', '1990-01-08', '1990-01-09', '1990-01-10',\n",
    "                            '1990-01-11', \n",
    "                            '1990-01-09']\n",
    "                    )\n",
    "                ),\n",
    "        name  = 'y',\n",
    "        dtype = float\n",
    "    ),\n",
    "    {'l1': pd.date_range(\"1990-01-01\", periods=10, freq='D'),\n",
    "        'l2': pd.date_range(\"1990-01-05\", periods=7, freq='D'),\n",
    "        'l3': pd.date_range(\"1990-01-03\", periods=7, freq='D')},\n",
    "    ['l1', 'l2', 'l3'],\n",
    "    ['l1', 'l2', 'l3'],\n",
    "    ['exog_1', 'exog_2'],\n",
    "    ['roll_mean_4'],\n",
    "    ['exog_1', 'exog_2'],\n",
    "    {'exog_1': exog['l1'].dtypes, 'exog_2': exog['l3'].dtypes},\n",
    "    {'l1': pd.Series(\n",
    "                data  = np.array([77, 91, 63, 96, 11, 53]),\n",
    "                index = pd.date_range(\"1990-01-05\", periods=6, freq='D'),\n",
    "                name  = 'l1',\n",
    "                dtype = float\n",
    "            ),\n",
    "        'l2': pd.Series(\n",
    "                data  = np.array([23, 98, 76, 75,  9, 23]),\n",
    "                index = pd.date_range(\"1990-01-06\", periods=6, freq='D'),\n",
    "                name  = 'l2',\n",
    "                dtype = float\n",
    "            ),\n",
    "        'l3': pd.Series(\n",
    "                data  = np.array([2, 76, 94, 88, 10, 63]),\n",
    "                index = pd.date_range(\"1990-01-04\", periods=6, freq='D'),\n",
    "                name  = 'l3',\n",
    "                dtype = float\n",
    "            )\n",
    "    }\n",
    ")\n",
    "\n",
    "pd.testing.assert_frame_equal(results[0], expected[0])\n",
    "pd.testing.assert_series_equal(results[1], expected[1])\n",
    "for k in results[2].keys():\n",
    "    pd.testing.assert_index_equal(results[2][k], expected[2][k])\n",
    "assert results[3] == expected[3]\n",
    "assert results[4] == expected[4]\n",
    "assert results[5] == expected[5]\n",
    "assert results[6] == expected[6]\n",
    "assert results[7] == expected[7]\n",
    "for k in results[8].keys():\n",
    "    assert results[8][k] == expected[8][k]\n",
    "for k in results[9].keys():\n",
    "    pd.testing.assert_series_equal(results[9][k], expected[9][k])"
   ]
  },
  {
   "cell_type": "code",
   "execution_count": 51,
   "metadata": {},
   "outputs": [
    {
     "data": {
      "text/plain": [
       "{'exog_1': dtype('float64'), 'exog_2': dtype('float64')}"
      ]
     },
     "execution_count": 51,
     "metadata": {},
     "output_type": "execute_result"
    }
   ],
   "source": [
    "results[8]"
   ]
  },
  {
   "cell_type": "code",
   "execution_count": 53,
   "metadata": {},
   "outputs": [
    {
     "data": {
      "text/plain": [
       "{'exog_1': dtype('float64'),\n",
       " 'exog_2': exog_1    float64\n",
       " exog_2    float64\n",
       " dtype: object}"
      ]
     },
     "execution_count": 53,
     "metadata": {},
     "output_type": "execute_result"
    }
   ],
   "source": [
    "expected[8]"
   ]
  },
  {
   "cell_type": "code",
   "execution_count": 52,
   "metadata": {},
   "outputs": [
    {
     "data": {
      "text/plain": [
       "lag_1                float64\n",
       "lag_2                float64\n",
       "lag_3                float64\n",
       "roll_mean_4          float64\n",
       "_level_skforecast      int32\n",
       "exog_1               float64\n",
       "exog_2               float64\n",
       "dtype: object"
      ]
     },
     "execution_count": 52,
     "metadata": {},
     "output_type": "execute_result"
    }
   ],
   "source": [
    "expected[0].dtypes"
   ]
  },
  {
   "cell_type": "code",
   "execution_count": 47,
   "metadata": {},
   "outputs": [
    {
     "data": {
      "text/plain": [
       "{'exog_1': dtype('float64'),\n",
       " 'exog_2': exog_1    float64\n",
       " exog_2    float64\n",
       " dtype: object}"
      ]
     },
     "execution_count": 47,
     "metadata": {},
     "output_type": "execute_result"
    }
   ],
   "source": [
    "{'exog_1': exog['l1'].dtypes, 'exog_2': exog['l3'].dtypes}"
   ]
  },
  {
   "cell_type": "code",
   "execution_count": 54,
   "metadata": {},
   "outputs": [
    {
     "name": "stderr",
     "output_type": "stream",
     "text": [
      "c:\\Users\\jaesc2\\GitHub\\skforecast\\skforecast\\recursive\\_forecaster_recursive_multiseries.py:486: UserWarning: When using a linear model, it is recommended to use a transformer_series to ensure all series are in the same scale. You can use, for example, a `StandardScaler` from sklearn.preprocessing.\n",
      "  warnings.warn(\n",
      "c:\\Users\\jaesc2\\GitHub\\skforecast\\skforecast\\utils\\utils.py:2529: MissingValuesWarning: Series 'l3' and its `exog` do not have the same length. Exog values will be NaN for the not matched period of the series. \n",
      " You can suppress this warning using: warnings.simplefilter('ignore', category=MissingValuesWarning)\n",
      "  warnings.warn(\n",
      "c:\\Users\\jaesc2\\GitHub\\skforecast\\skforecast\\utils\\utils.py:624: DataTypeWarning: `exog` may contain only `int`, `float` or `category` dtypes. Most machine learning models do not allow other types of values. Fitting the forecaster may fail. \n",
      " You can suppress this warning using: warnings.simplefilter('ignore', category=DataTypeWarning)\n",
      "  warnings.warn(\n",
      "c:\\Users\\jaesc2\\GitHub\\skforecast\\skforecast\\recursive\\_forecaster_recursive_multiseries.py:1112: MissingValuesWarning: NaNs detected in `y_train`. They have been dropped because the target variable cannot have NaN values. Same rows have been dropped from `X_train` to maintain alignment. This is caused by series with interspersed NaNs. \n",
      " You can suppress this warning using: warnings.simplefilter('ignore', category=MissingValuesWarning)\n",
      "  warnings.warn(\n",
      "c:\\Users\\jaesc2\\GitHub\\skforecast\\skforecast\\recursive\\_forecaster_recursive_multiseries.py:1134: MissingValuesWarning: NaNs detected in `X_train`. Some regressors do not allow NaN values during training. If you want to drop them, set `forecaster.dropna_from_series = True`. \n",
      " You can suppress this warning using: warnings.simplefilter('ignore', category=MissingValuesWarning)\n",
      "  warnings.warn(\n"
     ]
    },
    {
     "data": {
      "text/plain": [
       "{'exog_1': dtype('float64'), 'exog_2': dtype('O')}"
      ]
     },
     "execution_count": 54,
     "metadata": {},
     "output_type": "execute_result"
    }
   ],
   "source": [
    "series = {\n",
    "    'l1': pd.Series(np.arange(10, dtype=float)), \n",
    "    'l2': pd.Series(np.arange(15, 20, dtype=float)),\n",
    "    'l3': pd.Series(np.arange(20, 25, dtype=float))\n",
    "}\n",
    "series['l1'].loc[3] = np.nan\n",
    "series['l2'].loc[2] = np.nan\n",
    "series['l1'].index = pd.date_range(\"1990-01-01\", periods=10, freq='D')\n",
    "series['l2'].index = pd.date_range(\"1990-01-05\", periods=5, freq='D')\n",
    "series['l3'].index = pd.date_range(\"1990-01-03\", periods=5, freq='D')\n",
    "\n",
    "exog = {\n",
    "    'l1': pd.Series(np.arange(100, 110), name='exog_1', dtype=float),\n",
    "    'l2': None,\n",
    "    'l3': pd.DataFrame({'exog_1': np.arange(203, 207, dtype=float),\n",
    "                        'exog_2': ['a', 'b', 'a', 'b']})\n",
    "}\n",
    "exog['l1'].index = pd.date_range(\"1990-01-01\", periods=10, freq='D')\n",
    "exog['l3'].index = pd.date_range(\"1990-01-03\", periods=4, freq='D')\n",
    "\n",
    "forecaster = ForecasterRecursiveMultiSeries(LinearRegression(), lags=3,\n",
    "                                            encoding='onehot',\n",
    "                                            transformer_series=None,\n",
    "                                            dropna_from_series=False)\n",
    "results = forecaster._create_train_X_y(series=series, exog=exog)\n",
    "results[-2]"
   ]
  },
  {
   "cell_type": "code",
   "execution_count": 57,
   "metadata": {},
   "outputs": [
    {
     "name": "stderr",
     "output_type": "stream",
     "text": [
      "c:\\Users\\jaesc2\\GitHub\\skforecast\\skforecast\\recursive\\_forecaster_recursive_multiseries.py:486: UserWarning: When using a linear model, it is recommended to use a transformer_series to ensure all series are in the same scale. You can use, for example, a `StandardScaler` from sklearn.preprocessing.\n",
      "  warnings.warn(\n",
      "c:\\Users\\jaesc2\\GitHub\\skforecast\\skforecast\\utils\\utils.py:2529: MissingValuesWarning: Series 'l3' and its `exog` do not have the same length. Exog values will be NaN for the not matched period of the series. \n",
      " You can suppress this warning using: warnings.simplefilter('ignore', category=MissingValuesWarning)\n",
      "  warnings.warn(\n",
      "c:\\Users\\jaesc2\\GitHub\\skforecast\\skforecast\\utils\\utils.py:624: DataTypeWarning: `exog` may contain only `int`, `float` or `category` dtypes. Most machine learning models do not allow other types of values. Fitting the forecaster may fail. \n",
      " You can suppress this warning using: warnings.simplefilter('ignore', category=DataTypeWarning)\n",
      "  warnings.warn(\n",
      "c:\\Users\\jaesc2\\GitHub\\skforecast\\skforecast\\recursive\\_forecaster_recursive_multiseries.py:1112: MissingValuesWarning: NaNs detected in `y_train`. They have been dropped because the target variable cannot have NaN values. Same rows have been dropped from `X_train` to maintain alignment. This is caused by series with interspersed NaNs. \n",
      " You can suppress this warning using: warnings.simplefilter('ignore', category=MissingValuesWarning)\n",
      "  warnings.warn(\n",
      "c:\\Users\\jaesc2\\GitHub\\skforecast\\skforecast\\recursive\\_forecaster_recursive_multiseries.py:1134: MissingValuesWarning: NaNs detected in `X_train`. Some regressors do not allow NaN values during training. If you want to drop them, set `forecaster.dropna_from_series = True`. \n",
      " You can suppress this warning using: warnings.simplefilter('ignore', category=MissingValuesWarning)\n",
      "  warnings.warn(\n"
     ]
    }
   ],
   "source": [
    "series = {\n",
    "        'l1': pd.Series(np.arange(10, dtype=float)), \n",
    "        'l2': pd.Series(np.arange(15, 20, dtype=float)),\n",
    "        'l3': pd.Series(np.arange(20, 25, dtype=float))\n",
    "}\n",
    "series['l1'].loc[3] = np.nan\n",
    "series['l2'].loc[2] = np.nan\n",
    "series['l1'].index = pd.date_range(\"1990-01-01\", periods=10, freq='D')\n",
    "series['l2'].index = pd.date_range(\"1990-01-05\", periods=5, freq='D')\n",
    "series['l3'].index = pd.date_range(\"1990-01-03\", periods=5, freq='D')\n",
    "\n",
    "exog = {\n",
    "    'l1': pd.Series(np.arange(100, 110), name='exog_1', dtype=float),\n",
    "    'l2': None,\n",
    "    'l3': pd.DataFrame({'exog_1': np.arange(203, 207, dtype=float),\n",
    "                        'exog_2': ['a', 'b', 'a', 'b']})\n",
    "}\n",
    "exog['l1'].index = pd.date_range(\"1990-01-01\", periods=10, freq='D')\n",
    "exog['l3'].index = pd.date_range(\"1990-01-03\", periods=4, freq='D')\n",
    "\n",
    "forecaster = ForecasterRecursiveMultiSeries(LinearRegression(), lags=3,\n",
    "                                            encoding='onehot',\n",
    "                                            transformer_series=None,\n",
    "                                            dropna_from_series=False)\n",
    "results = forecaster._create_train_X_y(series=series, exog=exog)\n",
    "\n",
    "expected = (\n",
    "    pd.DataFrame(\n",
    "        data = np.array([[np.nan, 2., 1., 1., 0., 0., 104., np.nan],\n",
    "                            [4., np.nan, 2., 1., 0., 0., 105., np.nan],\n",
    "                            [5., 4., np.nan, 1., 0., 0., 106., np.nan],\n",
    "                            [6., 5., 4., 1., 0., 0., 107., np.nan],\n",
    "                            [7., 6., 5., 1., 0., 0., 108., np.nan],\n",
    "                            [8., 7., 6., 1., 0., 0., 109., np.nan],\n",
    "                            [np.nan, 16., 15., 0., 1., 0., np.nan, np.nan],\n",
    "                            [18., np.nan, 16., 0., 1., 0., np.nan, np.nan],\n",
    "                            [22., 21., 20., 0., 0., 1., 206., 'b'],\n",
    "                            [23., 22., 21., 0., 0., 1., np.nan, np.nan]]),\n",
    "        index   = pd.Index(\n",
    "                        pd.DatetimeIndex(\n",
    "                            ['1990-01-05', '1990-01-06', '1990-01-07', '1990-01-08',\n",
    "                            '1990-01-09', '1990-01-10',\n",
    "                            '1990-01-08', '1990-01-09', \n",
    "                            '1990-01-06', '1990-01-07']\n",
    "                        )\n",
    "                    ),\n",
    "        columns = ['lag_1', 'lag_2', 'lag_3', 'l1', 'l2', 'l3', \n",
    "                    'exog_1', 'exog_2']\n",
    "    ).astype({'lag_1': float, 'lag_2': float, 'lag_3': float, 'l1': float, \n",
    "                'l2': float, 'l3': float, 'exog_1': float, 'exog_2': object}\n",
    "    ).astype({'l1': int, 'l2': int, 'l3': int}\n",
    "    ),\n",
    "    pd.Series(\n",
    "        data  = np.array([4., 5., 6., 7., 8., 9., 18., 19., 23., 24.]),\n",
    "        index = pd.Index(\n",
    "                    pd.DatetimeIndex(\n",
    "                        ['1990-01-05', '1990-01-06',\n",
    "                            '1990-01-07', '1990-01-08',\n",
    "                            '1990-01-09', '1990-01-10',\n",
    "                            '1990-01-08', '1990-01-09', \n",
    "                            '1990-01-06', '1990-01-07']\n",
    "                    )\n",
    "                ),\n",
    "        name  = 'y',\n",
    "        dtype = float\n",
    "    ),\n",
    "    {'l1': pd.date_range(\"1990-01-01\", periods=10, freq='D'),\n",
    "        'l2': pd.date_range(\"1990-01-05\", periods=5, freq='D'),\n",
    "        'l3': pd.date_range(\"1990-01-03\", periods=5, freq='D')},\n",
    "    ['l1', 'l2', 'l3'],\n",
    "    ['l1', 'l2', 'l3'],\n",
    "    ['exog_1', 'exog_2'],\n",
    "    None,\n",
    "    ['exog_1', 'exog_2'],\n",
    "    {'exog_1': exog['l1'].dtypes,\n",
    "        'exog_2': exog['l3'].dtypes},\n",
    "    {'l1': pd.Series(\n",
    "                data  = np.array([7., 8., 9.]),\n",
    "                index = pd.date_range(\"1990-01-08\", periods=3, freq='D'),\n",
    "                name  = 'l1',\n",
    "                dtype = float\n",
    "            ),\n",
    "        'l2': pd.Series(\n",
    "                data  = np.array([np.nan, 18., 19.]),\n",
    "                index = pd.date_range(\"1990-01-07\", periods=3, freq='D'),\n",
    "                name  = 'l2',\n",
    "                dtype = float\n",
    "            ),\n",
    "        'l3': pd.Series(\n",
    "                data  = np.array([22., 23., 24.]),\n",
    "                index = pd.date_range(\"1990-01-05\", periods=3, freq='D'),\n",
    "                name  = 'l3',\n",
    "                dtype = float\n",
    "            )\n",
    "    }\n",
    ")\n",
    "expected[0].iloc[[0, 1, 2, 3, 4, 5, 6, 7, 9], -1] = np.nan"
   ]
  },
  {
   "cell_type": "code",
   "execution_count": 58,
   "metadata": {},
   "outputs": [
    {
     "data": {
      "text/plain": [
       "{'exog_1': dtype('float64'),\n",
       " 'exog_2': exog_1    float64\n",
       " exog_2     object\n",
       " dtype: object}"
      ]
     },
     "execution_count": 58,
     "metadata": {},
     "output_type": "execute_result"
    }
   ],
   "source": [
    "expected[-2]"
   ]
  },
  {
   "cell_type": "code",
   "execution_count": 59,
   "metadata": {},
   "outputs": [
    {
     "data": {
      "text/plain": [
       "{'exog_1': dtype('float64'), 'exog_2': dtype('O')}"
      ]
     },
     "execution_count": 59,
     "metadata": {},
     "output_type": "execute_result"
    }
   ],
   "source": [
    "results[-2]"
   ]
  },
  {
   "cell_type": "code",
   "execution_count": null,
   "metadata": {},
   "outputs": [
    {
     "data": {
      "text/plain": [
       "{'exog_1': dtype('float64'), 'exog_2': dtype('O')}"
      ]
     },
     "execution_count": 60,
     "metadata": {},
     "output_type": "execute_result"
    }
   ],
   "source": [
    "{'exog': np.dtype('float')}\n",
    "{'exog_1': np.dtype('float'), 'exog_2': np.dtype('O')}\n",
    "{'exog_1': np.dtype('float'), \n",
    " 'exog_2': np.dtype('int'), \n",
    " 'exog_3': pd.CategoricalDtype(categories=range(100, 110))\n",
    "}"
   ]
  },
  {
   "cell_type": "code",
   "execution_count": 67,
   "metadata": {},
   "outputs": [
    {
     "data": {
      "text/plain": [
       "dtype('<U')"
      ]
     },
     "execution_count": 67,
     "metadata": {},
     "output_type": "execute_result"
    }
   ],
   "source": [
    "np.dtype(type('s'))"
   ]
  },
  {
   "cell_type": "code",
   "execution_count": 72,
   "metadata": {},
   "outputs": [
    {
     "data": {
      "text/plain": [
       "{'exog': dtype('O')}"
      ]
     },
     "execution_count": 72,
     "metadata": {},
     "output_type": "execute_result"
    }
   ],
   "source": [
    "dtype = str\n",
    "{'exog': np.dtype(dtype)} if dtype is bool else {'exog': np.dtype('O')}"
   ]
  },
  {
   "cell_type": "code",
   "execution_count": null,
   "metadata": {},
   "outputs": [],
   "source": []
  }
 ],
 "metadata": {
  "kernelspec": {
   "display_name": "skforecast_py11_2",
   "language": "python",
   "name": "python3"
  },
  "language_info": {
   "codemirror_mode": {
    "name": "ipython",
    "version": 3
   },
   "file_extension": ".py",
   "mimetype": "text/x-python",
   "name": "python",
   "nbconvert_exporter": "python",
   "pygments_lexer": "ipython3",
   "version": "3.11.10"
  },
  "orig_nbformat": 4
 },
 "nbformat": 4,
 "nbformat_minor": 2
}
