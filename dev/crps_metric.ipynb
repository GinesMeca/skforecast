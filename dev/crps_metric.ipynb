{
 "cells": [
  {
   "cell_type": "code",
   "execution_count": 1,
   "metadata": {},
   "outputs": [
    {
     "name": "stdout",
     "output_type": "stream",
     "text": [
      "/home/ubuntu/varios/skforecast\n"
     ]
    }
   ],
   "source": [
    "%load_ext autoreload\n",
    "%autoreload 2\n",
    "import sys\n",
    "from pathlib import Path\n",
    "path = str(Path.cwd().parent)\n",
    "print(path)\n",
    "sys.path.insert(1, path)"
   ]
  },
  {
   "cell_type": "code",
   "execution_count": 2,
   "metadata": {},
   "outputs": [],
   "source": [
    "# !pip install properscoring\n",
    "# !pip install CRPS\n",
    "# !pip install pymc_marketing"
   ]
  },
  {
   "cell_type": "markdown",
   "metadata": {},
   "source": [
    "## CRPS score from skforecast predictions"
   ]
  },
  {
   "cell_type": "markdown",
   "metadata": {},
   "source": [
    "En Skforecast hay varias opciones para obtener previsiones probabilísticas; dos de ellas son:\n",
    "\n",
    "1) Obtener múltiples predicciones para cada paso, donde cada predicción es un posible valor obtenido mediante bootstraping. Es decir, se dispone de un valor y_true y de un array de predicciones para el mismo timestamp.\n",
    "\n",
    "2) Obtener los diferentes cuantiles: q05, q10, q20, etc., para cada predicción. Es decir, se dispone de un valor y_true y de un array de cuantiles para ese mismo timestamp."
   ]
  },
  {
   "cell_type": "markdown",
   "metadata": {},
   "source": [
    "## CRPS score from an array of predictions"
   ]
  },
  {
   "cell_type": "code",
   "execution_count": null,
   "metadata": {},
   "outputs": [
    {
     "data": {
      "text/plain": [
       "1.153451758995442"
      ]
     },
     "execution_count": 3,
     "metadata": {},
     "output_type": "execute_result"
    }
   ],
   "source": [
    "# Custom function\n",
    "# ==============================================================================\n",
    "# https://juanitorduz.github.io/electricity_forecast/\n",
    "\n",
    "import numpy as np\n",
    "\n",
    "def crps_emprical(\n",
    "    y_truth: float,\n",
    "    y_pred: np.ndarray,\n",
    "    sample_weight = None,\n",
    ") -> float:\n",
    "    \"\"\"\n",
    "    Compute the Continuous Ranked Probability Score (CRPS) for  a set of\n",
    "    explicit forecast realizations. The CRPS compares the empirical distribution\n",
    "    of an ensemble forecast to a scalar observation. The smaller the CRPS, the\n",
    "    better the forecasted distribution.\n",
    "\n",
    "    Parameters\n",
    "    ----------\n",
    "    y_truth : float\n",
    "        The true value of the random variable.\n",
    "    y_pred : np.ndarray\n",
    "        The predicted values of the random variable. These are the multiple\n",
    "        forecasted values for a single observation.\n",
    "    sample_weight : np.ndarray, optional\n",
    "        Weights for each sample.\n",
    "\n",
    "    Returns\n",
    "    -------\n",
    "    float\n",
    "        The CRPS score.\n",
    "    \"\"\"\n",
    "    absolute_error = np.mean(np.abs(y_pred - y_truth), axis=0)\n",
    "    num_samples = len(y_pred)\n",
    "    if num_samples == 1:\n",
    "        return np.average(absolute_error, weights=sample_weight)\n",
    "\n",
    "    y_pred = np.sort(y_pred, axis=0)\n",
    "    diff = y_pred[1:] - y_pred[:-1]\n",
    "    weight = np.arange(1, num_samples) * np.arange(num_samples - 1, 0, -1)\n",
    "    weight = weight.reshape(weight.shape + (1,) * (diff.ndim - 1))\n",
    "    per_obs_crps = absolute_error - np.sum(diff * weight, axis=0) / num_samples**2\n",
    "\n",
    "    return np.average(per_obs_crps, weights=sample_weight)\n",
    "\n",
    "\n",
    "y_true = 5\n",
    "y_pred = np.random.normal(5, 5, 250)\n",
    "\n",
    "crps_emprical(\n",
    "    y_true,\n",
    "    y_pred\n",
    ")"
   ]
  },
  {
   "cell_type": "code",
   "execution_count": 4,
   "metadata": {},
   "outputs": [
    {
     "data": {
      "text/plain": [
       "1.1534517589954416"
      ]
     },
     "execution_count": 4,
     "metadata": {},
     "output_type": "execute_result"
    }
   ],
   "source": [
    "# properscoring\n",
    "# ==============================================================================\n",
    "import numpy as np\n",
    "import properscoring as ps\n",
    "ps.crps_ensemble(\n",
    "    y_true,\n",
    "    y_pred\n",
    ")"
   ]
  },
  {
   "cell_type": "code",
   "execution_count": 5,
   "metadata": {},
   "outputs": [
    {
     "data": {
      "text/plain": [
       "1.1534517589954425"
      ]
     },
     "execution_count": 5,
     "metadata": {},
     "output_type": "execute_result"
    }
   ],
   "source": [
    "# CRPS\n",
    "# ==============================================================================\n",
    "import CRPS.CRPS as pscore\n",
    "pscore(y_pred, y_true).compute()[0]"
   ]
  },
  {
   "cell_type": "code",
   "execution_count": 6,
   "metadata": {},
   "outputs": [
    {
     "name": "stderr",
     "output_type": "stream",
     "text": [
      "WARNING (pytensor.configdefaults): g++ not detected!  PyTensor will be unable to compile C-implementations and will default to Python. Performance may be severely degraded. To remove this warning, set PyTensor flags cxx to an empty string.\n",
      "WARNING (pytensor.tensor.blas): Using NumPy C-API based implementation for BLAS functions.\n"
     ]
    },
    {
     "data": {
      "text/plain": [
       "1.153451758995442"
      ]
     },
     "execution_count": 6,
     "metadata": {},
     "output_type": "execute_result"
    }
   ],
   "source": [
    "# pymc_marketing\n",
    "# ==============================================================================\n",
    "import numpy as np\n",
    "from pymc_marketing.metrics import crps\n",
    "crps(y_true, y_pred.reshape(-1, 1))"
   ]
  },
  {
   "cell_type": "markdown",
   "metadata": {},
   "source": [
    "## Testing equivalence"
   ]
  },
  {
   "cell_type": "code",
   "execution_count": 7,
   "metadata": {},
   "outputs": [
    {
     "data": {
      "text/html": [
       "<div>\n",
       "<style scoped>\n",
       "    .dataframe tbody tr th:only-of-type {\n",
       "        vertical-align: middle;\n",
       "    }\n",
       "\n",
       "    .dataframe tbody tr th {\n",
       "        vertical-align: top;\n",
       "    }\n",
       "\n",
       "    .dataframe thead th {\n",
       "        text-align: right;\n",
       "    }\n",
       "</style>\n",
       "<table border=\"1\" class=\"dataframe\">\n",
       "  <thead>\n",
       "    <tr style=\"text-align: right;\">\n",
       "      <th></th>\n",
       "      <th>y_true</th>\n",
       "      <th>y_pred_bootstrapping</th>\n",
       "      <th>custom_crps</th>\n",
       "      <th>proper_crps</th>\n",
       "      <th>pymc_crps</th>\n",
       "    </tr>\n",
       "  </thead>\n",
       "  <tbody>\n",
       "    <tr>\n",
       "      <th>0</th>\n",
       "      <td>-97</td>\n",
       "      <td>[8, 1, 85, 51, 10, -3, 79, 65, 38, 8, -79, -29...</td>\n",
       "      <td>64.5376</td>\n",
       "      <td>64.5376</td>\n",
       "      <td>64.5376</td>\n",
       "    </tr>\n",
       "    <tr>\n",
       "      <th>1</th>\n",
       "      <td>36</td>\n",
       "      <td>[91, 94, -24, -46, -79, -75, -89, 53, -15, -16...</td>\n",
       "      <td>27.5420</td>\n",
       "      <td>27.5420</td>\n",
       "      <td>27.5420</td>\n",
       "    </tr>\n",
       "    <tr>\n",
       "      <th>2</th>\n",
       "      <td>18</td>\n",
       "      <td>[-97, -45, -2, 10, 53, 7, -92, -14, -13, -30, ...</td>\n",
       "      <td>19.3036</td>\n",
       "      <td>19.3036</td>\n",
       "      <td>19.3036</td>\n",
       "    </tr>\n",
       "    <tr>\n",
       "      <th>3</th>\n",
       "      <td>-90</td>\n",
       "      <td>[-18, 2, 88, -100, -76, 65, -38, 66, 85, -33, ...</td>\n",
       "      <td>56.1820</td>\n",
       "      <td>56.1820</td>\n",
       "      <td>56.1820</td>\n",
       "    </tr>\n",
       "    <tr>\n",
       "      <th>4</th>\n",
       "      <td>81</td>\n",
       "      <td>[9, -48, -88, -8, -37, 56, -33, -36, -24, -92,...</td>\n",
       "      <td>65.8704</td>\n",
       "      <td>65.8704</td>\n",
       "      <td>65.8704</td>\n",
       "    </tr>\n",
       "    <tr>\n",
       "      <th>...</th>\n",
       "      <td>...</td>\n",
       "      <td>...</td>\n",
       "      <td>...</td>\n",
       "      <td>...</td>\n",
       "      <td>...</td>\n",
       "    </tr>\n",
       "    <tr>\n",
       "      <th>495</th>\n",
       "      <td>-88</td>\n",
       "      <td>[27, -75, -46, -19, -82, -47, 69, -31, 10, 89,...</td>\n",
       "      <td>56.8668</td>\n",
       "      <td>56.8668</td>\n",
       "      <td>56.8668</td>\n",
       "    </tr>\n",
       "    <tr>\n",
       "      <th>496</th>\n",
       "      <td>-33</td>\n",
       "      <td>[-72, 78, -44, 51, 51, 4, -25, -94, 25, 83, 62...</td>\n",
       "      <td>21.5112</td>\n",
       "      <td>21.5112</td>\n",
       "      <td>21.5112</td>\n",
       "    </tr>\n",
       "    <tr>\n",
       "      <th>497</th>\n",
       "      <td>-45</td>\n",
       "      <td>[58, -65, 55, 33, 87, 71, 28, 18, -83, -37, 5,...</td>\n",
       "      <td>42.1032</td>\n",
       "      <td>42.1032</td>\n",
       "      <td>42.1032</td>\n",
       "    </tr>\n",
       "    <tr>\n",
       "      <th>498</th>\n",
       "      <td>98</td>\n",
       "      <td>[-80, -16, 89, -78, -51, 95, -17, -23, 63, 20,...</td>\n",
       "      <td>75.9720</td>\n",
       "      <td>75.9720</td>\n",
       "      <td>75.9720</td>\n",
       "    </tr>\n",
       "    <tr>\n",
       "      <th>499</th>\n",
       "      <td>-22</td>\n",
       "      <td>[-63, 54, 13, -19, 90, 33, 31, -46, -98, -98, ...</td>\n",
       "      <td>16.0084</td>\n",
       "      <td>16.0084</td>\n",
       "      <td>16.0084</td>\n",
       "    </tr>\n",
       "  </tbody>\n",
       "</table>\n",
       "<p>500 rows × 5 columns</p>\n",
       "</div>"
      ],
      "text/plain": [
       "     y_true                               y_pred_bootstrapping  custom_crps  \\\n",
       "0       -97  [8, 1, 85, 51, 10, -3, 79, 65, 38, 8, -79, -29...      64.5376   \n",
       "1        36  [91, 94, -24, -46, -79, -75, -89, 53, -15, -16...      27.5420   \n",
       "2        18  [-97, -45, -2, 10, 53, 7, -92, -14, -13, -30, ...      19.3036   \n",
       "3       -90  [-18, 2, 88, -100, -76, 65, -38, 66, 85, -33, ...      56.1820   \n",
       "4        81  [9, -48, -88, -8, -37, 56, -33, -36, -24, -92,...      65.8704   \n",
       "..      ...                                                ...          ...   \n",
       "495     -88  [27, -75, -46, -19, -82, -47, 69, -31, 10, 89,...      56.8668   \n",
       "496     -33  [-72, 78, -44, 51, 51, 4, -25, -94, 25, 83, 62...      21.5112   \n",
       "497     -45  [58, -65, 55, 33, 87, 71, 28, 18, -83, -37, 5,...      42.1032   \n",
       "498      98  [-80, -16, 89, -78, -51, 95, -17, -23, 63, 20,...      75.9720   \n",
       "499     -22  [-63, 54, 13, -19, 90, 33, 31, -46, -98, -98, ...      16.0084   \n",
       "\n",
       "     proper_crps  pymc_crps  \n",
       "0        64.5376    64.5376  \n",
       "1        27.5420    27.5420  \n",
       "2        19.3036    19.3036  \n",
       "3        56.1820    56.1820  \n",
       "4        65.8704    65.8704  \n",
       "..           ...        ...  \n",
       "495      56.8668    56.8668  \n",
       "496      21.5112    21.5112  \n",
       "497      42.1032    42.1032  \n",
       "498      75.9720    75.9720  \n",
       "499      16.0084    16.0084  \n",
       "\n",
       "[500 rows x 5 columns]"
      ]
     },
     "execution_count": 7,
     "metadata": {},
     "output_type": "execute_result"
    }
   ],
   "source": [
    "import pandas as pd\n",
    "\n",
    "rng = np.random.default_rng(123)\n",
    "n = 500\n",
    "df = pd.DataFrame({\n",
    "    'y_true': rng.integers(-100, 100, 500),\n",
    "    'y_pred_bootstrapping': [rng.integers(-100, 100, 50) for _ in range(n)]\n",
    "})\n",
    "\n",
    "df['custom_crps'] = df.apply(lambda x: crps_emprical(x['y_true'], x['y_pred_bootstrapping']), axis=1)\n",
    "df['proper_crps'] = df.apply(lambda x: ps.crps_ensemble(x['y_true'], x['y_pred_bootstrapping']), axis=1)\n",
    "df['pymc_crps'] = df.apply(lambda x: crps(x['y_true'], x['y_pred_bootstrapping'].reshape(-1, 1)), axis=1)\n",
    "\n",
    "assert np.allclose(df['custom_crps'], df['proper_crps'])\n",
    "assert np.allclose(df['custom_crps'], df['pymc_crps'])\n",
    "\n",
    "df"
   ]
  },
  {
   "cell_type": "markdown",
   "metadata": {},
   "source": [
    "## CRPS score from an array of quantiles"
   ]
  },
  {
   "cell_type": "code",
   "execution_count": 8,
   "metadata": {},
   "outputs": [],
   "source": [
    "import numpy as np\n",
    "import properscoring as ps\n",
    "from scipy.interpolate import interp1d\n",
    "\n",
    "# Example true value\n",
    "true_value = np.array([5.0])\n",
    "\n",
    "# Example predicted 10 quantiles and their corresponding levels\n",
    "quantile_levels     = np.array([0.00, 0.025, 0.05, 0.10, 0.15, 0.20, 0.25, 0.30, 0.35, 0.40, 0.45, 0.50, 0.55, 0.60, 0.65, 0.70, 0.75, 0.80, 0.85, 0.90, 0.95, 0.975, 1.00])\n",
    "predicted_quantiles = np.array([0.1, 1.0, 1.5, 2.0, 2.5, 3.0, 3.5, 4.0, 4.5, 5.0, 5.5, 6.0, 6.5, 7.0, 7.5, 8.0, 8.5, 9.0, 9.5, 10.0, 10.5, 11.0, 11.5])"
   ]
  },
  {
   "cell_type": "code",
   "execution_count": 12,
   "metadata": {},
   "outputs": [
    {
     "data": {
      "text/plain": [
       "0.9342500002584768"
      ]
     },
     "execution_count": 12,
     "metadata": {},
     "output_type": "execute_result"
    }
   ],
   "source": [
    "# crps_quadrature\n",
    "# ==============================================================================\n",
    "# Create an empirical CDF function using interpolation\n",
    "\n",
    "def crps_quadrature_from_quantiles(true_value, predicted_quantiles, quantile_levels):\n",
    "    \"\"\"\n",
    "    Calculate the Continuous Ranked Probability Score (CRPS) for a given true value\n",
    "    and predicted quantiles using the function crps_quadrature from the properscoring\n",
    "    library.\n",
    "\n",
    "    Parameters\n",
    "    ----------\n",
    "    true_value : float\n",
    "        The true value of the random variable.\n",
    "    predicted_quantiles : np.array\n",
    "        The predicted quantile values.\n",
    "    quantile_levels : np.array\n",
    "        The quantile levels corresponding to the predicted quantiles.\n",
    "\n",
    "    Returns\n",
    "    -------\n",
    "    float\n",
    "        The CRPS score.\n",
    "    \"\"\"\n",
    "    if len(predicted_quantiles) != len(quantile_levels):\n",
    "        raise ValueError(\"The number of predicted quantiles and quantile levels must be equal.\")\n",
    "    \n",
    "    def empirical_cdf(x):\n",
    "        # Interpolate between quantile levels and quantile values\n",
    "        cdf_func = interp1d(predicted_quantiles, quantile_levels, bounds_error=False, fill_value=(0.0, 1.0))\n",
    "        return cdf_func(x)\n",
    "\n",
    "    # Integration bounds\n",
    "    xmin = np.min(predicted_quantiles) - 1  # lower bound\n",
    "    xmax = np.max(predicted_quantiles) + 1  # upper bound\n",
    "\n",
    "    # Compute CRPS\n",
    "    crps = ps.crps_quadrature(true_value, empirical_cdf, xmin, xmax)\n",
    "    \n",
    "    return crps[0]\n",
    "\n",
    "crps_quadrature_from_quantiles(true_value, predicted_quantiles, quantile_levels)"
   ]
  },
  {
   "cell_type": "code",
   "execution_count": 13,
   "metadata": {},
   "outputs": [
    {
     "name": "stdout",
     "output_type": "stream",
     "text": [
      "CRPS: 0.934568678091545\n"
     ]
    }
   ],
   "source": [
    "import numpy as np\n",
    "\n",
    "def crps_quantile_interpolation(true_value, predicted_quantiles, quantile_levels):\n",
    "    \"\"\"\n",
    "    Calculate the Continuous Ranked Probability Score (CRPS) for a given true value\n",
    "    and predicted quantiles. The empirical cdf is approximated using linear interpolation\n",
    "    between the predicted quantiles.\n",
    "\n",
    "    Parameters\n",
    "    ----------\n",
    "    true_value : float\n",
    "        The true value of the random variable.\n",
    "    predicted_quantiles : np.array\n",
    "        The predicted quantile values.\n",
    "    quantile_levels : np.array\n",
    "        The quantile levels corresponding to the predicted quantiles.\n",
    "\n",
    "    Returns\n",
    "    -------\n",
    "    float\n",
    "        The CRPS score.\n",
    "    \"\"\"\n",
    "    if len(predicted_quantiles) != len(quantile_levels):\n",
    "        raise ValueError(\"The number of predicted quantiles and quantile levels must be equal.\")\n",
    "\n",
    "    sorted_indices = np.argsort(predicted_quantiles)\n",
    "    predicted_quantiles = predicted_quantiles[sorted_indices]\n",
    "    quantile_levels = quantile_levels[sorted_indices]\n",
    "\n",
    "    # Define the empirical CDF function using interpolation\n",
    "    def empirical_cdf(x):\n",
    "        return np.interp(x, predicted_quantiles, quantile_levels, left=0.0, right=1.0)\n",
    "\n",
    "    # Define the CRPS integrand\n",
    "    def crps_integrand(x):\n",
    "        return (empirical_cdf(x) - (x >= true_value)) ** 2\n",
    "\n",
    "    # Integration bounds: Extend slightly beyond predicted quantiles\n",
    "    xmin = np.min(predicted_quantiles) - 2\n",
    "    xmax = np.max(predicted_quantiles) + 2\n",
    "\n",
    "    # Create a fine grid of x values for integration\n",
    "    x_values = np.linspace(xmin, xmax, 1000)\n",
    "\n",
    "    # Compute the integrand values and integrate using the trapezoidal rule\n",
    "    integrand_values = crps_integrand(x_values)\n",
    "    crps = np.trapz(integrand_values, x_values)\n",
    "\n",
    "    return crps\n",
    "\n",
    "\n",
    "crps_score = crps_quantile_interpolation(true_value, predicted_quantiles, quantile_levels)\n",
    "print(\"CRPS:\", crps_score)\n"
   ]
  },
  {
   "cell_type": "code",
   "execution_count": 14,
   "metadata": {},
   "outputs": [
    {
     "name": "stdout",
     "output_type": "stream",
     "text": [
      "CRPS: [0.988125]\n"
     ]
    }
   ],
   "source": [
    "import numpy as np\n",
    "\n",
    "def crps_quantile_no_interpolation(true_value, predicted_quantiles, quantile_levels):\n",
    "    \"\"\"\n",
    "    Calculate CRPS using predicted quantiles, treating the CDF as a step function.\n",
    "\n",
    "    Parameters\n",
    "    ----------\n",
    "    true_value : float\n",
    "        The true value of the random variable.\n",
    "    predicted_quantiles : np.array\n",
    "        The predicted quantile values.\n",
    "    quantile_levels : np.array\n",
    "        The quantile levels corresponding to the predicted quantiles.\n",
    "\n",
    "    Returns\n",
    "    -------\n",
    "    float\n",
    "        The CRPS score.\n",
    "    \"\"\"\n",
    "    # Ensure inputs are numpy arrays and sorted\n",
    "    predicted_quantiles = np.array(predicted_quantiles)\n",
    "    quantile_levels = np.array(quantile_levels)\n",
    "    \n",
    "    sorted_indices = np.argsort(predicted_quantiles)\n",
    "    predicted_quantiles = predicted_quantiles[sorted_indices]\n",
    "    quantile_levels = quantile_levels[sorted_indices]\n",
    "\n",
    "    # Initialize CRPS sum\n",
    "    crps = 0.0\n",
    "\n",
    "    # Iterate through each quantile segment\n",
    "    for i in range(len(predicted_quantiles) - 1):\n",
    "        q_i = predicted_quantiles[i]\n",
    "        q_next = predicted_quantiles[i + 1]\n",
    "        F_i = quantile_levels[i]\n",
    "        \n",
    "        # Heaviside step function difference\n",
    "        heaviside_diff = F_i - (q_i >= true_value)\n",
    "        \n",
    "        # Segment width (difference between consecutive quantiles)\n",
    "        segment_width = q_next - q_i\n",
    "        \n",
    "        # Add contribution of this segment to CRPS\n",
    "        crps += heaviside_diff ** 2 * segment_width\n",
    "    \n",
    "    return crps\n",
    "\n",
    "# Example usage:\n",
    "crps_score = crps_quantile_no_interpolation(true_value, predicted_quantiles, quantile_levels)\n",
    "print(\"CRPS:\", crps_score)\n"
   ]
  }
 ],
 "metadata": {
  "kernelspec": {
   "display_name": "skforecast_14_py12",
   "language": "python",
   "name": "python3"
  },
  "language_info": {
   "codemirror_mode": {
    "name": "ipython",
    "version": 3
   },
   "file_extension": ".py",
   "mimetype": "text/x-python",
   "name": "python",
   "nbconvert_exporter": "python",
   "pygments_lexer": "ipython3",
   "version": "3.12.5"
  },
  "orig_nbformat": 4
 },
 "nbformat": 4,
 "nbformat_minor": 2
}
