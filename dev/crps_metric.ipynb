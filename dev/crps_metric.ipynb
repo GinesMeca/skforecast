{
 "cells": [
  {
   "cell_type": "code",
   "execution_count": 1,
   "metadata": {},
   "outputs": [
    {
     "name": "stdout",
     "output_type": "stream",
     "text": [
      "c:\\Users\\Joaquín Amat\\Documents\\GitHub\\skforecast\n"
     ]
    }
   ],
   "source": [
    "%load_ext autoreload\n",
    "%autoreload 2\n",
    "import sys\n",
    "from pathlib import Path\n",
    "path = str(Path.cwd().parent)\n",
    "print(path)\n",
    "sys.path.insert(1, path)"
   ]
  },
  {
   "cell_type": "code",
   "execution_count": 2,
   "metadata": {},
   "outputs": [],
   "source": [
    "# !pip install properscoring\n",
    "# !pip install CRPS\n",
    "# !pip install pymc_marketing"
   ]
  },
  {
   "cell_type": "markdown",
   "metadata": {},
   "source": [
    "## CRPS score from skforecast predictions"
   ]
  },
  {
   "cell_type": "markdown",
   "metadata": {},
   "source": [
    "En Skforecast hay varias opciones para obtener previsiones probabilísticas; dos de ellas son:\n",
    "\n",
    "1) Obtener múltiples predicciones para cada paso, donde cada predicción es un posible valor obtenido mediante bootstraping. Es decir, se dispone de un valor y_true y de un array de predicciones para el mismo timestamp.\n",
    "\n",
    "2) Obtener los diferentes cuantiles: q05, q10, q20, etc., para cada predicción. Es decir, se dispone de un valor y_true y de un array de cuantiles para ese mismo timestamp."
   ]
  },
  {
   "cell_type": "markdown",
   "metadata": {},
   "source": [
    "## CRPS score from an array of predictions"
   ]
  },
  {
   "cell_type": "markdown",
   "metadata": {},
   "source": [
    " The Continuous Ranked Probability Score (CRPS) can be thought of as comparing the empirical cumulative distribution function (CDF) of the forecasted values to the step function CDF of the true value. Specifically:\n",
    "\n",
    " + Empirical CDF of forecast F(y): Constructed from the ensemble predictions by treating each forecast value as a step in the CDF.\n",
    "\n",
    " + CDF of the true value H(y): This is a step function that jumps from 0 to 1 at the observed value (𝑦_truth).\n",
    "\n",
    " The CRPS measures the area between these two CDFs across all possible values. Mathematically, it involves integrating the squared difference between the forecasted CDF (F) and the observed CDF (𝐻)\n",
    "\n",
    " "
   ]
  },
  {
   "cell_type": "code",
   "execution_count": 3,
   "metadata": {},
   "outputs": [
    {
     "data": {
      "text/plain": [
       "1.2111765675880592"
      ]
     },
     "execution_count": 3,
     "metadata": {},
     "output_type": "execute_result"
    }
   ],
   "source": [
    "# Custom function\n",
    "# ==============================================================================\n",
    "# https://juanitorduz.github.io/electricity_forecast/\n",
    "\n",
    "import numpy as np\n",
    "\n",
    "def crps_empirical(\n",
    "    y_truth: float,\n",
    "    y_pred: np.ndarray,\n",
    "    sample_weight = None,\n",
    ") -> float:\n",
    "    \"\"\"\n",
    "    Compute the Continuous Ranked Probability Score (CRPS) for  a set of\n",
    "    explicit forecast realizations. The CRPS compares the empirical distribution\n",
    "    of an ensemble forecast to a scalar observation. The smaller the CRPS, the\n",
    "    better the forecasted distribution.\n",
    "\n",
    "    Parameters\n",
    "    ----------\n",
    "    y_truth : float\n",
    "        The true value of the random variable.\n",
    "    y_pred : np.ndarray\n",
    "        The predicted values of the random variable. These are the multiple\n",
    "        forecasted values for a single observation.\n",
    "    sample_weight : np.ndarray, optional\n",
    "        Weights for each sample.\n",
    "\n",
    "    Returns\n",
    "    -------\n",
    "    float\n",
    "        The CRPS score.\n",
    "    \"\"\"\n",
    "    absolute_error = np.mean(np.abs(y_pred - y_truth), axis=0)\n",
    "    num_samples = len(y_pred)\n",
    "    if num_samples == 1:\n",
    "        return np.average(absolute_error, weights=sample_weight)\n",
    "\n",
    "    y_pred = np.sort(y_pred, axis=0)\n",
    "    diff = y_pred[1:] - y_pred[:-1]\n",
    "    weight = np.arange(1, num_samples) * np.arange(num_samples - 1, 0, -1)\n",
    "    weight = weight.reshape(weight.shape + (1,) * (diff.ndim - 1))\n",
    "    per_obs_crps = absolute_error - np.sum(diff * weight, axis=0) / num_samples**2\n",
    "\n",
    "    return np.average(per_obs_crps, weights=sample_weight)\n",
    "\n",
    "\n",
    "y_true = 5\n",
    "y_pred = np.random.normal(5, 5, 20)\n",
    "\n",
    "crps_empirical(\n",
    "    y_true,\n",
    "    y_pred\n",
    ")"
   ]
  },
  {
   "cell_type": "code",
   "execution_count": 4,
   "metadata": {},
   "outputs": [
    {
     "data": {
      "text/plain": [
       "1.3074016350030082"
      ]
     },
     "execution_count": 4,
     "metadata": {},
     "output_type": "execute_result"
    }
   ],
   "source": [
    "import numpy as np\n",
    "\n",
    "def empirical_cdf(y_pred: np.ndarray, x: float) -> float:\n",
    "    \"\"\"\n",
    "    Calculate the empirical CDF at point x based on predicted values.\n",
    "    \n",
    "    Parameters:\n",
    "    y_pred : np.ndarray\n",
    "        The predicted values (ensemble forecast).\n",
    "    x : float\n",
    "        The point at which to evaluate the CDF.\n",
    "        \n",
    "    Returns:\n",
    "    float\n",
    "        The value of the empirical CDF at x.\n",
    "    \"\"\"\n",
    "    return np.sum(y_pred <= x) / len(y_pred)\n",
    "\n",
    "def crps_empirical_2(y_truth: float, y_pred: np.ndarray) -> float:\n",
    "    \"\"\"\n",
    "    Calculate the CRPS based on the empirical CDF.\n",
    "    \n",
    "    Parameters:\n",
    "    y_truth : float\n",
    "        The true observed value.\n",
    "    y_pred : np.ndarray\n",
    "        The predicted values (ensemble forecast).\n",
    "        \n",
    "    Returns:\n",
    "    float\n",
    "        The CRPS score.\n",
    "    \"\"\"\n",
    "    # Sort predictions to construct the empirical CDF\n",
    "    y_pred_sorted = np.sort(y_pred)\n",
    "    \n",
    "    # Initialize CRPS score\n",
    "    crps = 0.0\n",
    "    \n",
    "    # For integration, calculate step size between consecutive predicted values\n",
    "    for i in range(len(y_pred_sorted)):\n",
    "        # Empirical CDF at current step\n",
    "        F_yi = empirical_cdf(y_pred_sorted, y_pred_sorted[i])\n",
    "        \n",
    "        # Height of the step (difference between current prediction and previous one)\n",
    "        if i == 0:\n",
    "            delta = y_pred_sorted[i]  # First step starts from 0\n",
    "        else:\n",
    "            delta = y_pred_sorted[i] - y_pred_sorted[i - 1]\n",
    "        \n",
    "        # Difference between empirical CDF and the true CDF (step function)\n",
    "        H_diff = F_yi - (y_truth <= y_pred_sorted[i])\n",
    "        \n",
    "        # Increment CRPS (area of each rectangle)\n",
    "        crps += H_diff**2 * delta\n",
    "    \n",
    "    return crps\n",
    "\n",
    "crps_empirical_2(\n",
    "    y_true,\n",
    "    y_pred\n",
    ")\n"
   ]
  },
  {
   "cell_type": "code",
   "execution_count": 6,
   "metadata": {},
   "outputs": [
    {
     "data": {
      "text/plain": [
       "1.2111765675880592"
      ]
     },
     "execution_count": 6,
     "metadata": {},
     "output_type": "execute_result"
    }
   ],
   "source": [
    "# properscoring\n",
    "# ==============================================================================\n",
    "import numpy as np\n",
    "import properscoring as ps\n",
    "ps.crps_ensemble(\n",
    "    y_true,\n",
    "    y_pred\n",
    ")"
   ]
  },
  {
   "cell_type": "code",
   "execution_count": 7,
   "metadata": {},
   "outputs": [
    {
     "data": {
      "text/plain": [
       "1.2111765675880595"
      ]
     },
     "execution_count": 7,
     "metadata": {},
     "output_type": "execute_result"
    }
   ],
   "source": [
    "# CRPS\n",
    "# ==============================================================================\n",
    "import CRPS.CRPS as pscore\n",
    "pscore(y_pred, y_true).compute()[0]"
   ]
  },
  {
   "cell_type": "code",
   "execution_count": 8,
   "metadata": {},
   "outputs": [
    {
     "name": "stderr",
     "output_type": "stream",
     "text": [
      "WARNING (pytensor.configdefaults): g++ not available, if using conda: `conda install m2w64-toolchain`\n",
      "WARNING (pytensor.configdefaults): g++ not detected!  PyTensor will be unable to compile C-implementations and will default to Python. Performance may be severely degraded. To remove this warning, set PyTensor flags cxx to an empty string.\n",
      "WARNING (pytensor.tensor.blas): Using NumPy C-API based implementation for BLAS functions.\n"
     ]
    },
    {
     "data": {
      "text/plain": [
       "1.2111765675880592"
      ]
     },
     "execution_count": 8,
     "metadata": {},
     "output_type": "execute_result"
    }
   ],
   "source": [
    "# pymc_marketing\n",
    "# ==============================================================================\n",
    "import numpy as np\n",
    "from pymc_marketing.metrics import crps\n",
    "crps(y_true, y_pred.reshape(-1, 1))"
   ]
  },
  {
   "cell_type": "code",
   "execution_count": 9,
   "metadata": {},
   "outputs": [
    {
     "data": {
      "image/png": "[encoded data removed]",
      "text/plain": [
       "<Figure size 640x480 with 1 Axes>"
      ]
     },
     "metadata": {},
     "output_type": "display_data"
    },
    {
     "name": "stdout",
     "output_type": "stream",
     "text": [
      "CRPS: 1.3074016350030084\n"
     ]
    }
   ],
   "source": [
    "import numpy as np\n",
    "import matplotlib.pyplot as plt\n",
    "\n",
    "# Input data\n",
    "# y_true = 5\n",
    "# y_pred = [3, 1, 4, 1, 5, 9, 2, 6, 5, 3]\n",
    "\n",
    "# Sort the data\n",
    "sorted_y_pred = np.sort(y_pred)\n",
    "\n",
    "# Compute the ECDF\n",
    "ecdf_values = np.arange(1, len(sorted_y_pred) + 1) / len(sorted_y_pred)\n",
    "\n",
    "# Compute the true value step function (Heaviside function)\n",
    "true_step_function = np.where(sorted_y_pred < y_true, 0, 1)\n",
    "\n",
    "# Plot the ECDF and the step function\n",
    "fig, ax = plt.subplots()\n",
    "ax.step(sorted_y_pred, ecdf_values, where=\"post\", label=\"Empirical CDF\")\n",
    "ax.step(sorted_y_pred, true_step_function, where=\"post\", label=\"True Value Step Function\", linestyle='--', color='red')\n",
    "\n",
    "# Fill the area between the two step functions: \n",
    "# Before the true value, fill between the ECDF and 0. After the true value, fill between the true value and 1.\n",
    "n_lower = len(sorted_y_pred[sorted_y_pred < y_true])\n",
    "ax.fill_between(sorted_y_pred[:n_lower+1], ecdf_values[:n_lower+1], 0, step='post', alpha=0.2, color='blue', label='ECDF area')\n",
    "ax.fill_between(sorted_y_pred[n_lower:], ecdf_values[n_lower:], 1, step='post', alpha=0.2, color='blue')\n",
    "\n",
    "# Add labels and legend\n",
    "plt.xlabel(\"Data values\")\n",
    "plt.ylabel(\"ECDF\")\n",
    "plt.title(\"Empirical CDF with True Value Step Function\")\n",
    "plt.grid(True)\n",
    "plt.legend()\n",
    "\n",
    "# Show the plot\n",
    "plt.show()\n",
    "\n",
    "# Compute CRPS\n",
    "differences = (ecdf_values - true_step_function)**2\n",
    "widths = np.diff(np.concatenate(([0], sorted_y_pred)))\n",
    "crps_value = np.sum(differences * widths)\n",
    "print(\"CRPS:\", crps_value)"
   ]
  },
  {
   "cell_type": "markdown",
   "metadata": {},
   "source": [
    "## Testing equivalence"
   ]
  },
  {
   "cell_type": "code",
   "execution_count": 10,
   "metadata": {},
   "outputs": [
    {
     "data": {
      "text/html": [
       "<div>\n",
       "<style scoped>\n",
       "    .dataframe tbody tr th:only-of-type {\n",
       "        vertical-align: middle;\n",
       "    }\n",
       "\n",
       "    .dataframe tbody tr th {\n",
       "        vertical-align: top;\n",
       "    }\n",
       "\n",
       "    .dataframe thead th {\n",
       "        text-align: right;\n",
       "    }\n",
       "</style>\n",
       "<table border=\"1\" class=\"dataframe\">\n",
       "  <thead>\n",
       "    <tr style=\"text-align: right;\">\n",
       "      <th></th>\n",
       "      <th>y_true</th>\n",
       "      <th>y_pred_bootstrapping</th>\n",
       "      <th>custom_crps</th>\n",
       "      <th>custom_crps_2</th>\n",
       "      <th>proper_crps</th>\n",
       "      <th>pymc_crps</th>\n",
       "    </tr>\n",
       "  </thead>\n",
       "  <tbody>\n",
       "    <tr>\n",
       "      <th>0</th>\n",
       "      <td>0.054393</td>\n",
       "      <td>[-6.825759264238124, 6.272330310898723, 8.6900...</td>\n",
       "      <td>2.879168</td>\n",
       "      <td>2.982757</td>\n",
       "      <td>2.879168</td>\n",
       "      <td>2.879168</td>\n",
       "    </tr>\n",
       "    <tr>\n",
       "      <th>1</th>\n",
       "      <td>3.161067</td>\n",
       "      <td>[0.0839472449946399, -0.3282393110217061, -2.6...</td>\n",
       "      <td>2.138419</td>\n",
       "      <td>2.063630</td>\n",
       "      <td>2.138419</td>\n",
       "      <td>2.138419</td>\n",
       "    </tr>\n",
       "    <tr>\n",
       "      <th>2</th>\n",
       "      <td>11.439626</td>\n",
       "      <td>[-6.687167799751952, 9.042420550468911, 11.167...</td>\n",
       "      <td>3.866258</td>\n",
       "      <td>3.896388</td>\n",
       "      <td>3.866258</td>\n",
       "      <td>3.866258</td>\n",
       "    </tr>\n",
       "    <tr>\n",
       "      <th>3</th>\n",
       "      <td>5.969872</td>\n",
       "      <td>[3.4348196174797505, 4.391574585860413, 4.9615...</td>\n",
       "      <td>1.573126</td>\n",
       "      <td>1.617966</td>\n",
       "      <td>1.573126</td>\n",
       "      <td>1.573126</td>\n",
       "    </tr>\n",
       "    <tr>\n",
       "      <th>4</th>\n",
       "      <td>9.601154</td>\n",
       "      <td>[11.167306574411676, 0.11650265452747277, 8.64...</td>\n",
       "      <td>2.505021</td>\n",
       "      <td>2.488044</td>\n",
       "      <td>2.505021</td>\n",
       "      <td>2.505021</td>\n",
       "    </tr>\n",
       "    <tr>\n",
       "      <th>...</th>\n",
       "      <td>...</td>\n",
       "      <td>...</td>\n",
       "      <td>...</td>\n",
       "      <td>...</td>\n",
       "      <td>...</td>\n",
       "      <td>...</td>\n",
       "    </tr>\n",
       "    <tr>\n",
       "      <th>495</th>\n",
       "      <td>2.620337</td>\n",
       "      <td>[2.264764974530738, 6.814018859023005, -5.9311...</td>\n",
       "      <td>1.539388</td>\n",
       "      <td>1.494945</td>\n",
       "      <td>1.539388</td>\n",
       "      <td>1.539388</td>\n",
       "    </tr>\n",
       "    <tr>\n",
       "      <th>496</th>\n",
       "      <td>5.837432</td>\n",
       "      <td>[2.608669020882168, 3.1927741164560777, 4.0716...</td>\n",
       "      <td>1.344876</td>\n",
       "      <td>1.283510</td>\n",
       "      <td>1.344876</td>\n",
       "      <td>1.344876</td>\n",
       "    </tr>\n",
       "    <tr>\n",
       "      <th>497</th>\n",
       "      <td>-0.243094</td>\n",
       "      <td>[6.0144200023665455, 7.605138305616047, 2.4579...</td>\n",
       "      <td>3.051450</td>\n",
       "      <td>3.107828</td>\n",
       "      <td>3.051450</td>\n",
       "      <td>3.051450</td>\n",
       "    </tr>\n",
       "    <tr>\n",
       "      <th>498</th>\n",
       "      <td>1.898126</td>\n",
       "      <td>[-0.23397923985190694, 6.533172338446379, 11.4...</td>\n",
       "      <td>2.043022</td>\n",
       "      <td>1.949769</td>\n",
       "      <td>2.043022</td>\n",
       "      <td>2.043022</td>\n",
       "    </tr>\n",
       "    <tr>\n",
       "      <th>499</th>\n",
       "      <td>0.439442</td>\n",
       "      <td>[-4.210749915690924, 5.569667757024471, 1.5382...</td>\n",
       "      <td>2.524275</td>\n",
       "      <td>2.444108</td>\n",
       "      <td>2.524275</td>\n",
       "      <td>2.524275</td>\n",
       "    </tr>\n",
       "  </tbody>\n",
       "</table>\n",
       "<p>500 rows × 6 columns</p>\n",
       "</div>"
      ],
      "text/plain": [
       "        y_true                               y_pred_bootstrapping  \\\n",
       "0     0.054393  [-6.825759264238124, 6.272330310898723, 8.6900...   \n",
       "1     3.161067  [0.0839472449946399, -0.3282393110217061, -2.6...   \n",
       "2    11.439626  [-6.687167799751952, 9.042420550468911, 11.167...   \n",
       "3     5.969872  [3.4348196174797505, 4.391574585860413, 4.9615...   \n",
       "4     9.601154  [11.167306574411676, 0.11650265452747277, 8.64...   \n",
       "..         ...                                                ...   \n",
       "495   2.620337  [2.264764974530738, 6.814018859023005, -5.9311...   \n",
       "496   5.837432  [2.608669020882168, 3.1927741164560777, 4.0716...   \n",
       "497  -0.243094  [6.0144200023665455, 7.605138305616047, 2.4579...   \n",
       "498   1.898126  [-0.23397923985190694, 6.533172338446379, 11.4...   \n",
       "499   0.439442  [-4.210749915690924, 5.569667757024471, 1.5382...   \n",
       "\n",
       "     custom_crps  custom_crps_2  proper_crps  pymc_crps  \n",
       "0       2.879168       2.982757     2.879168   2.879168  \n",
       "1       2.138419       2.063630     2.138419   2.138419  \n",
       "2       3.866258       3.896388     3.866258   3.866258  \n",
       "3       1.573126       1.617966     1.573126   1.573126  \n",
       "4       2.505021       2.488044     2.505021   2.505021  \n",
       "..           ...            ...          ...        ...  \n",
       "495     1.539388       1.494945     1.539388   1.539388  \n",
       "496     1.344876       1.283510     1.344876   1.344876  \n",
       "497     3.051450       3.107828     3.051450   3.051450  \n",
       "498     2.043022       1.949769     2.043022   2.043022  \n",
       "499     2.524275       2.444108     2.524275   2.524275  \n",
       "\n",
       "[500 rows x 6 columns]"
      ]
     },
     "execution_count": 10,
     "metadata": {},
     "output_type": "execute_result"
    }
   ],
   "source": [
    "import pandas as pd\n",
    "\n",
    "rng = np.random.default_rng(123)\n",
    "n = 500\n",
    "df = pd.DataFrame({\n",
    "    'y_true': rng.normal(5, 5, n),\n",
    "    'y_pred_bootstrapping': [rng.normal(5, 5, 50) for _ in range(n)]\n",
    "})\n",
    "\n",
    "df['custom_crps'] = df.apply(lambda x: crps_empirical(x['y_true'], x['y_pred_bootstrapping']), axis=1)\n",
    "df['custom_crps_2'] = df.apply(lambda x: crps_empirical_2(x['y_true'], x['y_pred_bootstrapping']), axis=1)\n",
    "df['proper_crps'] = df.apply(lambda x: ps.crps_ensemble(x['y_true'], x['y_pred_bootstrapping']), axis=1)\n",
    "df['pymc_crps'] = df.apply(lambda x: crps(x['y_true'], x['y_pred_bootstrapping'].reshape(-1, 1)), axis=1)\n",
    "\n",
    "assert np.allclose(df['custom_crps'], df['proper_crps'])\n",
    "assert np.allclose(df['custom_crps'], df['pymc_crps'])\n",
    "\n",
    "df"
   ]
  },
  {
   "cell_type": "markdown",
   "metadata": {},
   "source": [
    "## CRPS score from an array of quantiles"
   ]
  },
  {
   "cell_type": "code",
   "execution_count": 11,
   "metadata": {},
   "outputs": [],
   "source": [
    "import numpy as np\n",
    "import properscoring as ps\n",
    "from scipy.interpolate import interp1d\n",
    "\n",
    "# Example true value\n",
    "true_value = np.array([5.0])\n",
    "\n",
    "# Example predicted 10 quantiles and their corresponding levels\n",
    "quantile_levels     = np.array([0.00, 0.025, 0.05, 0.10, 0.15, 0.20, 0.25, 0.30, 0.35, 0.40, 0.45, 0.50, 0.55, 0.60, 0.65, 0.70, 0.75, 0.80, 0.85, 0.90, 0.95, 0.975, 1.00])\n",
    "predicted_quantiles = np.array([0.1, 1.0, 1.5, 2.0, 2.5, 3.0, 3.5, 4.0, 4.5, 5.0, 5.5, 6.0, 6.5, 7.0, 7.5, 8.0, 8.5, 9.0, 9.5, 10.0, 10.5, 11.0, 11.5])"
   ]
  },
  {
   "cell_type": "code",
   "execution_count": 12,
   "metadata": {},
   "outputs": [
    {
     "data": {
      "text/plain": [
       "0.9342500002584768"
      ]
     },
     "execution_count": 12,
     "metadata": {},
     "output_type": "execute_result"
    }
   ],
   "source": [
    "# crps_quadrature\n",
    "# ==============================================================================\n",
    "# Create an empirical CDF function using interpolation\n",
    "\n",
    "def crps_quadrature_from_quantiles(true_value, predicted_quantiles, quantile_levels):\n",
    "    \"\"\"\n",
    "    Calculate the Continuous Ranked Probability Score (CRPS) for a given true value\n",
    "    and predicted quantiles using the function crps_quadrature from the properscoring\n",
    "    library.\n",
    "\n",
    "    Parameters\n",
    "    ----------\n",
    "    true_value : float\n",
    "        The true value of the random variable.\n",
    "    predicted_quantiles : np.array\n",
    "        The predicted quantile values.\n",
    "    quantile_levels : np.array\n",
    "        The quantile levels corresponding to the predicted quantiles.\n",
    "\n",
    "    Returns\n",
    "    -------\n",
    "    float\n",
    "        The CRPS score.\n",
    "    \"\"\"\n",
    "    if len(predicted_quantiles) != len(quantile_levels):\n",
    "        raise ValueError(\"The number of predicted quantiles and quantile levels must be equal.\")\n",
    "    \n",
    "    def empirical_cdf(x):\n",
    "        # Interpolate between quantile levels and quantile values\n",
    "        cdf_func = interp1d(predicted_quantiles, quantile_levels, bounds_error=False, fill_value=(0.0, 1.0))\n",
    "        return cdf_func(x)\n",
    "\n",
    "    # Integration bounds\n",
    "    xmin = np.min(predicted_quantiles) - 1  # lower bound\n",
    "    xmax = np.max(predicted_quantiles) + 1  # upper bound\n",
    "\n",
    "    # Compute CRPS\n",
    "    crps = ps.crps_quadrature(true_value, empirical_cdf, xmin, xmax)\n",
    "    \n",
    "    return crps[0]\n",
    "\n",
    "crps_quadrature_from_quantiles(true_value, predicted_quantiles, quantile_levels)"
   ]
  },
  {
   "cell_type": "code",
   "execution_count": 13,
   "metadata": {},
   "outputs": [
    {
     "name": "stdout",
     "output_type": "stream",
     "text": [
      "CRPS: 0.934568678091545\n"
     ]
    }
   ],
   "source": [
    "import numpy as np\n",
    "\n",
    "def crps_quantile_interpolation(true_value, predicted_quantiles, quantile_levels):\n",
    "    \"\"\"\n",
    "    Calculate the Continuous Ranked Probability Score (CRPS) for a given true value\n",
    "    and predicted quantiles. The empirical cdf is approximated using linear interpolation\n",
    "    between the predicted quantiles.\n",
    "\n",
    "    Parameters\n",
    "    ----------\n",
    "    true_value : float\n",
    "        The true value of the random variable.\n",
    "    predicted_quantiles : np.array\n",
    "        The predicted quantile values.\n",
    "    quantile_levels : np.array\n",
    "        The quantile levels corresponding to the predicted quantiles.\n",
    "\n",
    "    Returns\n",
    "    -------\n",
    "    float\n",
    "        The CRPS score.\n",
    "    \"\"\"\n",
    "    if len(predicted_quantiles) != len(quantile_levels):\n",
    "        raise ValueError(\"The number of predicted quantiles and quantile levels must be equal.\")\n",
    "\n",
    "    sorted_indices = np.argsort(predicted_quantiles)\n",
    "    predicted_quantiles = predicted_quantiles[sorted_indices]\n",
    "    quantile_levels = quantile_levels[sorted_indices]\n",
    "\n",
    "    # Define the empirical CDF function using interpolation\n",
    "    def empirical_cdf(x):\n",
    "        return np.interp(x, predicted_quantiles, quantile_levels, left=0.0, right=1.0)\n",
    "\n",
    "    # Define the CRPS integrand\n",
    "    def crps_integrand(x):\n",
    "        return (empirical_cdf(x) - (x >= true_value)) ** 2\n",
    "\n",
    "    # Integration bounds: Extend slightly beyond predicted quantiles\n",
    "    xmin = np.min(predicted_quantiles) - 2\n",
    "    xmax = np.max(predicted_quantiles) + 2\n",
    "\n",
    "    # Create a fine grid of x values for integration\n",
    "    x_values = np.linspace(xmin, xmax, 1000)\n",
    "\n",
    "    # Compute the integrand values and integrate using the trapezoidal rule\n",
    "    integrand_values = crps_integrand(x_values)\n",
    "    crps = np.trapz(integrand_values, x_values)\n",
    "\n",
    "    return crps\n",
    "\n",
    "\n",
    "crps_score = crps_quantile_interpolation(true_value, predicted_quantiles, quantile_levels)\n",
    "print(\"CRPS:\", crps_score)\n"
   ]
  },
  {
   "cell_type": "code",
   "execution_count": 14,
   "metadata": {},
   "outputs": [
    {
     "name": "stdout",
     "output_type": "stream",
     "text": [
      "CRPS: [0.988125]\n"
     ]
    }
   ],
   "source": [
    "import numpy as np\n",
    "\n",
    "def crps_quantile_no_interpolation(true_value, predicted_quantiles, quantile_levels):\n",
    "    \"\"\"\n",
    "    Calculate CRPS using predicted quantiles, treating the CDF as a step function.\n",
    "\n",
    "    Parameters\n",
    "    ----------\n",
    "    true_value : float\n",
    "        The true value of the random variable.\n",
    "    predicted_quantiles : np.array\n",
    "        The predicted quantile values.\n",
    "    quantile_levels : np.array\n",
    "        The quantile levels corresponding to the predicted quantiles.\n",
    "\n",
    "    Returns\n",
    "    -------\n",
    "    float\n",
    "        The CRPS score.\n",
    "    \"\"\"\n",
    "    # Ensure inputs are numpy arrays and sorted\n",
    "    predicted_quantiles = np.array(predicted_quantiles)\n",
    "    quantile_levels = np.array(quantile_levels)\n",
    "    \n",
    "    sorted_indices = np.argsort(predicted_quantiles)\n",
    "    predicted_quantiles = predicted_quantiles[sorted_indices]\n",
    "    quantile_levels = quantile_levels[sorted_indices]\n",
    "\n",
    "    # Initialize CRPS sum\n",
    "    crps = 0.0\n",
    "\n",
    "    # Iterate through each quantile segment\n",
    "    for i in range(len(predicted_quantiles) - 1):\n",
    "        q_i = predicted_quantiles[i]\n",
    "        q_next = predicted_quantiles[i + 1]\n",
    "        F_i = quantile_levels[i]\n",
    "        \n",
    "        # Heaviside step function difference\n",
    "        heaviside_diff = F_i - (q_i >= true_value)\n",
    "        \n",
    "        # Segment width (difference between consecutive quantiles)\n",
    "        segment_width = q_next - q_i\n",
    "        \n",
    "        # Add contribution of this segment to CRPS\n",
    "        crps += heaviside_diff ** 2 * segment_width\n",
    "    \n",
    "    return crps\n",
    "\n",
    "# Example usage:\n",
    "crps_score = crps_quantile_no_interpolation(true_value, predicted_quantiles, quantile_levels)\n",
    "print(\"CRPS:\", crps_score)\n"
   ]
  }
 ],
 "metadata": {
  "kernelspec": {
   "display_name": "skforecast_14_p12",
   "language": "python",
   "name": "python3"
  },
  "language_info": {
   "codemirror_mode": {
    "name": "ipython",
    "version": 3
   },
   "file_extension": ".py",
   "mimetype": "text/x-python",
   "name": "python",
   "nbconvert_exporter": "python",
   "pygments_lexer": "ipython3",
   "version": "3.12.4"
  },
  "orig_nbformat": 4
 },
 "nbformat": 4,
 "nbformat_minor": 2
}
