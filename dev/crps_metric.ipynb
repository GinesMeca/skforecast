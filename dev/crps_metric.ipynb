{
 "cells": [
  {
   "cell_type": "code",
   "execution_count": 2,
   "metadata": {},
   "outputs": [
    {
     "name": "stdout",
     "output_type": "stream",
     "text": [
      "/home/ubuntu/varios/skforecast\n"
     ]
    }
   ],
   "source": [
    "%load_ext autoreload\n",
    "%autoreload 2\n",
    "import sys\n",
    "from pathlib import Path\n",
    "path = str(Path.cwd().parent)\n",
    "print(path)\n",
    "sys.path.insert(1, path)"
   ]
  },
  {
   "cell_type": "markdown",
   "metadata": {},
   "source": [
    "CRPS is a proper scoring rule used to assess the accuracy of probabilistic forecasts. When working with a prediction interval, the calculation assumes a uniform (or possibly triangular) distribution over the interval.\n",
    "\n",
    "Steps to calculate CRPS for an interval forecast:\n",
    "\n",
    "1) Define the interval: If your prediction interval is [L,U], you assume the forecast distribution is uniform over this range.\n",
    "\n",
    "2) Compute the CRPS: For a uniform distribution, there's an analytical formula for CRPS, given the true value x, and interval bounds L (lower) and U (upper).\n",
    "\n",
    "For a uniform distribution over an interval \\([L, U]\\):\n",
    "\n",
    "CRPS(x, [L, U]) = \n",
    "\\begin{cases} \n",
    "\\frac{(U - L)}{3} - \\frac{(x - L)^2}{2(U - L)} & \\text{if } x < L \\\\[10pt]\n",
    "\\frac{(U - L)}{3} - \\frac{(U - x)^2 + (x - L)^2}{2(U - L)} & \\text{if } L \\le x \\le U \\\\[10pt]\n",
    "\\frac{(U - L)}{3} - \\frac{(U - x)^2}{2(U - L)} & \\text{if } x > U \n",
    "\\end{cases}"
   ]
  },
  {
   "cell_type": "code",
   "execution_count": 13,
   "metadata": {},
   "outputs": [
    {
     "name": "stdout",
     "output_type": "stream",
     "text": [
      "CRPS: 0.25\n"
     ]
    }
   ],
   "source": [
    "import pandas as pd\n",
    "\n",
    "def crps_uniform(x, L, U):\n",
    "    if L >= U:\n",
    "        raise ValueError(\"Lower bound must be less than upper bound.\")\n",
    "        \n",
    "    if x < L:\n",
    "        return ((U - L) / 3) - ((x - L) ** 2) / (2 * (U - L))\n",
    "    elif x > U:\n",
    "        return ((U - L) / 3) - ((U - x) ** 2) / (2 * (U - L))\n",
    "    else:\n",
    "        return ((U - L) / 3) - (( (U - x) ** 2 + (x - L) ** 2) / (2 * (U - L)))\n",
    "\n",
    "# Example:\n",
    "x_true = 3.5  # Observed value\n",
    "lower_bound = 2.0\n",
    "upper_bound = 5.0\n",
    "\n",
    "crps_value = crps_uniform(x_true, lower_bound, upper_bound)\n",
    "print(f\"CRPS: {crps_value}\")"
   ]
  },
  {
   "cell_type": "code",
   "execution_count": 14,
   "metadata": {},
   "outputs": [
    {
     "name": "stdout",
     "output_type": "stream",
     "text": [
      "   y_true  lower_bound  upper_bound      CRPS\n",
      "0     3.5          2.0          5.0  0.250000\n",
      "1     4.2          3.5          6.0  0.087333\n",
      "2     2.0          1.0          3.0  0.166667\n"
     ]
    }
   ],
   "source": [
    "# Example DataFrame\n",
    "data = {\n",
    "    'y_true': [3.5, 4.2, 2.0],\n",
    "    'lower_bound': [2.0, 3.5, 1.0],\n",
    "    'upper_bound': [5.0, 6.0, 3.0]\n",
    "}\n",
    "\n",
    "df = pd.DataFrame(data)\n",
    "\n",
    "# Apply the CRPS function to each row\n",
    "df['CRPS'] = df.apply(lambda row: crps_uniform(row['y_true'], row['lower_bound'], row['upper_bound']), axis=1)\n",
    "\n",
    "# Display the DataFrame with CRPS values\n",
    "print(df)"
   ]
  },
  {
   "cell_type": "code",
   "execution_count": 6,
   "metadata": {},
   "outputs": [],
   "source": [
    "# !pip install properscoring"
   ]
  },
  {
   "cell_type": "code",
   "execution_count": 9,
   "metadata": {},
   "outputs": [
    {
     "name": "stdout",
     "output_type": "stream",
     "text": [
      "CRPS: 0.24863008201570277\n"
     ]
    }
   ],
   "source": [
    "# CRPS Calculation with properscoring\n",
    "# ===================================\n",
    "import numpy as np\n",
    "import properscoring as ps\n",
    "\n",
    "# True observed value\n",
    "x_true = 3.5\n",
    "\n",
    "# Forecast as a uniform distribution between L and U\n",
    "lower_bound = 2.0\n",
    "upper_bound = 5.0\n",
    "\n",
    "# Sample from a uniform distribution between L and U\n",
    "# You can adapt the same approach to Gaussian or other predictive distributions by changing the sampling method\n",
    "samples = np.random.uniform(lower_bound, upper_bound, 500)\n",
    "\n",
    "# Calculate CRPS using samples\n",
    "crps = ps.crps_ensemble(np.array([x_true]), samples.reshape(1, -1))\n",
    "print(f\"CRPS: {crps[0]}\")"
   ]
  },
  {
   "cell_type": "code",
   "execution_count": 10,
   "metadata": {},
   "outputs": [
    {
     "ename": "ModuleNotFoundError",
     "evalue": "No module named 'sktime'",
     "output_type": "error",
     "traceback": [
      "\u001b[0;31m---------------------------------------------------------------------------\u001b[0m",
      "\u001b[0;31mModuleNotFoundError\u001b[0m                       Traceback (most recent call last)",
      "Cell \u001b[0;32mIn[10], line 3\u001b[0m\n\u001b[1;32m      1\u001b[0m \u001b[38;5;66;03m# CRPS Calculation with sktime\u001b[39;00m\n\u001b[1;32m      2\u001b[0m \u001b[38;5;66;03m# ===================================\u001b[39;00m\n\u001b[0;32m----> 3\u001b[0m \u001b[38;5;28;01mfrom\u001b[39;00m \u001b[38;5;21;01msktime\u001b[39;00m \u001b[38;5;28;01mimport\u001b[39;00m CRPS\n",
      "\u001b[0;31mModuleNotFoundError\u001b[0m: No module named 'sktime'"
     ]
    }
   ],
   "source": [
    "# CRPS Calculation with sktime\n",
    "# ===================================\n",
    "from sktime import CRPS"
   ]
  },
  {
   "cell_type": "code",
   "execution_count": null,
   "metadata": {},
   "outputs": [],
   "source": [
    "# https://juanitorduz.github.io/electricity_forecast/\n",
    "\n",
    "def crps(\n",
    "    truth: Float[Array, \" t\"],\n",
    "    pred: Float[Array, \"n_samples t\"],\n",
    "    sample_weight: Float[Array, \" t\"] | None = None,\n",
    ") -> Float[Array, \"\"]:\n",
    "    if pred.shape[1:] != (1,) * (pred.ndim - truth.ndim - 1) + truth.shape:\n",
    "        raise ValueError(\n",
    "            f\"\"\"Expected pred to have one extra sample dim on left.\n",
    "            Actual shapes: {pred.shape} versus {truth.shape}\"\"\"\n",
    "        )\n",
    "\n",
    "    absolute_error = jnp.mean(jnp.abs(pred - truth), axis=0)\n",
    "\n",
    "    num_samples = pred.shape[0]\n",
    "    if num_samples == 1:\n",
    "        return jnp.average(absolute_error, weights=sample_weight)\n",
    "\n",
    "    pred = jnp.sort(pred, axis=0)\n",
    "    diff = pred[1:] - pred[:-1]\n",
    "    weight = jnp.arange(1, num_samples) * jnp.arange(num_samples - 1, 0, -1)\n",
    "    weight = weight.reshape(weight.shape + (1,) * (diff.ndim - 1))\n",
    "\n",
    "    per_obs_crps = absolute_error - jnp.sum(diff * weight, axis=0) / num_samples**2\n",
    "    return jnp.average(per_obs_crps, weights=sample_weight)"
   ]
  }
 ],
 "metadata": {
  "kernelspec": {
   "display_name": "skforecast_14_py12",
   "language": "python",
   "name": "python3"
  },
  "language_info": {
   "codemirror_mode": {
    "name": "ipython",
    "version": 3
   },
   "file_extension": ".py",
   "mimetype": "text/x-python",
   "name": "python",
   "nbconvert_exporter": "python",
   "pygments_lexer": "ipython3",
   "version": "3.12.5"
  },
  "orig_nbformat": 4
 },
 "nbformat": 4,
 "nbformat_minor": 2
}
