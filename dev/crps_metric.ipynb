{
 "cells": [
  {
   "cell_type": "code",
   "execution_count": 66,
   "metadata": {},
   "outputs": [
    {
     "name": "stdout",
     "output_type": "stream",
     "text": [
      "The autoreload extension is already loaded. To reload it, use:\n",
      "  %reload_ext autoreload\n",
      "c:\\Users\\Joaquín Amat\\Documents\\GitHub\\skforecast\n"
     ]
    }
   ],
   "source": [
    "%load_ext autoreload\n",
    "%autoreload 2\n",
    "import sys\n",
    "from pathlib import Path\n",
    "path = str(Path.cwd().parent)\n",
    "print(path)\n",
    "sys.path.insert(1, path)"
   ]
  },
  {
   "cell_type": "markdown",
   "metadata": {},
   "source": [
    "# Continuous Ranked Probability Score (CRPS) in probabilistic forecasting"
   ]
  },
  {
   "cell_type": "markdown",
   "metadata": {},
   "source": [
    "## CRPS"
   ]
  },
  {
   "cell_type": "markdown",
   "metadata": {},
   "source": [
    "The Continuous Ranked Probability Score (CRPS) is one of the forecasting scores that allows to evaluate the predictions of probabilistic forecasting.\n",
    "\n",
    "In point-estimate foreasting, the output of the model is a single value, idially the most likely value of the time series in future steps. In this escenario, one can quantify how good the predictions are by comparing the predicted value against the true value of the series. Some examples of this type of metrics are: mean absolute error or roor mean swuared error.\n",
    "\n",
    "When dealing with probabilistic forecasting, the output of the model is not a single value but the \"whole distribution of the posible predicted values\". Note that, in practice, the uotput is not the whole distribution but instead a sample of values of that underlaying distribution, for example, 50 posible predicted values, or multiple quatiles that capture most of the information of the distribution.\n",
    "\n",
    "One of the most usually use of probabilistic forecasting is to estimate prediction intervals. The region within the real value will fail with a given probability. In this case, the model should achive the desired coverage (for example 80%) with the narrower interval.\n",
    "\n",
    "\n",
    "The CRPS is a generalization of the Mean absolute error for porbabilistic forecasting. For that, the empirical cumulative distribution function (CDF) of the forecasted values is compared to the step function CDF of the true value. A simplified version consist on:\n",
    "\n",
    " + Empirical CDF of forecast F(y): Constructed from the ensemble predictions by treating each forecast value as a step in the CDF.\n",
    "\n",
    " + CDF of the true value H(y): This is a step function that jumps from 0 to 1 at the observed value (𝑦_truth).\n",
    "\n",
    " The CRPS measures the area between these two CDFs across all possible values. Mathematically, it involves integrating the squared difference between the forecasted CDF (F) and the observed CDF (𝐻).\n",
    "\n",
    "The CRPS score is calculated for each prediction, therfore, when multiple predictions are estimated, for example for the whole validation or test partition, the individual CRPS scores need to be agrregated. The most common agregation consist on averaging:\n",
    "\n",
    "\n",
    "$$$$formula$$$"
   ]
  },
  {
   "cell_type": "markdown",
   "metadata": {},
   "source": [
    "**CRPS and Skforecast**"
   ]
  },
  {
   "cell_type": "markdown",
   "metadata": {},
   "source": [
    "Skforecast allows diferent outputs when used for probabilistic forecasting, two of them are:\n",
    "\n",
    "+  `predict_bootstraping`: return multiple predicted values for each forecasted step. Each value is a variation of the forecast generated with bootstraping. For a given step $i$, $n$ predictions are estimated.\n",
    "\n",
    "+ `predict_quantile`: return the estimated value for multiple quantiles. Innternally, the forecaster is using `predict_bootstraping` and them calulating the desired quantiles.\n",
    "\n",
    "For both autputs the CRPS can be calculated to evaluate the forecasting capability of the model. \n"
   ]
  },
  {
   "cell_type": "code",
   "execution_count": 67,
   "metadata": {},
   "outputs": [],
   "source": [
    "# !pip install properscoring\n",
    "# !pip install CRPS\n",
    "# !pip install pymc_marketing"
   ]
  },
  {
   "cell_type": "markdown",
   "metadata": {},
   "source": [
    "## CRPS from an sample of predictions"
   ]
  },
  {
   "cell_type": "markdown",
   "metadata": {},
   "source": [
    " The Continuous Ranked Probability Score (CRPS) can be thought of as comparing the empirical cumulative distribution function (CDF) of the forecasted values to the step function CDF of the true value. If the available iformation is the true value (y_true) and an sample of predictions, then CRPS can be calculated following the steps:\n",
    "\n",
    " + Generate the Empirical Comulative Density Function (ECDF) of the predictions: \n",
    "\n",
    "    + Sort the predictions\n",
    "    + Use each prediction as a step in the CDF. \n",
    "\n",
    " + Generate the Comulative Density Function (CDF) of the true value: since there is a single value, this is a step function that jumps from 0 to 1 at the observed value (𝑦_truth).\n",
    "\n",
    " + Calculate the CRPS as the are between both curves (functions): since they are step functions, the area can be calculates as the sum of the rectangles generated in each step. Mathematically, it involves integrating the squared difference between the forecasted ECDF and the observed CDF.\n",
    "\n",
    " "
   ]
  },
  {
   "cell_type": "code",
   "execution_count": 68,
   "metadata": {},
   "outputs": [
    {
     "data": {
      "text/plain": [
       "1.7018888145608915"
      ]
     },
     "execution_count": 68,
     "metadata": {},
     "output_type": "execute_result"
    }
   ],
   "source": [
    "# Custom function\n",
    "# ==============================================================================\n",
    "# https://juanitorduz.github.io/electricity_forecast/\n",
    "\n",
    "import numpy as np\n",
    "\n",
    "def crps_from_predictions(\n",
    "    y_truth: float,\n",
    "    y_pred: np.ndarray,\n",
    "    sample_weight = None,\n",
    ") -> float:\n",
    "    \"\"\"\n",
    "    Compute the Continuous Ranked Probability Score (CRPS) for a set of\n",
    "    explicit forecast realizations. The CRPS compares the empirical distribution\n",
    "    of set of forecasted values to a scalar observation. The smaller the CRPS, the\n",
    "    better the forecasted distribution.\n",
    "\n",
    "    Parameters\n",
    "    ----------\n",
    "    y_truth : float\n",
    "        The true value of the random variable.\n",
    "    y_pred : np.ndarray\n",
    "        The predicted values of the random variable. These are the multiple\n",
    "        forecasted values for a single observation.\n",
    "    sample_weight : np.ndarray, optional\n",
    "        Weights for each sample.\n",
    "\n",
    "    Returns\n",
    "    -------\n",
    "    float\n",
    "        The CRPS score.\n",
    "    \"\"\"\n",
    "    absolute_error = np.mean(np.abs(y_pred - y_truth), axis=0)\n",
    "    num_samples = len(y_pred)\n",
    "    if num_samples == 1:\n",
    "        return np.average(absolute_error, weights=sample_weight)\n",
    "\n",
    "    y_pred = np.sort(y_pred, axis=0)\n",
    "    diff = y_pred[1:] - y_pred[:-1]\n",
    "    weight = np.arange(1, num_samples) * np.arange(num_samples - 1, 0, -1)\n",
    "    weight = weight.reshape(weight.shape + (1,) * (diff.ndim - 1))\n",
    "    per_obs_crps = absolute_error - np.sum(diff * weight, axis=0) / num_samples**2\n",
    "\n",
    "    return np.average(per_obs_crps, weights=sample_weight)\n",
    "\n",
    "\n",
    "y_true = 5\n",
    "y_pred = np.random.normal(5, 5, 20)\n",
    "\n",
    "crps_from_predictions(\n",
    "    y_true,\n",
    "    y_pred\n",
    ")"
   ]
  },
  {
   "cell_type": "code",
   "execution_count": 69,
   "metadata": {},
   "outputs": [
    {
     "data": {
      "text/plain": [
       "1.9006567048358705"
      ]
     },
     "execution_count": 69,
     "metadata": {},
     "output_type": "execute_result"
    }
   ],
   "source": [
    "import numpy as np\n",
    "\n",
    "def empirical_cdf(y_pred: np.ndarray, x: float) -> float:\n",
    "    \"\"\"\n",
    "    Calculate the empirical CDF at point x based on predicted values.\n",
    "    \n",
    "    Parameters:\n",
    "    y_pred : np.ndarray\n",
    "        The predicted values (ensemble forecast).\n",
    "    x : float\n",
    "        The point at which to evaluate the CDF.\n",
    "        \n",
    "    Returns:\n",
    "    float\n",
    "        The value of the empirical CDF at x.\n",
    "    \"\"\"\n",
    "    return np.sum(y_pred <= x) / len(y_pred)\n",
    "\n",
    "def crps_empirical_2(y_truth: float, y_pred: np.ndarray) -> float:\n",
    "    \"\"\"\n",
    "    Calculate the CRPS based on the empirical CDF.\n",
    "    \n",
    "    Parameters:\n",
    "    y_truth : float\n",
    "        The true observed value.\n",
    "    y_pred : np.ndarray\n",
    "        The predicted values (ensemble forecast).\n",
    "        \n",
    "    Returns:\n",
    "    float\n",
    "        The CRPS score.\n",
    "    \"\"\"\n",
    "    # Sort predictions to construct the empirical CDF\n",
    "    y_pred_sorted = np.sort(y_pred)\n",
    "    \n",
    "    # Initialize CRPS score\n",
    "    crps = 0.0\n",
    "    \n",
    "    # For integration, calculate step size between consecutive predicted values\n",
    "    for i in range(len(y_pred_sorted)):\n",
    "        # Empirical CDF at current step\n",
    "        F_yi = empirical_cdf(y_pred_sorted, y_pred_sorted[i])\n",
    "        \n",
    "        # Widht of the step (difference between current prediction and previous one)\n",
    "        if i == 0:\n",
    "            delta = y_pred_sorted[i]  # First step starts from 0\n",
    "        else:\n",
    "            delta = y_pred_sorted[i] - y_pred_sorted[i - 1]\n",
    "        \n",
    "        # Heigh of the step:Difference between empirical CDF and the true CDF (step function)\n",
    "        H_diff = F_yi - (y_truth <= y_pred_sorted[i]) # The second term is 0 for the range lower than y_true and 1 otherwhise\n",
    "        \n",
    "        # Increment CRPS (area of each rectangle)\n",
    "        crps += H_diff**2 * delta\n",
    "    \n",
    "    return crps\n",
    "\n",
    "crps_empirical_2(\n",
    "    y_true,\n",
    "    y_pred\n",
    ")\n"
   ]
  },
  {
   "cell_type": "code",
   "execution_count": 70,
   "metadata": {},
   "outputs": [
    {
     "data": {
      "text/plain": [
       "1.701888814560892"
      ]
     },
     "execution_count": 70,
     "metadata": {},
     "output_type": "execute_result"
    }
   ],
   "source": [
    "# properscoring\n",
    "# ==============================================================================\n",
    "import numpy as np\n",
    "import properscoring as ps\n",
    "ps.crps_ensemble(\n",
    "    y_true,\n",
    "    y_pred\n",
    ")"
   ]
  },
  {
   "cell_type": "code",
   "execution_count": 71,
   "metadata": {},
   "outputs": [
    {
     "data": {
      "text/plain": [
       "1.7018888145608917"
      ]
     },
     "execution_count": 71,
     "metadata": {},
     "output_type": "execute_result"
    }
   ],
   "source": [
    "# CRPS\n",
    "# ==============================================================================\n",
    "import CRPS.CRPS as pscore\n",
    "pscore(y_pred, y_true).compute()[0]"
   ]
  },
  {
   "cell_type": "code",
   "execution_count": 72,
   "metadata": {},
   "outputs": [
    {
     "data": {
      "text/plain": [
       "1.7018888145608915"
      ]
     },
     "execution_count": 72,
     "metadata": {},
     "output_type": "execute_result"
    }
   ],
   "source": [
    "# pymc_marketing\n",
    "# ==============================================================================\n",
    "import numpy as np\n",
    "from pymc_marketing.metrics import crps\n",
    "crps(y_true, y_pred.reshape(-1, 1))"
   ]
  },
  {
   "cell_type": "code",
   "execution_count": 73,
   "metadata": {},
   "outputs": [
    {
     "data": {
      "image/png": "[encoded data removed]",
      "text/plain": [
       "<Figure size 640x480 with 1 Axes>"
      ]
     },
     "metadata": {},
     "output_type": "display_data"
    },
    {
     "name": "stdout",
     "output_type": "stream",
     "text": [
      "CRPS: 1.9006567048358705\n"
     ]
    }
   ],
   "source": [
    "import numpy as np\n",
    "import matplotlib.pyplot as plt\n",
    "\n",
    "# Input data\n",
    "# y_true = 5\n",
    "# y_pred = [3, 1, 4, 1, 5, 9, 2, 6, 5, 3]\n",
    "\n",
    "# Sort the data\n",
    "sorted_y_pred = np.sort(y_pred)\n",
    "\n",
    "# Compute the ECDF\n",
    "ecdf_values = np.arange(1, len(sorted_y_pred) + 1) / len(sorted_y_pred)\n",
    "\n",
    "# Compute the true value step function (Heaviside function)\n",
    "true_step_function = np.where(sorted_y_pred < y_true, 0, 1)\n",
    "\n",
    "# Plot the ECDF and the step function\n",
    "fig, ax = plt.subplots()\n",
    "ax.step(sorted_y_pred, ecdf_values, where=\"post\", label=\"Empirical CDF\")\n",
    "ax.step(sorted_y_pred, true_step_function, where=\"post\", label=\"True Value Step Function\", linestyle='--', color='red')\n",
    "\n",
    "# Fill the area between the two step functions: \n",
    "# Before the true value, fill between the ECDF and 0. After the true value, fill between the true value and 1.\n",
    "n_lower = len(sorted_y_pred[sorted_y_pred < y_true])\n",
    "ax.fill_between(sorted_y_pred[:n_lower+1], ecdf_values[:n_lower+1], 0, step='post', alpha=0.2, color='blue', label='ECDF area')\n",
    "ax.fill_between(sorted_y_pred[n_lower:], ecdf_values[n_lower:], 1, step='post', alpha=0.2, color='blue')\n",
    "\n",
    "# Add labels and legend\n",
    "plt.xlabel(\"Data values\")\n",
    "plt.ylabel(\"ECDF\")\n",
    "plt.title(\"Empirical CDF with True Value Step Function\")\n",
    "plt.grid(True)\n",
    "plt.legend()\n",
    "\n",
    "# Show the plot\n",
    "plt.show()\n",
    "\n",
    "# Compute CRPS\n",
    "differences = (ecdf_values - true_step_function)**2\n",
    "widths = np.diff(np.concatenate(([0], sorted_y_pred)))\n",
    "crps_value = np.sum(differences * widths)\n",
    "print(\"CRPS:\", crps_value)"
   ]
  },
  {
   "cell_type": "markdown",
   "metadata": {},
   "source": [
    "## Testing equivalence"
   ]
  },
  {
   "cell_type": "code",
   "execution_count": 74,
   "metadata": {},
   "outputs": [
    {
     "data": {
      "text/html": [
       "<div>\n",
       "<style scoped>\n",
       "    .dataframe tbody tr th:only-of-type {\n",
       "        vertical-align: middle;\n",
       "    }\n",
       "\n",
       "    .dataframe tbody tr th {\n",
       "        vertical-align: top;\n",
       "    }\n",
       "\n",
       "    .dataframe thead th {\n",
       "        text-align: right;\n",
       "    }\n",
       "</style>\n",
       "<table border=\"1\" class=\"dataframe\">\n",
       "  <thead>\n",
       "    <tr style=\"text-align: right;\">\n",
       "      <th></th>\n",
       "      <th>y_true</th>\n",
       "      <th>y_pred_bootstrapping</th>\n",
       "      <th>custom_crps</th>\n",
       "      <th>custom_crps_2</th>\n",
       "      <th>proper_crps</th>\n",
       "      <th>pymc_crps</th>\n",
       "    </tr>\n",
       "  </thead>\n",
       "  <tbody>\n",
       "    <tr>\n",
       "      <th>0</th>\n",
       "      <td>0.054393</td>\n",
       "      <td>[-6.825759264238124, 6.272330310898723, 8.6900...</td>\n",
       "      <td>2.879168</td>\n",
       "      <td>2.982757</td>\n",
       "      <td>2.879168</td>\n",
       "      <td>2.879168</td>\n",
       "    </tr>\n",
       "    <tr>\n",
       "      <th>1</th>\n",
       "      <td>3.161067</td>\n",
       "      <td>[0.0839472449946399, -0.3282393110217061, -2.6...</td>\n",
       "      <td>2.138419</td>\n",
       "      <td>2.063630</td>\n",
       "      <td>2.138419</td>\n",
       "      <td>2.138419</td>\n",
       "    </tr>\n",
       "    <tr>\n",
       "      <th>2</th>\n",
       "      <td>11.439626</td>\n",
       "      <td>[-6.687167799751952, 9.042420550468911, 11.167...</td>\n",
       "      <td>3.866258</td>\n",
       "      <td>3.896388</td>\n",
       "      <td>3.866258</td>\n",
       "      <td>3.866258</td>\n",
       "    </tr>\n",
       "    <tr>\n",
       "      <th>3</th>\n",
       "      <td>5.969872</td>\n",
       "      <td>[3.4348196174797505, 4.391574585860413, 4.9615...</td>\n",
       "      <td>1.573126</td>\n",
       "      <td>1.617966</td>\n",
       "      <td>1.573126</td>\n",
       "      <td>1.573126</td>\n",
       "    </tr>\n",
       "    <tr>\n",
       "      <th>4</th>\n",
       "      <td>9.601154</td>\n",
       "      <td>[11.167306574411676, 0.11650265452747277, 8.64...</td>\n",
       "      <td>2.505021</td>\n",
       "      <td>2.488044</td>\n",
       "      <td>2.505021</td>\n",
       "      <td>2.505021</td>\n",
       "    </tr>\n",
       "    <tr>\n",
       "      <th>...</th>\n",
       "      <td>...</td>\n",
       "      <td>...</td>\n",
       "      <td>...</td>\n",
       "      <td>...</td>\n",
       "      <td>...</td>\n",
       "      <td>...</td>\n",
       "    </tr>\n",
       "    <tr>\n",
       "      <th>495</th>\n",
       "      <td>2.620337</td>\n",
       "      <td>[2.264764974530738, 6.814018859023005, -5.9311...</td>\n",
       "      <td>1.539388</td>\n",
       "      <td>1.494945</td>\n",
       "      <td>1.539388</td>\n",
       "      <td>1.539388</td>\n",
       "    </tr>\n",
       "    <tr>\n",
       "      <th>496</th>\n",
       "      <td>5.837432</td>\n",
       "      <td>[2.608669020882168, 3.1927741164560777, 4.0716...</td>\n",
       "      <td>1.344876</td>\n",
       "      <td>1.283510</td>\n",
       "      <td>1.344876</td>\n",
       "      <td>1.344876</td>\n",
       "    </tr>\n",
       "    <tr>\n",
       "      <th>497</th>\n",
       "      <td>-0.243094</td>\n",
       "      <td>[6.0144200023665455, 7.605138305616047, 2.4579...</td>\n",
       "      <td>3.051450</td>\n",
       "      <td>3.107828</td>\n",
       "      <td>3.051450</td>\n",
       "      <td>3.051450</td>\n",
       "    </tr>\n",
       "    <tr>\n",
       "      <th>498</th>\n",
       "      <td>1.898126</td>\n",
       "      <td>[-0.23397923985190694, 6.533172338446379, 11.4...</td>\n",
       "      <td>2.043022</td>\n",
       "      <td>1.949769</td>\n",
       "      <td>2.043022</td>\n",
       "      <td>2.043022</td>\n",
       "    </tr>\n",
       "    <tr>\n",
       "      <th>499</th>\n",
       "      <td>0.439442</td>\n",
       "      <td>[-4.210749915690924, 5.569667757024471, 1.5382...</td>\n",
       "      <td>2.524275</td>\n",
       "      <td>2.444108</td>\n",
       "      <td>2.524275</td>\n",
       "      <td>2.524275</td>\n",
       "    </tr>\n",
       "  </tbody>\n",
       "</table>\n",
       "<p>500 rows × 6 columns</p>\n",
       "</div>"
      ],
      "text/plain": [
       "        y_true                               y_pred_bootstrapping  \\\n",
       "0     0.054393  [-6.825759264238124, 6.272330310898723, 8.6900...   \n",
       "1     3.161067  [0.0839472449946399, -0.3282393110217061, -2.6...   \n",
       "2    11.439626  [-6.687167799751952, 9.042420550468911, 11.167...   \n",
       "3     5.969872  [3.4348196174797505, 4.391574585860413, 4.9615...   \n",
       "4     9.601154  [11.167306574411676, 0.11650265452747277, 8.64...   \n",
       "..         ...                                                ...   \n",
       "495   2.620337  [2.264764974530738, 6.814018859023005, -5.9311...   \n",
       "496   5.837432  [2.608669020882168, 3.1927741164560777, 4.0716...   \n",
       "497  -0.243094  [6.0144200023665455, 7.605138305616047, 2.4579...   \n",
       "498   1.898126  [-0.23397923985190694, 6.533172338446379, 11.4...   \n",
       "499   0.439442  [-4.210749915690924, 5.569667757024471, 1.5382...   \n",
       "\n",
       "     custom_crps  custom_crps_2  proper_crps  pymc_crps  \n",
       "0       2.879168       2.982757     2.879168   2.879168  \n",
       "1       2.138419       2.063630     2.138419   2.138419  \n",
       "2       3.866258       3.896388     3.866258   3.866258  \n",
       "3       1.573126       1.617966     1.573126   1.573126  \n",
       "4       2.505021       2.488044     2.505021   2.505021  \n",
       "..           ...            ...          ...        ...  \n",
       "495     1.539388       1.494945     1.539388   1.539388  \n",
       "496     1.344876       1.283510     1.344876   1.344876  \n",
       "497     3.051450       3.107828     3.051450   3.051450  \n",
       "498     2.043022       1.949769     2.043022   2.043022  \n",
       "499     2.524275       2.444108     2.524275   2.524275  \n",
       "\n",
       "[500 rows x 6 columns]"
      ]
     },
     "execution_count": 74,
     "metadata": {},
     "output_type": "execute_result"
    }
   ],
   "source": [
    "import pandas as pd\n",
    "\n",
    "rng = np.random.default_rng(123)\n",
    "n = 500\n",
    "df = pd.DataFrame({\n",
    "    'y_true': rng.normal(5, 5, n),\n",
    "    'y_pred_bootstrapping': [rng.normal(5, 5, 50) for _ in range(n)]\n",
    "})\n",
    "\n",
    "df['custom_crps'] = df.apply(lambda x: crps_from_predictions(x['y_true'], x['y_pred_bootstrapping']), axis=1)\n",
    "df['custom_crps_2'] = df.apply(lambda x: crps_empirical_2(x['y_true'], x['y_pred_bootstrapping']), axis=1)\n",
    "df['proper_crps'] = df.apply(lambda x: ps.crps_ensemble(x['y_true'], x['y_pred_bootstrapping']), axis=1)\n",
    "df['pymc_crps'] = df.apply(lambda x: crps(x['y_true'], x['y_pred_bootstrapping'].reshape(-1, 1)), axis=1)\n",
    "\n",
    "assert np.allclose(df['custom_crps'], df['proper_crps'])\n",
    "assert np.allclose(df['custom_crps'], df['pymc_crps'])\n",
    "\n",
    "df"
   ]
  },
  {
   "cell_type": "markdown",
   "metadata": {},
   "source": [
    "## CRPS score from quantiles"
   ]
  },
  {
   "cell_type": "markdown",
   "metadata": {},
   "source": [
    "A quantile is the value of a distribution for which a given percentaje of values is equal or lower. This means that every quantile is just a point of a CDF. For example if one want to know what is the value for whic 40 % of the observations are equal or lower (quatile 0.4) it is only needed to go the the CDF plot and find the value in the horizontal axis for which the y axis has the value 0.4.\n",
    "\n",
    "This link between the quantiles and the CDF function means that, if we have several cuantile values, then it is posible to generate the CDF function from them. And this is what is needed for the CRPS caluclation.\n",
    "\n",
    "Guiven a set of quantiles and the probability they are associated with, and the true value, the CRSP score can be calculated as follows:\n",
    "\n",
    "+  Create the Empirical Cumulative Density functions using the quantiles and their associated probability.\n",
    "\n",
    " + Generate the Comulative Density Function (CDF) of the true value: since there is a single value, this is a step function that jumps from 0 to 1 at the observed value (𝑦_truth).\n",
    "\n",
    " + Calculate the CRPS as the are between both curves (functions): since they are step functions, the area can be calculates as the sum of the rectangles generated in each step. Mathematically, it involves integrating the squared difference between the forecasted ECDF and the observed CDF.\n",
    "\n",
    " Note: Somo implementations weights each step of the ECDF to guive more weight as they aproximate to the real value."
   ]
  },
  {
   "cell_type": "code",
   "execution_count": 79,
   "metadata": {},
   "outputs": [],
   "source": [
    "import numpy as np\n",
    "import properscoring as ps\n",
    "from scipy.interpolate import interp1d\n",
    "\n",
    "# Example true value\n",
    "true_value = np.array([5.0])\n",
    "\n",
    "# Example predicted 10 quantiles and their corresponding levels\n",
    "quantile_levels     = np.array([0.00, 0.025, 0.05, 0.10, 0.15, 0.20, 0.25, 0.30, 0.35, 0.40, 0.45, 0.50, 0.55, 0.60, 0.65, 0.70, 0.75, 0.80, 0.85, 0.90, 0.95, 0.975, 1.00])\n",
    "predicted_quantiles = np.array([0.1, 1.0, 1.5, 2.0, 2.5, 3.0, 3.5, 4.0, 4.5, 5.0, 5.5, 6.0, 6.5, 7.0, 7.5, 8.0, 8.5, 9.0, 9.5, 10.0, 10.5, 11.0, 11.5])"
   ]
  },
  {
   "cell_type": "code",
   "execution_count": 84,
   "metadata": {},
   "outputs": [
    {
     "data": {
      "text/plain": [
       "0.9342500002584768"
      ]
     },
     "execution_count": 84,
     "metadata": {},
     "output_type": "execute_result"
    }
   ],
   "source": [
    "# crps_quadrature\n",
    "# ==============================================================================\n",
    "# Create an empirical CDF function using interpolation\n",
    "\n",
    "def crps_quadrature_from_quantiles(true_value, predicted_quantiles, quantile_levels):\n",
    "    \"\"\"\n",
    "    Calculate the Continuous Ranked Probability Score (CRPS) for a given true value\n",
    "    and predicted quantiles using the function crps_quadrature from the properscoring\n",
    "    library.\n",
    "\n",
    "    Parameters\n",
    "    ----------\n",
    "    true_value : float\n",
    "        The true value of the random variable.\n",
    "    predicted_quantiles : np.array\n",
    "        The predicted quantile values.\n",
    "    quantile_levels : np.array\n",
    "        The quantile levels corresponding to the predicted quantiles.\n",
    "\n",
    "    Returns\n",
    "    -------\n",
    "    float\n",
    "        The CRPS score.\n",
    "    \"\"\"\n",
    "    if len(predicted_quantiles) != len(quantile_levels):\n",
    "        raise ValueError(\"The number of predicted quantiles and quantile levels must be equal.\")\n",
    "    \n",
    "    def empirical_cdf(x):\n",
    "        # Interpolate between quantile levels and quantile values\n",
    "        cdf_func = interp1d(predicted_quantiles, quantile_levels, bounds_error=False, fill_value=(0.0, 1.0))\n",
    "        return cdf_func(x)\n",
    "\n",
    "    # Integration bounds\n",
    "    xmin = np.min(predicted_quantiles) - 1  # lower bound\n",
    "    xmax = np.max(predicted_quantiles) + 1  # upper bound\n",
    "\n",
    "    # Compute CRPS\n",
    "    crps = ps.crps_quadrature(true_value, empirical_cdf, xmin, xmax)\n",
    "    \n",
    "    return crps[0]\n",
    "\n",
    "crps_score_1 = crps_quadrature_from_quantiles(true_value, predicted_quantiles, quantile_levels)\n",
    "crps_score_1"
   ]
  },
  {
   "cell_type": "code",
   "execution_count": 85,
   "metadata": {},
   "outputs": [
    {
     "data": {
      "text/plain": [
       "0.934568678091545"
      ]
     },
     "execution_count": 85,
     "metadata": {},
     "output_type": "execute_result"
    }
   ],
   "source": [
    "import numpy as np\n",
    "\n",
    "def crps_from_quantiles_interpolation(true_value, predicted_quantiles, quantile_levels):\n",
    "    \"\"\"\n",
    "    Calculate the Continuous Ranked Probability Score (CRPS) for a given true value\n",
    "    and predicted quantiles. The empirical cdf is approximated using linear interpolation\n",
    "    between the predicted quantiles.\n",
    "\n",
    "    Parameters\n",
    "    ----------\n",
    "    true_value : float\n",
    "        The true value of the random variable.\n",
    "    predicted_quantiles : np.array\n",
    "        The predicted quantile values.\n",
    "    quantile_levels : np.array\n",
    "        The quantile levels corresponding to the predicted quantiles.\n",
    "\n",
    "    Returns\n",
    "    -------\n",
    "    float\n",
    "        The CRPS score.\n",
    "    \"\"\"\n",
    "    if len(predicted_quantiles) != len(quantile_levels):\n",
    "        raise ValueError(\"The number of predicted quantiles and quantile levels must be equal.\")\n",
    "\n",
    "    sorted_indices = np.argsort(predicted_quantiles)\n",
    "    predicted_quantiles = predicted_quantiles[sorted_indices]\n",
    "    quantile_levels = quantile_levels[sorted_indices]\n",
    "\n",
    "    # Define the empirical CDF function using interpolation\n",
    "    def empirical_cdf(x):\n",
    "        return np.interp(x, predicted_quantiles, quantile_levels, left=0.0, right=1.0)\n",
    "\n",
    "    # Define the CRPS integrand\n",
    "    def crps_integrand(x):\n",
    "        return (empirical_cdf(x) - (x >= true_value)) ** 2\n",
    "\n",
    "    # Integration bounds: Extend slightly beyond predicted quantiles\n",
    "    xmin = np.min(predicted_quantiles) - 2\n",
    "    xmax = np.max(predicted_quantiles) + 2\n",
    "\n",
    "    # Create a fine grid of x values for integration\n",
    "    x_values = np.linspace(xmin, xmax, 1000)\n",
    "\n",
    "    # Compute the integrand values and integrate using the trapezoidal rule\n",
    "    integrand_values = crps_integrand(x_values)\n",
    "    crps = np.trapz(integrand_values, x_values)\n",
    "\n",
    "    return crps\n",
    "\n",
    "crps_score_2 = crps_from_quantiles_interpolation(true_value, predicted_quantiles, quantile_levels)\n",
    "crps_score_2\n"
   ]
  },
  {
   "cell_type": "code",
   "execution_count": 87,
   "metadata": {},
   "outputs": [
    {
     "data": {
      "text/plain": [
       "0.988125"
      ]
     },
     "execution_count": 87,
     "metadata": {},
     "output_type": "execute_result"
    }
   ],
   "source": [
    "import numpy as np\n",
    "\n",
    "def crps_from_quantiles_no_interpolation(true_value, predicted_quantiles, quantile_levels):\n",
    "    \"\"\"\n",
    "    Calculate CRPS using predicted quantiles, treating the CDF as a step function.\n",
    "\n",
    "    Parameters\n",
    "    ----------\n",
    "    true_value : float\n",
    "        The true value of the random variable.\n",
    "    predicted_quantiles : np.array\n",
    "        The predicted quantile values.\n",
    "    quantile_levels : np.array\n",
    "        The quantile levels corresponding to the predicted quantiles.\n",
    "\n",
    "    Returns\n",
    "    -------\n",
    "    float\n",
    "        The CRPS score.\n",
    "    \"\"\"\n",
    "    # Ensure inputs are numpy arrays and sorted\n",
    "    predicted_quantiles = np.array(predicted_quantiles)\n",
    "    quantile_levels = np.array(quantile_levels)\n",
    "    \n",
    "    sorted_indices = np.argsort(predicted_quantiles)\n",
    "    predicted_quantiles = predicted_quantiles[sorted_indices]\n",
    "    quantile_levels = quantile_levels[sorted_indices]\n",
    "\n",
    "    # Initialize CRPS sum\n",
    "    crps = 0.0\n",
    "\n",
    "    # Iterate through each quantile segment\n",
    "    for i in range(len(predicted_quantiles) - 1):\n",
    "        q_i = predicted_quantiles[i]\n",
    "        q_next = predicted_quantiles[i + 1]\n",
    "        F_i = quantile_levels[i]\n",
    "        \n",
    "        # Heaviside step function difference\n",
    "        heaviside_diff = F_i - (q_i >= true_value)\n",
    "        \n",
    "        # Segment width (difference between consecutive quantiles)\n",
    "        segment_width = q_next - q_i\n",
    "        \n",
    "        # Add contribution of this segment to CRPS\n",
    "        crps += heaviside_diff ** 2 * segment_width\n",
    "    \n",
    "    return crps[0]\n",
    "\n",
    "# Example usage:\n",
    "crps_score_3 = crps_from_quantiles_no_interpolation(true_value, predicted_quantiles, quantile_levels)\n",
    "crps_score_3"
   ]
  },
  {
   "cell_type": "code",
   "execution_count": 88,
   "metadata": {},
   "outputs": [
    {
     "name": "stdout",
     "output_type": "stream",
     "text": [
      "0.9342500002584768\n",
      "0.934568678091545\n",
      "0.988125\n"
     ]
    }
   ],
   "source": [
    "print(crps_score_1)\n",
    "print(crps_score_2)\n",
    "print(crps_score_3)"
   ]
  }
 ],
 "metadata": {
  "kernelspec": {
   "display_name": "skforecast_14_p12",
   "language": "python",
   "name": "python3"
  },
  "language_info": {
   "codemirror_mode": {
    "name": "ipython",
    "version": 3
   },
   "file_extension": ".py",
   "mimetype": "text/x-python",
   "name": "python",
   "nbconvert_exporter": "python",
   "pygments_lexer": "ipython3",
   "version": "3.12.4"
  },
  "orig_nbformat": 4
 },
 "nbformat": 4,
 "nbformat_minor": 2
}
