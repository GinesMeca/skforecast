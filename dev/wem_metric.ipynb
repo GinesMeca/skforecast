{
 "cells": [
  {
   "cell_type": "code",
   "execution_count": 1,
   "metadata": {},
   "outputs": [
    {
     "name": "stdout",
     "output_type": "stream",
     "text": [
      "c:\\Users\\Joaquín Amat\\Documents\\GitHub\\skforecast\n"
     ]
    }
   ],
   "source": [
    "%load_ext autoreload\n",
    "%autoreload 2\n",
    "import sys\n",
    "from pathlib import Path\n",
    "path = str(Path.cwd().parent)\n",
    "print(path)\n",
    "sys.path.insert(1, path)"
   ]
  },
  {
   "cell_type": "markdown",
   "metadata": {},
   "source": [
    "# Exponential weighted moving average"
   ]
  },
  {
   "cell_type": "code",
   "execution_count": 2,
   "metadata": {},
   "outputs": [],
   "source": [
    "import numpy as np\n",
    "from numba import njit\n",
    "import numba as nb\n",
    "import pandas as pd\n",
    "\n",
    "\n",
    "# @njit\n",
    "# def ewma(\n",
    "#     x: np.ndarray, alpha: float, adjust: bool = True, ignore_na: bool = False\n",
    "# ) -> np.ndarray:\n",
    "#     \"\"\"\n",
    "#     Calculate the Exponentially Weighted Moving Average of an xay. This\n",
    "#     implementation mimics the pandas implementation of the same function.\n",
    "\n",
    "#     This implementation is based on the work of rjenc29 in the following\n",
    "#     link: https://github.com/rjenc29/numerical/blob/master/utilities/ewma.py\n",
    "\n",
    "#     Parameters\n",
    "#     ----------\n",
    "#     x : np.xay\n",
    "#         The xay to calculate the EWMA.\n",
    "#     alpha : float\n",
    "#         The decay factor.\n",
    "#     adjust : bool, optional\n",
    "#         Adjust the weights for the bias towards zero. The default is False.\n",
    "#     ignore_na : bool, optional\n",
    "#         Ignore missing values. The default is False.\n",
    "\n",
    "#     Returns\n",
    "#     -------\n",
    "#     np.xay\n",
    "#         The EWMA of the\n",
    "#     \"\"\"\n",
    "\n",
    "#     old_wt_factor = 1.0 - alpha\n",
    "#     new_wt = 1.0 if adjust else alpha\n",
    "\n",
    "#     n = x.shape[0]\n",
    "#     output = np.empty(n)\n",
    "\n",
    "#     weighted_avg = x[0]\n",
    "#     is_observation = weighted_avg == weighted_avg\n",
    "#     nobs = int(is_observation)\n",
    "#     output[0] = weighted_avg if (nobs >= 1) else np.nan\n",
    "#     old_wt = 1.0\n",
    "\n",
    "#     for i in range(1, n):\n",
    "#         cur = x[i]\n",
    "#         is_observation = cur == cur\n",
    "#         nobs += int(is_observation)\n",
    "#         if weighted_avg == weighted_avg:\n",
    "#             if is_observation or (not ignore_na):\n",
    "#                 old_wt *= old_wt_factor\n",
    "#                 if is_observation:\n",
    "#                     if weighted_avg != cur:\n",
    "#                         weighted_avg = (\n",
    "#                             (old_wt * weighted_avg) + (new_wt * cur)\n",
    "#                         ) / (old_wt + new_wt)\n",
    "#                     if adjust:\n",
    "#                         old_wt += new_wt\n",
    "#                     else:\n",
    "#                         old_wt = 1.0\n",
    "#         elif is_observation:\n",
    "#             weighted_avg = cur\n",
    "\n",
    "#         output[i] = weighted_avg if (nobs >= 1) else np.nan\n",
    "\n",
    "#     return output"
   ]
  },
  {
   "cell_type": "code",
   "execution_count": 3,
   "metadata": {},
   "outputs": [],
   "source": [
    "# Example usage\n",
    "# rng = np.random.default_rng(42)\n",
    "# x = rng.random(50)\n",
    "# series = pd.Series(x)\n",
    "# alpha = 0.5  # The alpha value for the ewma\n",
    "\n",
    "# smoothed_x = ewma(x, alpha, adjust=True)\n",
    "# print(smoothed_x)\n",
    "# assert np.allclose(smoothed_x, series.ewm(alpha=alpha, adjust=True).mean())\n"
   ]
  },
  {
   "cell_type": "code",
   "execution_count": 4,
   "metadata": {},
   "outputs": [],
   "source": [
    "# %%timeit -n 1000 -r 10\n",
    "# ewma(x, alpha)"
   ]
  },
  {
   "cell_type": "code",
   "execution_count": 5,
   "metadata": {},
   "outputs": [],
   "source": [
    "# %%timeit -n 1000 -r 10\n",
    "# series.ewm(alpha=alpha, adjust=True).mean()"
   ]
  },
  {
   "cell_type": "markdown",
   "metadata": {},
   "source": [
    "# Exponential weighted mean"
   ]
  },
  {
   "cell_type": "code",
   "execution_count": 6,
   "metadata": {},
   "outputs": [],
   "source": [
    "import numpy as np\n",
    "\n",
    "@njit  # This tells Numba to use the fastest mode\n",
    "def ewm_jit(x: np.ndarray, alpha: float):\n",
    "    \"\"\"\n",
    "    Calculate the exponentially weighted mean of an array.\n",
    "\n",
    "    Parameters\n",
    "    ----------\n",
    "    x : numpy.ndarray\n",
    "        The input array.\n",
    "    alpha : float\n",
    "        The decay factor.\n",
    "\n",
    "    Returns\n",
    "    -------\n",
    "    float\n",
    "        The exponentially weighted mean.\n",
    "\n",
    "\n",
    "    \"\"\"\n",
    "    if not (0 < alpha <= 1):\n",
    "        raise ValueError(\"Alpha should be in the range (0, 1].\")\n",
    "    \n",
    "    n = len(x)\n",
    "    weights = 0\n",
    "    sum_weights = 0\n",
    "    for i in range(n):\n",
    "        weight = (1 - alpha) ** (n - 1 - i)\n",
    "        weights += x[i] * weight\n",
    "        sum_weights += weight\n",
    "\n",
    "    return weights / sum_weights"
   ]
  },
  {
   "cell_type": "code",
   "execution_count": 7,
   "metadata": {},
   "outputs": [],
   "source": [
    "def ewm_numpy(x: np.ndarray, alpha: float):\n",
    "    \"\"\"\n",
    "    Calculate the single exponentially weighted mean of an array using NumPy.\n",
    "\n",
    "    Parameters\n",
    "    ----------\n",
    "    x : np.ndarray\n",
    "        Input array.\n",
    "    alpha : float\n",
    "        Smoothing factor (0 < alpha <= 1).\n",
    "\n",
    "    Returns\n",
    "    -------\n",
    "    float\n",
    "        The exponentially weighted mean of the entire array.\n",
    "    \"\"\"\n",
    "    n = len(x)\n",
    "    weights = (1 - alpha) ** np.arange(n)[::-1]  # Reverse weights to match the order\n",
    "    weights /= weights.sum()  # Normalize the weights\n",
    "    return np.sum(x * weights)"
   ]
  },
  {
   "cell_type": "code",
   "execution_count": 8,
   "metadata": {},
   "outputs": [],
   "source": [
    "rng = np.random.default_rng(42)\n",
    "x = rng.random(50)\n",
    "series = pd.Series(x)\n",
    "alpha = 0.5  # The alpha value for the ewma"
   ]
  },
  {
   "cell_type": "code",
   "execution_count": 9,
   "metadata": {},
   "outputs": [
    {
     "name": "stdout",
     "output_type": "stream",
     "text": [
      "The slowest run took 69.60 times longer than the fastest. This could mean that an intermediate result is being cached.\n",
      "5.53 μs ± 12 μs per loop (mean ± std. dev. of 7 runs, 1 loop each)\n"
     ]
    }
   ],
   "source": [
    "%%timeit \n",
    "ewm_jit(x, alpha)"
   ]
  },
  {
   "cell_type": "code",
   "execution_count": 10,
   "metadata": {},
   "outputs": [
    {
     "name": "stdout",
     "output_type": "stream",
     "text": [
      "8.44 μs ± 339 ns per loop (mean ± std. dev. of 7 runs, 100,000 loops each)\n"
     ]
    }
   ],
   "source": [
    "%%timeit \n",
    "ewm_numpy(x, alpha)"
   ]
  },
  {
   "cell_type": "code",
   "execution_count": 11,
   "metadata": {},
   "outputs": [
    {
     "name": "stdout",
     "output_type": "stream",
     "text": [
      "0.34660893251701275\n",
      "0.34660893251701275\n"
     ]
    }
   ],
   "source": [
    "print(ewm_jit(x, alpha))\n",
    "print(series.ewm(alpha=alpha, adjust=True).mean().iloc[-1])\n",
    "assert np.allclose(ewm_jit(x, alpha), series.ewm(alpha=alpha, adjust=True).mean().iloc[-1])"
   ]
  },
  {
   "cell_type": "markdown",
   "metadata": {},
   "source": [
    "## RollingFeatures"
   ]
  },
  {
   "cell_type": "code",
   "execution_count": 12,
   "metadata": {},
   "outputs": [
    {
     "ename": "TypeError",
     "evalue": "RollingFeatures.__init__() got an unexpected keyword argument 'stats_kwargs'",
     "output_type": "error",
     "traceback": [
      "\u001b[1;31m---------------------------------------------------------------------------\u001b[0m",
      "\u001b[1;31mTypeError\u001b[0m                                 Traceback (most recent call last)",
      "Cell \u001b[1;32mIn[12], line 8\u001b[0m\n\u001b[0;32m      4\u001b[0m x \u001b[38;5;241m=\u001b[39m np\u001b[38;5;241m.\u001b[39marray([\u001b[38;5;241m1\u001b[39m, \u001b[38;5;241m20\u001b[39m, \u001b[38;5;241m3\u001b[39m])\n\u001b[0;32m      6\u001b[0m stats \u001b[38;5;241m=\u001b[39m [\u001b[38;5;124m'\u001b[39m\u001b[38;5;124mmin\u001b[39m\u001b[38;5;124m'\u001b[39m, \u001b[38;5;124m'\u001b[39m\u001b[38;5;124mmax\u001b[39m\u001b[38;5;124m'\u001b[39m,  \u001b[38;5;124m'\u001b[39m\u001b[38;5;124mewm\u001b[39m\u001b[38;5;124m'\u001b[39m]\n\u001b[1;32m----> 8\u001b[0m rolling \u001b[38;5;241m=\u001b[39m \u001b[43mRollingFeatures\u001b[49m\u001b[43m(\u001b[49m\n\u001b[0;32m      9\u001b[0m \u001b[43m    \u001b[49m\u001b[43mstats\u001b[49m\u001b[38;5;241;43m=\u001b[39;49m\u001b[43mstats\u001b[49m\u001b[43m,\u001b[49m\n\u001b[0;32m     10\u001b[0m \u001b[43m    \u001b[49m\u001b[43mwindow_sizes\u001b[49m\u001b[38;5;241;43m=\u001b[39;49m\u001b[38;5;241;43m3\u001b[39;49m\u001b[43m,\u001b[49m\n\u001b[0;32m     11\u001b[0m \u001b[43m    \u001b[49m\u001b[43mstats_kwargs\u001b[49m\u001b[38;5;241;43m=\u001b[39;49m\u001b[43m{\u001b[49m\u001b[38;5;124;43m'\u001b[39;49m\u001b[38;5;124;43mewm\u001b[39;49m\u001b[38;5;124;43m'\u001b[39;49m\u001b[43m:\u001b[49m\u001b[43m \u001b[49m\u001b[43m{\u001b[49m\u001b[38;5;124;43m'\u001b[39;49m\u001b[38;5;124;43malpha\u001b[39;49m\u001b[38;5;124;43m'\u001b[39;49m\u001b[43m:\u001b[49m\u001b[43m \u001b[49m\u001b[38;5;241;43m0.5\u001b[39;49m\u001b[43m}\u001b[49m\u001b[43m}\u001b[49m\n\u001b[0;32m     12\u001b[0m \u001b[43m)\u001b[49m\n\u001b[0;32m     14\u001b[0m rolling\u001b[38;5;241m.\u001b[39mtransform(X\u001b[38;5;241m=\u001b[39mx)\n",
      "\u001b[1;31mTypeError\u001b[0m: RollingFeatures.__init__() got an unexpected keyword argument 'stats_kwargs'"
     ]
    }
   ],
   "source": [
    "from skforecast.preprocessing import RollingFeatures\n",
    "\n",
    "y = pd.Series([1, 2, 3, 4, 5, 6, 7, 8, 9, 10])\n",
    "x = np.array([1, 20, 3])\n",
    "\n",
    "stats = ['min', 'max',  'ewm']\n",
    "    \n",
    "rolling = RollingFeatures(\n",
    "    stats=stats,\n",
    "    window_sizes=3,\n",
    "    stats_kwargs={'ewm': {'alpha': 0.5}}\n",
    ")\n",
    "\n",
    "rolling.transform(X=x)"
   ]
  },
  {
   "cell_type": "code",
   "execution_count": null,
   "metadata": {},
   "outputs": [
    {
     "data": {
      "text/html": [
       "<div>\n",
       "<style scoped>\n",
       "    .dataframe tbody tr th:only-of-type {\n",
       "        vertical-align: middle;\n",
       "    }\n",
       "\n",
       "    .dataframe tbody tr th {\n",
       "        vertical-align: top;\n",
       "    }\n",
       "\n",
       "    .dataframe thead th {\n",
       "        text-align: right;\n",
       "    }\n",
       "</style>\n",
       "<table border=\"1\" class=\"dataframe\">\n",
       "  <thead>\n",
       "    <tr style=\"text-align: right;\">\n",
       "      <th></th>\n",
       "      <th>roll_min_3</th>\n",
       "      <th>roll_max_3</th>\n",
       "      <th>roll_ewm_3</th>\n",
       "    </tr>\n",
       "  </thead>\n",
       "  <tbody>\n",
       "    <tr>\n",
       "      <th>3</th>\n",
       "      <td>1.0</td>\n",
       "      <td>3.0</td>\n",
       "      <td>2.428571</td>\n",
       "    </tr>\n",
       "    <tr>\n",
       "      <th>4</th>\n",
       "      <td>2.0</td>\n",
       "      <td>4.0</td>\n",
       "      <td>3.428571</td>\n",
       "    </tr>\n",
       "    <tr>\n",
       "      <th>5</th>\n",
       "      <td>3.0</td>\n",
       "      <td>5.0</td>\n",
       "      <td>4.428571</td>\n",
       "    </tr>\n",
       "    <tr>\n",
       "      <th>6</th>\n",
       "      <td>4.0</td>\n",
       "      <td>6.0</td>\n",
       "      <td>5.428571</td>\n",
       "    </tr>\n",
       "    <tr>\n",
       "      <th>7</th>\n",
       "      <td>5.0</td>\n",
       "      <td>7.0</td>\n",
       "      <td>6.428571</td>\n",
       "    </tr>\n",
       "    <tr>\n",
       "      <th>8</th>\n",
       "      <td>6.0</td>\n",
       "      <td>8.0</td>\n",
       "      <td>7.428571</td>\n",
       "    </tr>\n",
       "    <tr>\n",
       "      <th>9</th>\n",
       "      <td>7.0</td>\n",
       "      <td>9.0</td>\n",
       "      <td>8.428571</td>\n",
       "    </tr>\n",
       "  </tbody>\n",
       "</table>\n",
       "</div>"
      ],
      "text/plain": [
       "   roll_min_3  roll_max_3  roll_ewm_3\n",
       "3         1.0         3.0    2.428571\n",
       "4         2.0         4.0    3.428571\n",
       "5         3.0         5.0    4.428571\n",
       "6         4.0         6.0    5.428571\n",
       "7         5.0         7.0    6.428571\n",
       "8         6.0         8.0    7.428571\n",
       "9         7.0         9.0    8.428571"
      ]
     },
     "execution_count": 54,
     "metadata": {},
     "output_type": "execute_result"
    }
   ],
   "source": [
    "rolling.transform_batch(X=y)"
   ]
  },
  {
   "cell_type": "code",
   "execution_count": null,
   "metadata": {},
   "outputs": [
    {
     "name": "stdout",
     "output_type": "stream",
     "text": [
      "2.232876712328767\n",
      "3.232876712328767\n",
      "4.232876712328767\n",
      "5.232876712328768\n",
      "6.232876712328767\n",
      "7.232876712328768\n",
      "8.232876712328768\n"
     ]
    }
   ],
   "source": [
    "print(ewm_jit(y.iloc[:3].to_numpy(), 0.3))\n",
    "print(ewm_jit(y.iloc[1:4].to_numpy(), 0.3))\n",
    "print(ewm_jit(y.iloc[2:5].to_numpy(), 0.3))\n",
    "print(ewm_jit(y.iloc[3:6].to_numpy(), 0.3))\n",
    "print(ewm_jit(y.iloc[4:7].to_numpy(), 0.3))\n",
    "print(ewm_jit(y.iloc[5:8].to_numpy(), 0.3))\n",
    "print(ewm_jit(y.iloc[6:9].to_numpy(), 0.3))"
   ]
  }
 ],
 "metadata": {
  "kernelspec": {
   "display_name": "skforecast_14_p12",
   "language": "python",
   "name": "python3"
  },
  "language_info": {
   "codemirror_mode": {
    "name": "ipython",
    "version": 3
   },
   "file_extension": ".py",
   "mimetype": "text/x-python",
   "name": "python",
   "nbconvert_exporter": "python",
   "pygments_lexer": "ipython3",
   "version": "3.12.4"
  },
  "orig_nbformat": 4
 },
 "nbformat": 4,
 "nbformat_minor": 2
}
