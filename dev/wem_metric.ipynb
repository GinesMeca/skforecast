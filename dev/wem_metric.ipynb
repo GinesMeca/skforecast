{
 "cells": [
  {
   "cell_type": "code",
   "execution_count": 104,
   "metadata": {},
   "outputs": [
    {
     "name": "stdout",
     "output_type": "stream",
     "text": [
      "The autoreload extension is already loaded. To reload it, use:\n",
      "  %reload_ext autoreload\n",
      "/home/ubuntu/varios/skforecast\n"
     ]
    }
   ],
   "source": [
    "%load_ext autoreload\n",
    "%autoreload 2\n",
    "import sys\n",
    "from pathlib import Path\n",
    "path = str(Path.cwd().parent)\n",
    "print(path)\n",
    "sys.path.insert(1, path)"
   ]
  },
  {
   "cell_type": "code",
   "execution_count": 105,
   "metadata": {},
   "outputs": [],
   "source": [
    "import numpy as np\n",
    "from numba import njit\n",
    "import numba as nb\n",
    "import pandas as pd\n",
    "\n",
    "\n",
    "@njit\n",
    "def ewma(\n",
    "    x: np.ndarray, alpha: float, adjust: bool = True, ignore_na: bool = False\n",
    ") -> np.ndarray:\n",
    "    \"\"\"\n",
    "    Calculate the Exponentially Weighted Moving Average of an xay. This\n",
    "    implementation mimics the pandas implementation of the same function.\n",
    "\n",
    "    This implementation is based on the work of rjenc29 in the following\n",
    "    link: https://github.com/rjenc29/numerical/blob/master/utilities/ewma.py\n",
    "\n",
    "    Parameters\n",
    "    ----------\n",
    "    x : np.xay\n",
    "        The xay to calculate the EWMA.\n",
    "    alpha : float\n",
    "        The decay factor.\n",
    "    adjust : bool, optional\n",
    "        Adjust the weights for the bias towards zero. The default is False.\n",
    "    ignore_na : bool, optional\n",
    "        Ignore missing values. The default is False.\n",
    "\n",
    "    Returns\n",
    "    -------\n",
    "    np.xay\n",
    "        The EWMA of the\n",
    "    \"\"\"\n",
    "\n",
    "    old_wt_factor = 1.0 - alpha\n",
    "    new_wt = 1.0 if adjust else alpha\n",
    "\n",
    "    n = x.shape[0]\n",
    "    output = np.empty(n)\n",
    "\n",
    "    weighted_avg = x[0]\n",
    "    is_observation = weighted_avg == weighted_avg\n",
    "    nobs = int(is_observation)\n",
    "    output[0] = weighted_avg if (nobs >= 1) else np.nan\n",
    "    old_wt = 1.0\n",
    "\n",
    "    for i in range(1, n):\n",
    "        cur = x[i]\n",
    "        is_observation = cur == cur\n",
    "        nobs += int(is_observation)\n",
    "        if weighted_avg == weighted_avg:\n",
    "            if is_observation or (not ignore_na):\n",
    "                old_wt *= old_wt_factor\n",
    "                if is_observation:\n",
    "                    if weighted_avg != cur:\n",
    "                        weighted_avg = (\n",
    "                            (old_wt * weighted_avg) + (new_wt * cur)\n",
    "                        ) / (old_wt + new_wt)\n",
    "                    if adjust:\n",
    "                        old_wt += new_wt\n",
    "                    else:\n",
    "                        old_wt = 1.0\n",
    "        elif is_observation:\n",
    "            weighted_avg = cur\n",
    "\n",
    "        output[i] = weighted_avg if (nobs >= 1) else np.nan\n",
    "\n",
    "    return output"
   ]
  },
  {
   "cell_type": "code",
   "execution_count": 106,
   "metadata": {},
   "outputs": [
    {
     "name": "stdout",
     "output_type": "stream",
     "text": [
      "[0.77395605 0.55057098 0.72658637 0.71100326 0.3926415  0.68875876\n",
      " 0.72523419 0.75576852 0.44132693 0.44586086 0.40831111 0.66760135\n",
      " 0.65573179 0.7392518  0.59132848 0.40928083 0.48193336 0.27287451\n",
      " 0.55025337 0.59095892 0.67452337 0.51452463 0.74261136 0.81786624\n",
      " 0.79812487 0.49638178 0.48155139 0.26267758 0.20848354 0.44576624\n",
      " 0.5952642  0.78138697 0.55360616 0.46203293 0.46579437 0.32763287\n",
      " 0.22877719 0.35224106 0.2895752  0.4796946  0.45842326 0.64555073\n",
      " 0.67290791 0.49263728 0.66244854 0.73360645 0.56054241 0.42443526\n",
      " 0.55346538 0.34660893]\n"
     ]
    }
   ],
   "source": [
    "# Example usage\n",
    "rng = np.random.default_rng(42)\n",
    "x = rng.random(50)\n",
    "series = pd.Series(x)\n",
    "alpha = 0.5  # The alpha value for the ewma\n",
    "\n",
    "smoothed_x = ewma(x, alpha, adjust=True)\n",
    "print(smoothed_x)\n",
    "assert np.allclose(smoothed_x, series.ewm(alpha=alpha, adjust=True).mean())\n"
   ]
  },
  {
   "cell_type": "code",
   "execution_count": 107,
   "metadata": {},
   "outputs": [
    {
     "name": "stdout",
     "output_type": "stream",
     "text": [
      "98.8 μs ± 67 μs per loop (mean ± std. dev. of 10 runs, 1,000 loops each)\n"
     ]
    }
   ],
   "source": [
    "%%timeit -n 1000 -r 10\n",
    "ewma(x, alpha)"
   ]
  },
  {
   "cell_type": "code",
   "execution_count": 108,
   "metadata": {},
   "outputs": [
    {
     "name": "stdout",
     "output_type": "stream",
     "text": [
      "130 μs ± 2.94 μs per loop (mean ± std. dev. of 10 runs, 1,000 loops each)\n"
     ]
    }
   ],
   "source": [
    "%%timeit -n 1000 -r 10\n",
    "series.ewm(alpha=alpha, adjust=True).mean()"
   ]
  },
  {
   "cell_type": "code",
   "execution_count": 109,
   "metadata": {},
   "outputs": [],
   "source": [
    "import numpy as np\n",
    "\n",
    "def exponentially_weighted_mean(x, alpha):\n",
    "    if not (0 < alpha <= 1):\n",
    "        raise ValueError(\"Alpha should be in the range (0, 1].\")\n",
    "    \n",
    "    n = len(x)\n",
    "    weights = np.array([(1 - alpha) ** i for i in range(n)])\n",
    "    weights = weights[::-1]  # Reverse to match array's order\n",
    "    \n",
    "    ewm = np.sum(x * weights) / np.sum(weights)\n",
    "    return ewm\n",
    "\n",
    "\n",
    "def exponentially_weighted_mean_2(x, alpha):\n",
    "    if not (0 < alpha <= 1):\n",
    "        raise ValueError(\"Alpha should be in the range (0, 1].\")\n",
    "    \n",
    "    n = len(x)\n",
    "    weights = (1 - alpha) ** np.arange(n)[::-1]  # Generate and reverse weights\n",
    "    sum_weights = (1 - (1 - alpha) ** n) / alpha  # Sum of geometric series\n",
    "    \n",
    "    ewm = np.sum(x * weights) / sum_weights\n",
    "    return ewm\n",
    "\n",
    "\n",
    "@njit  # This tells Numba to use the fastest mode\n",
    "def exponentially_weighted_mean_3(x:np.ndarray, alpha:float):\n",
    "    \"\"\"\n",
    "    Calculate the exponentially weighted mean of an array.\n",
    "\n",
    "    Parameters\n",
    "    ----------\n",
    "    x : numpy.ndarray\n",
    "        The input array.\n",
    "    alpha : float\n",
    "        The decay factor.\n",
    "\n",
    "    Returns\n",
    "    -------\n",
    "    float\n",
    "        The exponentially weighted mean.\n",
    "\n",
    "\n",
    "    \"\"\"\n",
    "    if not (0 < alpha <= 1):\n",
    "        raise ValueError(\"Alpha should be in the range (0, 1].\")\n",
    "    \n",
    "    n = len(x)\n",
    "    weights = 0\n",
    "    sum_weights = 0\n",
    "    for i in range(n):\n",
    "        weight = (1 - alpha) ** (n - 1 - i)\n",
    "        weights += x[i] * weight\n",
    "        sum_weights += weight\n",
    "\n",
    "    return weights / sum_weights"
   ]
  },
  {
   "cell_type": "code",
   "execution_count": 110,
   "metadata": {},
   "outputs": [
    {
     "name": "stdout",
     "output_type": "stream",
     "text": [
      "0.3466089325170127\n"
     ]
    }
   ],
   "source": [
    "print(exponentially_weighted_mean(x, alpha))\n",
    "assert np.allclose(exponentially_weighted_mean(x, alpha), series.ewm(alpha=alpha, adjust=True).mean().iloc[-1])"
   ]
  },
  {
   "cell_type": "code",
   "execution_count": 111,
   "metadata": {},
   "outputs": [
    {
     "name": "stdout",
     "output_type": "stream",
     "text": [
      "0.3466089325170127\n"
     ]
    }
   ],
   "source": [
    "print(exponentially_weighted_mean_2(x, alpha))\n",
    "assert np.allclose(exponentially_weighted_mean_2(x, alpha), series.ewm(alpha=alpha, adjust=True).mean().iloc[-1])"
   ]
  },
  {
   "cell_type": "code",
   "execution_count": 112,
   "metadata": {},
   "outputs": [
    {
     "name": "stdout",
     "output_type": "stream",
     "text": [
      "0.34660893251701275\n"
     ]
    }
   ],
   "source": [
    "print(exponentially_weighted_mean_3(x, alpha))\n",
    "assert np.allclose(exponentially_weighted_mean_3(x, alpha), series.ewm(alpha=alpha, adjust=True).mean().iloc[-1])"
   ]
  },
  {
   "cell_type": "code",
   "execution_count": 113,
   "metadata": {},
   "outputs": [
    {
     "name": "stdout",
     "output_type": "stream",
     "text": [
      "25.8 μs ± 407 ns per loop (mean ± std. dev. of 7 runs, 10,000 loops each)\n"
     ]
    }
   ],
   "source": [
    "%%timeit\n",
    "exponentially_weighted_mean(x, alpha)"
   ]
  },
  {
   "cell_type": "code",
   "execution_count": 114,
   "metadata": {},
   "outputs": [
    {
     "name": "stdout",
     "output_type": "stream",
     "text": [
      "15.5 μs ± 4.75 μs per loop (mean ± std. dev. of 7 runs, 10,000 loops each)\n"
     ]
    }
   ],
   "source": [
    "%%timeit\n",
    "exponentially_weighted_mean_2(x, alpha)"
   ]
  },
  {
   "cell_type": "code",
   "execution_count": 115,
   "metadata": {},
   "outputs": [
    {
     "name": "stdout",
     "output_type": "stream",
     "text": [
      "806 ns ± 1.51 ns per loop (mean ± std. dev. of 7 runs, 1,000,000 loops each)\n"
     ]
    }
   ],
   "source": [
    "%%timeit\n",
    "exponentially_weighted_mean_3(x, alpha)"
   ]
  },
  {
   "cell_type": "code",
   "execution_count": 116,
   "metadata": {},
   "outputs": [
    {
     "data": {
      "text/plain": [
       "0.6887587564882396"
      ]
     },
     "execution_count": 116,
     "metadata": {},
     "output_type": "execute_result"
    }
   ],
   "source": [
    "exponentially_weighted_mean_3(series.head(6).to_numpy(), alpha)"
   ]
  },
  {
   "cell_type": "code",
   "execution_count": 117,
   "metadata": {},
   "outputs": [
    {
     "data": {
      "text/plain": [
       "0          NaN\n",
       "1          NaN\n",
       "2          NaN\n",
       "3          NaN\n",
       "4     0.392641\n",
       "5     0.687385\n",
       "6     0.729460\n",
       "7     0.756592\n",
       "8     0.433171\n",
       "9     0.447524\n",
       "10    0.399406\n",
       "11    0.665757\n",
       "12    0.652517\n",
       "13    0.748844\n",
       "14    0.596016\n",
       "15    0.409312\n",
       "16    0.475946\n",
       "17    0.260526\n",
       "18    0.544157\n",
       "19    0.590947\n",
       "20    0.683079\n",
       "21    0.515576\n",
       "22    0.757764\n",
       "23    0.826499\n",
       "24    0.804808\n",
       "25    0.490635\n",
       "26    0.480488\n",
       "27    0.247196\n",
       "28    0.188826\n",
       "29    0.434400\n",
       "30    0.598454\n",
       "31    0.791059\n",
       "32    0.562991\n",
       "33    0.470212\n",
       "34    0.466440\n",
       "35    0.319000\n",
       "36    0.210951\n",
       "37    0.345745\n",
       "38    0.284012\n",
       "39    0.480143\n",
       "40    0.462642\n",
       "41    0.658995\n",
       "42    0.683252\n",
       "43    0.499188\n",
       "44    0.668344\n",
       "45    0.742483\n",
       "46    0.557800\n",
       "47    0.416420\n",
       "48    0.555428\n",
       "49    0.336421\n",
       "dtype: float64"
      ]
     },
     "execution_count": 117,
     "metadata": {},
     "output_type": "execute_result"
    }
   ],
   "source": [
    "series.rolling(window=5).apply(lambda x: exponentially_weighted_mean_3(x.to_numpy(), alpha))"
   ]
  }
 ],
 "metadata": {
  "kernelspec": {
   "display_name": "skforecast_14_py12",
   "language": "python",
   "name": "python3"
  },
  "language_info": {
   "codemirror_mode": {
    "name": "ipython",
    "version": 3
   },
   "file_extension": ".py",
   "mimetype": "text/x-python",
   "name": "python",
   "nbconvert_exporter": "python",
   "pygments_lexer": "ipython3",
   "version": "3.12.5"
  },
  "orig_nbformat": 4
 },
 "nbformat": 4,
 "nbformat_minor": 2
}
