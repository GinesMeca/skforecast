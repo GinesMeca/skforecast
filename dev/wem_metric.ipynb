{
 "cells": [
  {
   "cell_type": "code",
   "execution_count": 4,
   "metadata": {},
   "outputs": [
    {
     "name": "stdout",
     "output_type": "stream",
     "text": [
      "The autoreload extension is already loaded. To reload it, use:\n",
      "  %reload_ext autoreload\n",
      "c:\\Users\\Joaquín Amat\\Documents\\GitHub\\skforecast\n"
     ]
    }
   ],
   "source": [
    "%load_ext autoreload\n",
    "%autoreload 2\n",
    "import sys\n",
    "from pathlib import Path\n",
    "path = str(Path.cwd().parent)\n",
    "print(path)\n",
    "sys.path.insert(1, path)"
   ]
  },
  {
   "cell_type": "code",
   "execution_count": 5,
   "metadata": {},
   "outputs": [],
   "source": [
    "import numpy as np\n",
    "from numba import jit\n",
    "import numba as nb\n",
    "import pandas as pd\n",
    "\n",
    "\n",
    "@jit(nopython=True)\n",
    "def ewma(X, alpha, adjust=False, ignore_na=False):\n",
    "\n",
    "    old_wt_factor = 1. - alpha\n",
    "    new_wt = 1. if adjust else alpha\n",
    "\n",
    "    n = X.shape[0]\n",
    "    output = np.empty(n)\n",
    "\n",
    "    weighted_avg = X[0]\n",
    "    is_observation = (weighted_avg == weighted_avg)\n",
    "    nobs = int(is_observation)\n",
    "    output[0] = weighted_avg if (nobs >= 1) else np.nan\n",
    "    old_wt = 1.\n",
    "\n",
    "    for i in range(1, n):\n",
    "        cur = X[i]\n",
    "        is_observation = (cur == cur)\n",
    "        nobs += int(is_observation)\n",
    "        if weighted_avg == weighted_avg:\n",
    "\n",
    "            if is_observation or (not ignore_na):\n",
    "\n",
    "                old_wt *= old_wt_factor\n",
    "                if is_observation:\n",
    "\n",
    "                    if weighted_avg != cur:\n",
    "                        weighted_avg = ((old_wt * weighted_avg) +\n",
    "                                        (new_wt * cur)) / (old_wt + new_wt)\n",
    "                    if adjust:\n",
    "                        old_wt += new_wt\n",
    "                    else:\n",
    "                        old_wt = 1.\n",
    "        elif is_observation:\n",
    "            weighted_avg = cur\n",
    "\n",
    "        output[i] = weighted_avg if (nobs >= 1) else np.nan\n",
    "\n",
    "    return output\n",
    "\n",
    "\n",
    "@jit(nopython=True)\n",
    "def ewma_2(X, alpha, adjust=False, ignore_na=False):\n",
    "    old_wt_factor = 1. - alpha\n",
    "    new_wt = 1. if adjust else alpha\n",
    "\n",
    "    n = X.shape[0]\n",
    "    output = np.empty(n)\n",
    "\n",
    "    weighted_avg = X[0]\n",
    "    is_observation = not np.isnan(weighted_avg)\n",
    "    nobs = int(is_observation)\n",
    "    output[0] = weighted_avg if is_observation else np.nan\n",
    "    old_wt = 1.\n",
    "\n",
    "    for i in range(1, n):\n",
    "        cur = X[i]\n",
    "        is_observation = not np.isnan(cur)\n",
    "        nobs += int(is_observation)\n",
    "\n",
    "        if is_observation or not ignore_na:\n",
    "            old_wt *= old_wt_factor\n",
    "            if is_observation:\n",
    "                if weighted_avg != cur:\n",
    "                    weighted_avg = ((old_wt * weighted_avg) + (new_wt * cur)) / (old_wt + new_wt)\n",
    "                if adjust:\n",
    "                    old_wt += new_wt\n",
    "                else:\n",
    "                    old_wt = 1.\n",
    "        elif is_observation:\n",
    "            weighted_avg = cur\n",
    "\n",
    "        output[i] = weighted_avg if nobs >= 1 else np.nan\n",
    "\n",
    "    return output\n"
   ]
  },
  {
   "cell_type": "code",
   "execution_count": 6,
   "metadata": {},
   "outputs": [
    {
     "name": "stdout",
     "output_type": "stream",
     "text": [
      "[1.         1.66666667 2.42857143 3.26666667 4.16129032 5.0952381\n",
      " 6.05511811 7.03137255]\n"
     ]
    }
   ],
   "source": [
    "# Example usage\n",
    "X = np.array([1, 2, 3, 4, 5, 6, 7, 8])\n",
    "series = pd.Series(X)\n",
    "alpha = 0.5  # The alpha value for the ewma\n",
    "\n",
    "smoothed_X = ewma(X, alpha, adjust=True)\n",
    "print(smoothed_X)\n",
    "assert np.allclose(smoothed_X, series.ewm(alpha=alpha, adjust=True).mean())\n"
   ]
  },
  {
   "cell_type": "code",
   "execution_count": 7,
   "metadata": {},
   "outputs": [
    {
     "name": "stdout",
     "output_type": "stream",
     "text": [
      "[1.         1.66666667 2.42857143 3.26666667 4.16129032 5.0952381\n",
      " 6.05511811 7.03137255]\n"
     ]
    }
   ],
   "source": [
    "smoothed_X = ewma_2(X, alpha, adjust=True)\n",
    "print(smoothed_X)\n",
    "assert np.allclose(smoothed_X, series.ewm(alpha=alpha, adjust=True).mean())"
   ]
  },
  {
   "cell_type": "code",
   "execution_count": 8,
   "metadata": {},
   "outputs": [
    {
     "name": "stdout",
     "output_type": "stream",
     "text": [
      "The slowest run took 14.08 times longer than the fastest. This could mean that an intermediate result is being cached.\n",
      "4 μs ± 5.84 μs per loop (mean ± std. dev. of 7 runs, 1 loop each)\n"
     ]
    }
   ],
   "source": [
    "%%timeit\n",
    "smoothed_X = ewma(X, alpha)"
   ]
  },
  {
   "cell_type": "code",
   "execution_count": 9,
   "metadata": {},
   "outputs": [
    {
     "name": "stdout",
     "output_type": "stream",
     "text": [
      "The slowest run took 12.75 times longer than the fastest. This could mean that an intermediate result is being cached.\n",
      "4.51 μs ± 6.49 μs per loop (mean ± std. dev. of 7 runs, 1 loop each)\n"
     ]
    }
   ],
   "source": [
    "%%timeit\n",
    "smoothed_X = ewma_2(X, alpha)"
   ]
  }
 ],
 "metadata": {
  "kernelspec": {
   "display_name": "skforecast_14_p12",
   "language": "python",
   "name": "python3"
  },
  "language_info": {
   "codemirror_mode": {
    "name": "ipython",
    "version": 3
   },
   "file_extension": ".py",
   "mimetype": "text/x-python",
   "name": "python",
   "nbconvert_exporter": "python",
   "pygments_lexer": "ipython3",
   "version": "3.12.4"
  },
  "orig_nbformat": 4
 },
 "nbformat": 4,
 "nbformat_minor": 2
}
