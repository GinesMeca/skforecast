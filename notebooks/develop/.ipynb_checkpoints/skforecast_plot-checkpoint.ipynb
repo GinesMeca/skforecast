{
 "cells": [
  {
   "cell_type": "markdown",
   "metadata": {},
   "source": [
    " "
   ]
  },
  {
   "cell_type": "code",
   "execution_count": 1,
   "metadata": {},
   "outputs": [],
   "source": [
    "#!pip install git+https://github.com/JoaquinAmatRodrigo/skforecast#master --upgrade"
   ]
  },
  {
   "cell_type": "markdown",
   "metadata": {},
   "source": [
    "# Unit Testing"
   ]
  },
  {
   "cell_type": "code",
   "execution_count": 1,
   "metadata": {},
   "outputs": [],
   "source": [
    "%load_ext autoreload\n",
    "%autoreload 2\n",
    "import sys\n",
    "sys.path.insert(1, '/home/ximo/Documents/GitHub/skforecast')\n",
    "%config Completer.use_jedi = False"
   ]
  },
  {
   "cell_type": "code",
   "execution_count": 2,
   "metadata": {},
   "outputs": [],
   "source": [
    "# Unit test check_y\n",
    "# ==============================================================================\n",
    "import pytest\n",
    "import numpy as np\n",
    "import pandas as pd\n",
    "from skforecast.utils import check_y\n",
    "\n",
    "def test_check_y_exception_when_y_not_series():\n",
    "    '''\n",
    "    Check exception is raised when y is not pandas Series\n",
    "    '''\n",
    "    with pytest.raises(Exception):\n",
    "        check_y(y=10)\n",
    "    \n",
    "    with pytest.raises(Exception):\n",
    "        check_y(y=[1, 2, 3])\n",
    "    \n",
    "    with pytest.raises(Exception):\n",
    "        check_y(y=np.arange(10).reshape(-1, 1))\n",
    "\n",
    "\n",
    "def test_check_y_exception_when_y_has_missing_values():\n",
    "    '''\n",
    "    Check exception is raised when y has missing values\n",
    "    '''\n",
    "    with pytest.raises(Exception):\n",
    "        check_y(pd.Series([0, 1, None]))\n",
    "        \n",
    "test_check_y_exception_when_y_not_series()\n",
    "test_check_y_exception_when_y_has_missing_values()"
   ]
  },
  {
   "cell_type": "code",
   "execution_count": 3,
   "metadata": {},
   "outputs": [],
   "source": [
    "# Unit test check_exog\n",
    "# ==============================================================================\n",
    "import pytest\n",
    "import numpy as np\n",
    "import pandas as pd\n",
    "from skforecast.utils import check_exog\n",
    "\n",
    "def test_check_exog_exception_when_exog_not_series_or_dataframe():\n",
    "    '''\n",
    "    Check exception is raised when y is not pandas Series\n",
    "    '''\n",
    "    with pytest.raises(Exception):\n",
    "        check_exog(y=10)\n",
    "    \n",
    "    with pytest.raises(Exception):\n",
    "        check_exog(y=[1, 2, 3])\n",
    "    \n",
    "    with pytest.raises(Exception):\n",
    "        check_exog(y=np.arange(10).reshape(-1, 2))\n",
    "\n",
    "\n",
    "def test_check_exog_exception_when_exog_has_missing_values():\n",
    "    '''\n",
    "    Check exception is raised when y has missing values\n",
    "    '''\n",
    "    with pytest.raises(Exception):\n",
    "        check_exog(pd.Series([0, 1, None]))\n",
    "    with pytest.raises(Exception):\n",
    "        check_exog(pd.DataFrame([[1,2], [3, None], [5, 6]]))\n",
    "    \n",
    "test_check_exog_exception_when_exog_not_series_or_dataframe()\n",
    "test_check_exog_exception_when_exog_has_missing_values()"
   ]
  },
  {
   "cell_type": "code",
   "execution_count": 15,
   "metadata": {},
   "outputs": [
    {
     "name": "stderr",
     "output_type": "stream",
     "text": [
      "/home/ximo/Documents/GitHub/skforecast/skforecast/utils/utils.py:84: UserWarning: `y` has DatetimeIndex index but no frequency. Index is overwritten with a RangeIndex.\n",
      "  '`y` has DatetimeIndex index but no frequency. '\n",
      "/home/ximo/Documents/GitHub/skforecast/skforecast/utils/utils.py:94: UserWarning: `y` has no DatetimeIndex index. Index is overwritten with a RangeIndex.\n",
      "  '`y` has no DatetimeIndex index. Index is overwritten with a RangeIndex.'\n"
     ]
    }
   ],
   "source": [
    "# Unit test preprocess_y\n",
    "# ==============================================================================\n",
    "import pytest\n",
    "import numpy as np\n",
    "import pandas as pd\n",
    "from skforecast.utils import preprocess_y\n",
    "\n",
    "def test_output_preprocess_y_when_y_index_is_DatetimeIndex_and_has_frequecy():\n",
    "    '''\n",
    "    Test values returned by when y is a pandas Series DatetimeIndex and freq is\n",
    "    not None.\n",
    "    '''\n",
    "    y = pd.Series(\n",
    "            data = np.arange(3),\n",
    "            index = pd.date_range(\"1990-01-01\", periods=3, freq='D')\n",
    "        )\n",
    "    results = preprocess_y(y)\n",
    "    expected = (np.arange(3),\n",
    "                pd.DatetimeIndex(['1990-01-01', '1990-01-02', '1990-01-03'],\n",
    "                                 dtype='datetime64[ns]', freq='D')\n",
    "               )\n",
    "    assert (results[0] == expected[0]).all()\n",
    "    assert (results[1] == expected[1]).all()\n",
    "    \n",
    "\n",
    "def test_output_preprocess_y_when_y_index_is_DatetimeIndex_but_has_not_frequecy():\n",
    "    '''\n",
    "    Test values returned by when y is a pandas Series with DatetimeIndex but freq \n",
    "    is None.\n",
    "    '''\n",
    "    y = pd.Series(\n",
    "            data = np.arange(3),\n",
    "            index = pd.to_datetime([\"1990-01-01\", \"1990-01-02\", \"1990-01-03\"])\n",
    "        )\n",
    "    \n",
    "    results = preprocess_y(y)\n",
    "    expected = (np.arange(3),\n",
    "                pd.RangeIndex(start=0, stop=3, step=1)\n",
    "               )\n",
    "    assert (results[0] == expected[0]).all()\n",
    "    assert (results[1] == expected[1]).all()\n",
    "    \n",
    "    \n",
    "def test_output_preprocess_y_when_y_index_is_not_DatetimeIndex():\n",
    "    '''\n",
    "    Test values returned by when y is a pandas Series without DatetimeIndex.\n",
    "    '''\n",
    "    y = pd.Series(data=np.arange(3))\n",
    "    results = preprocess_y(y)\n",
    "    expected = (np.arange(3),\n",
    "                pd.RangeIndex(start=0, stop=3, step=1)\n",
    "               )\n",
    "    assert (results[0] == expected[0]).all()\n",
    "    assert (results[1] == expected[1]).all()\n",
    "    \n",
    "    \n",
    "test_output_preprocess_y_when_y_index_is_DatetimeIndex_and_has_frequecy()\n",
    "test_output_preprocess_y_when_y_index_is_DatetimeIndex_but_has_not_frequecy()\n",
    "test_output_preprocess_y_when_y_index_is_not_DatetimeIndex()"
   ]
  },
  {
   "cell_type": "code",
   "execution_count": 17,
   "metadata": {},
   "outputs": [
    {
     "name": "stderr",
     "output_type": "stream",
     "text": [
      "/home/ximo/Documents/GitHub/skforecast/skforecast/utils/utils.py:136: UserWarning: `last_window` has DatetimeIndex index but no frequency. Index is overwritten with a RangeIndex.\n",
      "  '`last_window` has DatetimeIndex index but no frequency. '\n"
     ]
    }
   ],
   "source": [
    "# Unit test preprocess_last_window\n",
    "# ==============================================================================\n",
    "import pytest\n",
    "import numpy as np\n",
    "import pandas as pd\n",
    "from skforecast.utils import preprocess_last_window\n",
    "\n",
    "def test_output_preprocess_last_window_when_last_window_index_is_DatetimeIndex_and_has_frequecy():\n",
    "    '''\n",
    "    Test values returned by when last_window is a pandas Series with DatetimeIndex\n",
    "    and freq is not None.\n",
    "    '''\n",
    "    last_window = pd.Series(\n",
    "            data = np.arange(3),\n",
    "            index = pd.date_range(\"1990-01-01\", periods=3, freq='D')\n",
    "        )\n",
    "    results = preprocess_last_window(last_window)\n",
    "    expected = (np.arange(3),\n",
    "                pd.DatetimeIndex(['1990-01-01', '1990-01-02', '1990-01-03'],\n",
    "                                 dtype='datetime64[ns]', freq='D')\n",
    "               )\n",
    "    assert (results[0] == expected[0]).all()\n",
    "    assert (results[1] == expected[1]).all()\n",
    "    \n",
    "\n",
    "def test_output_preprocess_last_window_when_last_window_index_is_DatetimeIndex_but_has_not_frequecy():\n",
    "    '''\n",
    "    Test values returned by when last_window is a pandas Series with DatetimeIndex\n",
    "    and freq is None.\n",
    "    '''\n",
    "    last_window = pd.Series(\n",
    "            data = np.arange(3),\n",
    "            index = pd.to_datetime([\"1990-01-01\", \"1990-01-02\", \"1990-01-03\"])\n",
    "        )\n",
    "    \n",
    "    results = preprocess_last_window(last_window)\n",
    "    expected = (np.arange(3),\n",
    "                pd.RangeIndex(start=0, stop=3, step=1)\n",
    "               )\n",
    "    assert (results[0] == expected[0]).all()\n",
    "    assert (results[1] == expected[1]).all()\n",
    "    \n",
    "    \n",
    "def test_output_preprocess_last_window_when_last_window_index_is_not_DatetimeIndex():\n",
    "    '''\n",
    "    Test values returned by when last_window is a pandas Series without DatetimeIndex.\n",
    "    '''\n",
    "    last_window = pd.Series(data=np.arange(3))\n",
    "    results = preprocess_last_window(last_window)\n",
    "    expected = (np.arange(3),\n",
    "                pd.RangeIndex(start=0, stop=3, step=1)\n",
    "               )\n",
    "    assert (results[0] == expected[0]).all()\n",
    "    assert (results[1] == expected[1]).all()\n",
    "    \n",
    "    \n",
    "test_output_preprocess_last_window_when_last_window_index_is_DatetimeIndex_and_has_frequecy()\n",
    "test_output_preprocess_last_window_when_last_window_index_is_DatetimeIndex_but_has_not_frequecy()\n",
    "test_output_preprocess_last_window_when_last_window_index_is_not_DatetimeIndex()"
   ]
  },
  {
   "cell_type": "code",
   "execution_count": 19,
   "metadata": {},
   "outputs": [
    {
     "name": "stderr",
     "output_type": "stream",
     "text": [
      "/home/ximo/Documents/GitHub/skforecast/skforecast/utils/utils.py:180: UserWarning: `exog` has DatetimeIndex index but no frequency. The index is overwritten with a RangeIndex.\n",
      "  ('`exog` has DatetimeIndex index but no frequency. The index is '\n"
     ]
    }
   ],
   "source": [
    "# Unit test preprocess_exog\n",
    "# ==============================================================================\n",
    "import pytest\n",
    "import numpy as np\n",
    "import pandas as pd\n",
    "from skforecast.utils import preprocess_exog\n",
    "\n",
    "def test_output_preprocess_exog_when_exog_index_is_DatetimeIndex_and_has_frequecy():\n",
    "    '''\n",
    "    Test values returned by when exog is a pandas Series with DatetimeIndex\n",
    "    and freq is not None.\n",
    "    '''\n",
    "    exog = pd.Series(\n",
    "            data = np.arange(3),\n",
    "            index = pd.date_range(\"1990-01-01\", periods=3, freq='D')\n",
    "        )\n",
    "    results = preprocess_exog(exog)\n",
    "    expected = (np.arange(3),\n",
    "                pd.DatetimeIndex(['1990-01-01', '1990-01-02', '1990-01-03'],\n",
    "                                 dtype='datetime64[ns]', freq='D')\n",
    "               )\n",
    "    assert (results[0] == expected[0]).all()\n",
    "    assert (results[1] == expected[1]).all()\n",
    "    \n",
    "\n",
    "def test_output_preprocess_exog_when_exog_index_is_DatetimeIndex_but_has_not_frequecy():\n",
    "    '''\n",
    "    Test values returned by when exog is a pandas Series with DatetimeIndex\n",
    "    and freq is None.\n",
    "    '''\n",
    "    exog = pd.Series(\n",
    "            data = np.arange(3),\n",
    "            index = pd.to_datetime([\"1990-01-01\", \"1990-01-02\", \"1990-01-03\"])\n",
    "        )\n",
    "    \n",
    "    results = preprocess_exog(exog)\n",
    "    expected = (np.arange(3),\n",
    "                pd.RangeIndex(start=0, stop=3, step=1)\n",
    "               )\n",
    "    assert (results[0] == expected[0]).all()\n",
    "    assert (results[1] == expected[1]).all()\n",
    "    \n",
    "    \n",
    "def test_output_preprocess_exog_when_exog_index_is_not_DatetimeIndex():\n",
    "    '''\n",
    "    Test values returned by when exog is a pandas Series without DatetimeIndex.\n",
    "    '''\n",
    "    exog = pd.Series(data=np.arange(3))\n",
    "    results = preprocess_exog(exog)\n",
    "    expected = (np.arange(3),\n",
    "                pd.RangeIndex(start=0, stop=3, step=1)\n",
    "               )\n",
    "    assert (results[0] == expected[0]).all()\n",
    "    assert (results[1] == expected[1]).all()\n",
    "    \n",
    "    \n",
    "test_output_preprocess_exog_when_exog_index_is_DatetimeIndex_and_has_frequecy()\n",
    "test_output_preprocess_exog_when_exog_index_is_DatetimeIndex_but_has_not_frequecy()\n",
    "test_output_preprocess_exog_when_exog_index_is_not_DatetimeIndex()"
   ]
  },
  {
   "cell_type": "code",
   "execution_count": 26,
   "metadata": {},
   "outputs": [],
   "source": [
    "# Unit test expand_index\n",
    "# ==============================================================================\n",
    "import pytest\n",
    "import numpy as np\n",
    "import pandas as pd\n",
    "from skforecast.utils import expand_index\n",
    "\n",
    "def test_output_expand_index_when_index_is_DatetimeIndex():\n",
    "    '''\n",
    "    Test values returned by expand_index when input is DatetimeIndex.\n",
    "    '''\n",
    "    index = pd.DatetimeIndex(['1990-01-01', '1990-01-02', '1990-01-03'],\n",
    "                             dtype='datetime64[ns]', freq='D')\n",
    "    expected = pd.DatetimeIndex(['1990-01-04', '1990-01-05', '1990-01-06'],\n",
    "                             dtype='datetime64[ns]', freq='D')\n",
    "    results = expand_index(index, steps=3)\n",
    "    \n",
    "    assert (results == expected).all()\n",
    "    \n",
    "def test_output_expand_index_when_index_is_RangeIndex():\n",
    "    '''\n",
    "    Test values returned by expand_index when input is RangeIndex.\n",
    "    '''\n",
    "    index = pd.RangeIndex(start=0, stop=3, step=1)\n",
    "    expected = pd.RangeIndex(start=3, stop=6, step=1)\n",
    "    results = expand_index(index, steps=3)\n",
    "    \n",
    "    assert (results == expected).all()\n",
    "\n",
    "test_output_expand_index_when_index_is_DatetimeIndex()\n",
    "test_output_expand_index_when_index_is_RangeIndex()"
   ]
  },
  {
   "cell_type": "markdown",
   "metadata": {},
   "source": [
    "# Información de sesión"
   ]
  },
  {
   "cell_type": "code",
   "execution_count": 39,
   "metadata": {},
   "outputs": [
    {
     "name": "stdout",
     "output_type": "stream",
     "text": [
      "-----\n",
      "matplotlib          3.4.3\n",
      "numpy               1.19.5\n",
      "pandas              1.2.5\n",
      "session_info        1.0.0\n",
      "skforecast          0.4.dev\n",
      "sklearn             1.0.1\n",
      "-----\n",
      "IPython             7.26.0\n",
      "jupyter_client      6.1.7\n",
      "jupyter_core        4.6.3\n",
      "jupyterlab          2.1.3\n",
      "notebook            6.4.0\n",
      "-----\n",
      "Python 3.7.9 (default, Aug 31 2020, 12:42:55) [GCC 7.3.0]\n",
      "Linux-5.11.0-38-generic-x86_64-with-debian-bullseye-sid\n",
      "-----\n",
      "Session information updated at 2021-10-31 21:47\n"
     ]
    }
   ],
   "source": [
    "import session_info\n",
    "session_info.show(html=False, write_req_file=False)"
   ]
  }
 ],
 "metadata": {
  "kernelspec": {
   "display_name": "cienciadedatos",
   "language": "python",
   "name": "cienciadedatos"
  },
  "language_info": {
   "codemirror_mode": {
    "name": "ipython",
    "version": 3
   },
   "file_extension": ".py",
   "mimetype": "text/x-python",
   "name": "python",
   "nbconvert_exporter": "python",
   "pygments_lexer": "ipython3",
   "version": "3.7.9"
  },
  "toc": {
   "base_numbering": 1,
   "nav_menu": {},
   "number_sections": false,
   "sideBar": true,
   "skip_h1_title": true,
   "title_cell": "Tabla de contenidos",
   "title_sidebar": "Tabla de contenidos",
   "toc_cell": false,
   "toc_position": {
    "height": "calc(100% - 180px)",
    "left": "10px",
    "top": "150px",
    "width": "284.75px"
   },
   "toc_section_display": true,
   "toc_window_display": true
  },
  "varInspector": {
   "cols": {
    "lenName": 16,
    "lenType": 16,
    "lenVar": 40
   },
   "kernels_config": {
    "python": {
     "delete_cmd_postfix": "",
     "delete_cmd_prefix": "del ",
     "library": "var_list.py",
     "varRefreshCmd": "print(var_dic_list())"
    },
    "r": {
     "delete_cmd_postfix": ") ",
     "delete_cmd_prefix": "rm(",
     "library": "var_list.r",
     "varRefreshCmd": "cat(var_dic_list()) "
    }
   },
   "position": {
    "height": "144.391px",
    "left": "1478px",
    "right": "20px",
    "top": "126px",
    "width": "350px"
   },
   "types_to_exclude": [
    "module",
    "function",
    "builtin_function_or_method",
    "instance",
    "_Feature"
   ],
   "window_display": false
  }
 },
 "nbformat": 4,
 "nbformat_minor": 4
}
