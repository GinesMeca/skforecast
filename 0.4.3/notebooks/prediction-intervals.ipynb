{
 "cells": [
  {
   "cell_type": "markdown",
   "id": "0b41c625",
   "metadata": {},
   "source": [
    "# Prediction intervals in multi-step forecasting models\n",
    "\n",
    "When trying to anticipate future values, most forecasting models try to predict what will be the most likely value. This is called point-forecasting. Although knowing in advance the expected value of a time series is useful in almost every business case, this kind of prediction does not provide any information about the confidence of the model nor the prediction uncertainty.\n",
    "\n",
    "Probabilistic forecasting, as opposed to point-forecasting, is a family of techniques that allow for predicting the expected distribution of the outcome instead of a single future value. This type of forecasting provides much rich information since it allows for creating prediction intervals, the range of likely values where the true value may fall. More formally, a prediction interval defines the interval within which the true value of the response variable is expected to be found with a given probability.\n",
    "\n",
    "There are [multiple ways to estimate prediction intervals](https://otexts.com/fpp3/prediction-intervals.html), most of which require that the residuals (errors) of the model follow a normal distribution. When this property cannot be assumed, two alternatives commonly used are bootstrapping and quantile regression. In order to illustrate how [skforecast](https://joaquinamatrodrigo.github.io/skforecast/) allows estimating prediction intervals for multi-step forecasting, the following examples attempt to predict energy demand for a 7-day horizon on an hourly basis. Two strategies are shown:\n",
    "\n",
    "+ Prediction intervals based on bootstrapped residuals and [recursive-multi-step forecaster](https://joaquinamatrodrigo.github.io/skforecast/latest/notebooks/autoregresive-forecaster.html).\n",
    "\n",
    "+ Prediction intervals based on quantile regression and [direct-multi-step forecaster](https://joaquinamatrodrigo.github.io/skforecast/latest/notebooks/direct-multi-step-forecasting.html).\n",
    "<br>\n",
    "\n",
    "<script src=\"https://kit.fontawesome.com/d20edc211b.js\" crossorigin=\"anonymous\"></script>\n",
    "\n",
    "<div class=\"admonition note\" name=\"html-admonition\" style=\"background: rgba(255,145,0,.1); padding-top: 6px; padding-bottom: 6px; padding-left: 6px; padding-right: 6px; border-radius: 8px; border-left: 8px solid #ff9100;\">\n",
    "\n",
    "<p class=\"title\">\n",
    "    <i class=\"fa-triangle-exclamation fa\" style=\"font-size: 18px; color:#ff9100;\"></i>\n",
    "    <b> &nbsp Warning</b>\n",
    "</p>\n",
    "\n",
    "As Rob J Hyndman explains in his <a href=\"https://robjhyndman.com/hyndsight/narrow-pi/\">blog</a>, in real-world problems, almost all prediction intervals are too narrow. For example, nominal 95% intervals may only provide coverage between 71% and 87%. This is a well-known phenomenon and arises because they do not account for all sources of uncertainty. With forecasting models, there are at least four sources of uncertainty:\n",
    "\n",
    "<ul>\n",
    "  <li>The random error term</li>\n",
    "    \n",
    "  <li>The parameter estimates</li>\n",
    "    \n",
    "  <li>The choice of model for the historical data</li>\n",
    "    \n",
    "  <li>The continuation of the historical data generating process into the future</li>\n",
    "</ul>\n",
    "\n",
    "When producing prediction intervals for time series models, generally only the first of these sources is taken into account. Therefore, it is advisable to use test data to validate the empirical coverage of the interval and not only rely on the expected one.\n",
    "\n",
    "</div>"
   ]
  },
  {
   "cell_type": "markdown",
   "id": "24c2cd1f",
   "metadata": {},
   "source": [
    "## Prediction intervals using bootstrapped residuals\n",
    "\n",
    "The error of one-step-ahead forecast is defined as $e_t = y_t - \\hat{y}_{t|t-1}$. Assuming future errors will be like past errors, it is possible to simulate different predictions by sampling from the collection of errors previously seen in the past (i.e., the residuals) and adding them to the predictions.\n",
    "\n",
    "<p align=\"center\"><img src=\"../img/diagram-bootstrapping-prediction-intervals.png\" style=\"width: 700px;\"></p>\n",
    "\n",
    "Doing this repeatedly, a collection of slightly different predictions is created (possible future paths), that represent the expected variance in the forecasting process. \n",
    "\n",
    "<p align=\"center\"><img src=\"../img/diagram-bootstrapping-prediction-intervals-2.png\" style=\"width: 500px;\"></p>\n",
    "\n",
    "Finally, prediction intervals can be computed by calculating the $α/2$ and $1 − α/2$ percentiles of the simulated data\n",
    "at each forecasting horizon.\n",
    "\n",
    "<p align=\"center\"><img src=\"../img/forecasting-intervals.gif\" style=\"width: 800px;\"></p>\n",
    "<br>\n",
    "\n",
    "The main advantage of this strategy is that it only requires a single model to estimate any interval. The drawback is that, running hundreds or thousands of bootstrapping iterations, is computationally very expensive and not always workable.\n",
    "\n",
    "This type of prediction intervals can be easily estimated using [ForecasterAutoreg](https://joaquinamatrodrigo.github.io/skforecast/latest/api/ForecasterAutoreg.html) and [ForecasterAutoregCustom](https://joaquinamatrodrigo.github.io/skforecast/latest/api/ForecasterAutoregCustom.html) models."
   ]
  },
  {
   "cell_type": "markdown",
   "id": "a56bb079",
   "metadata": {},
   "source": [
    "## Prediction intervals using quantile regression models\n",
    "\n",
    "\n",
    "As opposed to linear regression, which is intended to estimate the conditional mean of the response variable given certain values of the predictor variables, quantile regression aims at estimating the conditional quantiles of the response variable. For a continuous distribution function, the $\\alpha$-quantile $Q_{\\alpha}(x)$ is defined such that the probability of $Y$ being smaller than $Q_{\\alpha}(x)$ is, for a given $X=x$, equal to $\\alpha$. For example, 36% of the population values are lower than the quantile  $Q=0.36$. The most known quantile is the 50%-quantile, more commonly called the median.\n",
    "\n",
    "By combining the predictions of two quantile regressors, it is possible to build an interval. Each model estimates one of the limits of the interval. For example, the models obtained for $Q = 0.1$ and $Q = 0.9$ produce an 80% prediction interval (90% - 10% = 80%).\n",
    "\n",
    "Several machine learning algorithms are capable of modeling quantiles. Some of them are:\n",
    "\n",
    "+ [LightGBM](https://lightgbm.readthedocs.io/en/latest/index.html)\n",
    "\n",
    "+ [XGBoost](https://xgboost.readthedocs.io/en/stable/python/index.html)\n",
    "\n",
    "+ [CatBoost](https://catboost.ai/en/docs/concepts/python-reference_catboostregressor)\n",
    "\n",
    "+ [sklearn GradientBoostingRegressor](https://scikit-learn.org/stable/modules/generated/sklearn.ensemble.GradientBoostingRegressor.html#sklearn.ensemble.GradientBoostingRegressor)\n",
    "\n",
    "+ [sklearn QuantileRegressor](https://scikit-learn.org/stable/modules/generated/sklearn.linear_model.QuantileRegressor.html#sklearn.linear_model.QuantileRegressor)\n",
    "\n",
    "+ [skranger quantile RandomForest](https://skranger.readthedocs.io/en/stable/index.html)\n",
    "\n",
    "\n",
    "Just as the squared-error loss function is used to train models that predict the mean value, a specific loss function is needed in order to train models that predict quantiles. The most common metric used for quantile regression is calles [quantile loss  or pinball loss](https://en.wikipedia.org/wiki/Quantile_regression):\n",
    "\n",
    "\n",
    "$$\\text{pinball}(y, \\hat{y}) = \\frac{1}{n_{\\text{samples}}} \\sum_{i=0}^{n_{\\text{samples}}-1}  \\alpha \\max(y_i - \\hat{y}_i, 0) + (1 - \\alpha) \\max(\\hat{y}_i - y_i, 0)$$\n",
    "\n",
    "where $\\alpha$ is the target quantile, $y$ the real value and $\\hat{y}$ the quantile prediction.\n",
    "\n",
    "It can be seen that loss differs depending on the evaluated quantile. The higher the quantile, the more the loss function penalizes underestimates, and the less it penalizes overestimates. As with MSE and MAE, the goal is to minimize its values (the lower loss, the better).\n",
    "\n",
    "Two disadvantages of quantile regression, compared to the bootstrap approach to prediction intervals, are that each quantile needs its regressor and quantile regression is not available for all types of regression models. However, once the models are trained, the inference is much faster since no iterative process is needed.\n",
    "\n",
    "This type of prediction intervals can be easily estimated using [ForecasterAutoregMultiOutput](https://joaquinamatrodrigo.github.io/skforecast/latest/api/ForecasterAutoregMultiOutput.html) models."
   ]
  },
  {
   "cell_type": "markdown",
   "id": "600220f1",
   "metadata": {},
   "source": [
    "## Libraries"
   ]
  },
  {
   "cell_type": "code",
   "execution_count": 20,
   "id": "31249b17",
   "metadata": {},
   "outputs": [],
   "source": [
    "# Data processing\n",
    "# ==============================================================================\n",
    "import numpy as np\n",
    "import pandas as pd\n",
    "\n",
    "# Plots\n",
    "# ==============================================================================\n",
    "import matplotlib.pyplot as plt\n",
    "from statsmodels.graphics.tsaplots import plot_acf\n",
    "from statsmodels.graphics.tsaplots import plot_pacf\n",
    "import plotly.express as px\n",
    "import plotly.graph_objects as go\n",
    "plt.style.use('fivethirtyeight')\n",
    "plt.rcParams['lines.linewidth'] = 1.5\n",
    "dark_style = {\n",
    "    'figure.facecolor': '#212946',\n",
    "    'axes.facecolor': '#212946',\n",
    "    'savefig.facecolor':'#212946',\n",
    "    'axes.grid': True,\n",
    "    'axes.grid.which': 'both',\n",
    "    'axes.spines.left': False,\n",
    "    'axes.spines.right': False,\n",
    "    'axes.spines.top': False,\n",
    "    'axes.spines.bottom': False,\n",
    "    'grid.color': '#2A3459',\n",
    "    'grid.linewidth': '1',\n",
    "    'text.color': '0.9',\n",
    "    'axes.labelcolor': '0.9',\n",
    "    'xtick.color': '0.9',\n",
    "    'ytick.color': '0.9',\n",
    "    'font.size': 12\n",
    "}\n",
    "plt.rcParams.update(dark_style)\n",
    "\n",
    "# Modelling and Forecasting\n",
    "# ==============================================================================\n",
    "from lightgbm import LGBMRegressor\n",
    "from skforecast.ForecasterAutoreg import ForecasterAutoreg\n",
    "from skforecast.ForecasterAutoregMultiOutput import ForecasterAutoregMultiOutput\n",
    "from skforecast.model_selection import grid_search_forecaster\n",
    "from skforecast.model_selection import backtesting_forecaster\n",
    "from sklearn.metrics import mean_pinball_loss\n",
    "\n",
    "# Configuration\n",
    "# ==============================================================================\n",
    "import warnings\n",
    "warnings.filterwarnings('once')\n",
    "%config Completer.use_jedi = False"
   ]
  },
  {
   "cell_type": "markdown",
   "id": "c84c7fae",
   "metadata": {},
   "source": [
    "## Data\n",
    "\n",
    "Data used in this document were obtained from the R [tsibbledata](https://tsibbledata.tidyverts.org/reference/vic_elec.html) package. The dataset contains half-hourly electricity demand for Victoria (Australia) and additional information about the temperature and an indicator for if that day is a public holiday. In the following examples, data are aggregated at the daily level."
   ]
  },
  {
   "cell_type": "code",
   "execution_count": 21,
   "id": "acc47628",
   "metadata": {},
   "outputs": [
    {
     "data": {
      "text/html": [
       "<div>\n",
       "<style scoped>\n",
       "    .dataframe tbody tr th:only-of-type {\n",
       "        vertical-align: middle;\n",
       "    }\n",
       "\n",
       "    .dataframe tbody tr th {\n",
       "        vertical-align: top;\n",
       "    }\n",
       "\n",
       "    .dataframe thead th {\n",
       "        text-align: right;\n",
       "    }\n",
       "</style>\n",
       "<table border=\"1\" class=\"dataframe\">\n",
       "  <thead>\n",
       "    <tr style=\"text-align: right;\">\n",
       "      <th></th>\n",
       "      <th>Demand</th>\n",
       "      <th>Temperature</th>\n",
       "      <th>Holiday</th>\n",
       "    </tr>\n",
       "    <tr>\n",
       "      <th>Time</th>\n",
       "      <th></th>\n",
       "      <th></th>\n",
       "      <th></th>\n",
       "    </tr>\n",
       "  </thead>\n",
       "  <tbody>\n",
       "    <tr>\n",
       "      <th>2012-01-01</th>\n",
       "      <td>82531.745918</td>\n",
       "      <td>21.047727</td>\n",
       "      <td>True</td>\n",
       "    </tr>\n",
       "    <tr>\n",
       "      <th>2012-01-02</th>\n",
       "      <td>227778.257304</td>\n",
       "      <td>26.578125</td>\n",
       "      <td>True</td>\n",
       "    </tr>\n",
       "    <tr>\n",
       "      <th>2012-01-03</th>\n",
       "      <td>275490.988882</td>\n",
       "      <td>31.751042</td>\n",
       "      <td>True</td>\n",
       "    </tr>\n",
       "    <tr>\n",
       "      <th>2012-01-04</th>\n",
       "      <td>258955.329422</td>\n",
       "      <td>24.567708</td>\n",
       "      <td>False</td>\n",
       "    </tr>\n",
       "    <tr>\n",
       "      <th>2012-01-05</th>\n",
       "      <td>213792.376946</td>\n",
       "      <td>18.191667</td>\n",
       "      <td>False</td>\n",
       "    </tr>\n",
       "  </tbody>\n",
       "</table>\n",
       "</div>"
      ],
      "text/plain": [
       "                   Demand  Temperature  Holiday\n",
       "Time                                           \n",
       "2012-01-01   82531.745918    21.047727     True\n",
       "2012-01-02  227778.257304    26.578125     True\n",
       "2012-01-03  275490.988882    31.751042     True\n",
       "2012-01-04  258955.329422    24.567708    False\n",
       "2012-01-05  213792.376946    18.191667    False"
      ]
     },
     "execution_count": 21,
     "metadata": {},
     "output_type": "execute_result"
    }
   ],
   "source": [
    "# Data download\n",
    "# ==============================================================================\n",
    "url = ('https://raw.githubusercontent.com/JoaquinAmatRodrigo/skforecast/master/' +\n",
    "       'data/vic_elec.csv')\n",
    "data = pd.read_csv(url, sep=',')\n",
    "\n",
    "# Data preparation (aggregation at daily level)\n",
    "# ==============================================================================\n",
    "data['Time'] = pd.to_datetime(data['Time'], format='%Y-%m-%dT%H:%M:%SZ')\n",
    "data = data.set_index('Time')\n",
    "data = data.asfreq('30min')\n",
    "data = data.sort_index()\n",
    "data = data.drop(columns='Date')\n",
    "data = data.resample(rule='D', closed='left', label ='right')\\\n",
    "       .agg({'Demand': 'sum', 'Temperature': 'mean', 'Holiday': 'max'})\n",
    "data.head()"
   ]
  },
  {
   "cell_type": "code",
   "execution_count": 22,
   "id": "75a00863",
   "metadata": {},
   "outputs": [
    {
     "name": "stdout",
     "output_type": "stream",
     "text": [
      "Train dates      : 2012-01-01 00:00:00 --- 2013-12-31 00:00:00  (n=731)\n",
      "Validation dates : 2014-01-01 00:00:00 --- 2014-09-30 00:00:00  (n=273)\n",
      "Test dates       : 2014-10-01 00:00:00 --- 2014-12-30 00:00:00  (n=91)\n"
     ]
    }
   ],
   "source": [
    "# Split data into train-val-test\n",
    "# ==============================================================================\n",
    "data = data.loc['2012-01-01 00:00:00': '2014-12-30 23:00:00']\n",
    "end_train = '2013-12-31 23:59:00'\n",
    "end_validation = '2014-9-30 23:59:00'\n",
    "data_train = data.loc[: end_train, :].copy()\n",
    "data_val   = data.loc[end_train:end_validation, :].copy()\n",
    "data_test  = data.loc[end_validation:, :].copy()\n",
    "\n",
    "print(f\"Train dates      : {data_train.index.min()} --- {data_train.index.max()}  (n={len(data_train)})\")\n",
    "print(f\"Validation dates : {data_val.index.min()} --- {data_val.index.max()}  (n={len(data_val)})\")\n",
    "print(f\"Test dates       : {data_test.index.min()} --- {data_test.index.max()}  (n={len(data_test)})\")"
   ]
  },
  {
   "cell_type": "code",
   "execution_count": 23,
   "id": "6560621c",
   "metadata": {},
   "outputs": [],
   "source": [
    "# Plot time series\n",
    "# ==============================================================================\n",
    "data_train['Demand'].plot(label='train', ax=ax);\n",
    "data_val['Demand'].plot(label='validation', ax=ax);\n",
    "data_test['Demand'].plot(label='test', ax=ax)\n",
    "ax.set_ylim(bottom=160_000)\n",
    "ax.set_ylabel('MW')\n",
    "ax.set_title('Energy demand')\n",
    "ax.legend();"
   ]
  },
  {
   "cell_type": "code",
   "execution_count": 24,
   "id": "b6cd6228",
   "metadata": {},
   "outputs": [
    {
     "data": {
      "image/png": "[encoded data removed]",
      "text/plain": [
       "<Figure size 648x216 with 1 Axes>"
      ]
     },
     "metadata": {},
     "output_type": "display_data"
    }
   ],
   "source": [
    "# Autocorrelation plot\n",
    "# ==============================================================================\n",
    "fig, ax = plt.subplots(figsize=(9, 3))\n",
    "plot_acf(data.Demand, ax=ax, lags=30)\n",
    "plt.show()"
   ]
  },
  {
   "cell_type": "markdown",
   "id": "72c3b92c",
   "metadata": {},
   "source": [
    "Base on the autocorrelation plot, the last 7 days may be used as predictors."
   ]
  },
  {
   "cell_type": "markdown",
   "id": "d7d139b1",
   "metadata": {},
   "source": [
    "## Bootstrapping prediction intervals\n",
    "\n",
    "A recursive-multi-step forecaster is trained and its hyper-parameters optimized. Then, prediction intervals based on bootstrapped residuals are estimated."
   ]
  },
  {
   "cell_type": "code",
   "execution_count": 25,
   "id": "922e522c",
   "metadata": {},
   "outputs": [
    {
     "data": {
      "text/plain": [
       "================= \n",
       "ForecasterAutoreg \n",
       "================= \n",
       "Regressor: LGBMRegressor() \n",
       "Lags: [1 2 3 4 5 6 7] \n",
       "Window size: 7 \n",
       "Included exogenous: False \n",
       "Type of exogenous variable: None \n",
       "Exogenous variables names: None \n",
       "Training range: None \n",
       "Training index type: None \n",
       "Training index frequency: None \n",
       "Regressor parameters: {'boosting_type': 'gbdt', 'class_weight': None, 'colsample_bytree': 1.0, 'importance_type': 'split', 'learning_rate': 0.1, 'max_depth': -1, 'min_child_samples': 20, 'min_child_weight': 0.001, 'min_split_gain': 0.0, 'n_estimators': 100, 'n_jobs': -1, 'num_leaves': 31, 'objective': None, 'random_state': None, 'reg_alpha': 0.0, 'reg_lambda': 0.0, 'silent': 'warn', 'subsample': 1.0, 'subsample_for_bin': 200000, 'subsample_freq': 0} \n",
       "Creation date: 2022-04-14 00:06:04 \n",
       "Last fit date: None \n",
       "Skforecast version: 0.4.3 "
      ]
     },
     "execution_count": 25,
     "metadata": {},
     "output_type": "execute_result"
    }
   ],
   "source": [
    "# Create forecaster\n",
    "# ==============================================================================\n",
    "forecaster = ForecasterAutoreg(\n",
    "                regressor = LGBMRegressor(),\n",
    "                lags = 7\n",
    "            )\n",
    "forecaster"
   ]
  },
  {
   "cell_type": "markdown",
   "id": "2fe053ec",
   "metadata": {},
   "source": [
    "In order to find the best value for the hyper-parameters, a [grid search](https://joaquinamatrodrigo.github.io/skforecast/latest/notebooks/grid-search-forecaster.html) is carried out. It is important not to include test data in the search, otherwise model overfitting could happen."
   ]
  },
  {
   "cell_type": "code",
   "execution_count": 26,
   "id": "12ba3bb7",
   "metadata": {},
   "outputs": [
    {
     "name": "stdout",
     "output_type": "stream",
     "text": [
      "Number of models compared: 12\n"
     ]
    },
    {
     "name": "stderr",
     "output_type": "stream",
     "text": [
      "loop lags_grid: 100%|███████████████████████████████████████| 1/1 [00:52<00:00, 52.82s/it]"
     ]
    },
    {
     "name": "stdout",
     "output_type": "stream",
     "text": [
      "`Forecaster` refitted using the best-found lags and parameters, and the whole data set: \n",
      "  Lags: [1 2 3 4 5 6 7] \n",
      "  Parameters: {'learning_rate': 0.01, 'max_depth': 3, 'n_estimators': 500}\n",
      "  Backtesting metric: 385319031.88926536\n",
      "\n"
     ]
    },
    {
     "name": "stderr",
     "output_type": "stream",
     "text": [
      "\n"
     ]
    }
   ],
   "source": [
    "# Grid search of hyper-parameters and lags\n",
    "# ==============================================================================\n",
    "# Regressor hyper-parameters\n",
    "param_grid = {\n",
    "    'n_estimators': [100, 500],\n",
    "    'max_depth': [3, 5, 10],\n",
    "    'learning_rate': [0.01, 0.1]\n",
    "}\n",
    "\n",
    "# Lags used as predictors\n",
    "lags_grid = [7]\n",
    "\n",
    "results_grid_q10 = grid_search_forecaster(\n",
    "                            forecaster         = forecaster,\n",
    "                            y                  = data.loc[:end_validation, 'Demand'],\n",
    "                            param_grid         = param_grid,\n",
    "                            lags_grid          = lags_grid,\n",
    "                            steps              = 7,\n",
    "                            refit              = True,\n",
    "                            metric             = 'mean_squared_error',\n",
    "                            initial_train_size = int(len(data_train)),\n",
    "                            return_best        = True,\n",
    "                            verbose            = False\n",
    "                    )"
   ]
  },
  {
   "cell_type": "markdown",
   "id": "6147d87d",
   "metadata": {},
   "source": [
    "Once the best hyper-parameters have been found, a backtesting process is applied in order to evaluate the forecaster's performance on test data and calculate the real coverage of the estimated interval."
   ]
  },
  {
   "cell_type": "code",
   "execution_count": 27,
   "id": "fd5fcb7a",
   "metadata": {},
   "outputs": [
    {
     "data": {
      "text/html": [
       "<div>\n",
       "<style scoped>\n",
       "    .dataframe tbody tr th:only-of-type {\n",
       "        vertical-align: middle;\n",
       "    }\n",
       "\n",
       "    .dataframe tbody tr th {\n",
       "        vertical-align: top;\n",
       "    }\n",
       "\n",
       "    .dataframe thead th {\n",
       "        text-align: right;\n",
       "    }\n",
       "</style>\n",
       "<table border=\"1\" class=\"dataframe\">\n",
       "  <thead>\n",
       "    <tr style=\"text-align: right;\">\n",
       "      <th></th>\n",
       "      <th>pred</th>\n",
       "      <th>lower_bound</th>\n",
       "      <th>upper_bound</th>\n",
       "    </tr>\n",
       "  </thead>\n",
       "  <tbody>\n",
       "    <tr>\n",
       "      <th>2014-10-01</th>\n",
       "      <td>225166.460881</td>\n",
       "      <td>212468.082618</td>\n",
       "      <td>237934.732385</td>\n",
       "    </tr>\n",
       "    <tr>\n",
       "      <th>2014-10-02</th>\n",
       "      <td>229586.201508</td>\n",
       "      <td>214144.566479</td>\n",
       "      <td>245619.699520</td>\n",
       "    </tr>\n",
       "    <tr>\n",
       "      <th>2014-10-03</th>\n",
       "      <td>228615.742762</td>\n",
       "      <td>213233.590926</td>\n",
       "      <td>250693.382802</td>\n",
       "    </tr>\n",
       "    <tr>\n",
       "      <th>2014-10-04</th>\n",
       "      <td>214619.689935</td>\n",
       "      <td>194065.763914</td>\n",
       "      <td>238486.905575</td>\n",
       "    </tr>\n",
       "  </tbody>\n",
       "</table>\n",
       "</div>"
      ],
      "text/plain": [
       "                     pred    lower_bound    upper_bound\n",
       "2014-10-01  225166.460881  212468.082618  237934.732385\n",
       "2014-10-02  229586.201508  214144.566479  245619.699520\n",
       "2014-10-03  228615.742762  213233.590926  250693.382802\n",
       "2014-10-04  214619.689935  194065.763914  238486.905575"
      ]
     },
     "execution_count": 27,
     "metadata": {},
     "output_type": "execute_result"
    }
   ],
   "source": [
    "# Backtesting\n",
    "# ==============================================================================\n",
    "metric, predictions = backtesting_forecaster(\n",
    "                            forecaster = forecaster,\n",
    "                            y          = data['Demand'],\n",
    "                            initial_train_size = len(data_train) + len(data_val),\n",
    "                            steps      = 7,\n",
    "                            refit      = True,\n",
    "                            interval   = [10, 90],\n",
    "                            n_boot     = 1000,\n",
    "                            metric     = 'mean_squared_error',\n",
    "                            verbose    = False\n",
    "                        )\n",
    "predictions.head(4)"
   ]
  },
  {
   "cell_type": "code",
   "execution_count": 28,
   "id": "37698efc",
   "metadata": {},
   "outputs": [
    {
     "name": "stdout",
     "output_type": "stream",
     "text": [
      "Coverage of the predicted interval on test data: 75.82417582417582\n"
     ]
    }
   ],
   "source": [
    "# Interval coverage on test data\n",
    "# ==============================================================================\n",
    "inside_interval = np.where(\n",
    "                     (data.loc[predictions.index, 'Demand'] >= predictions['lower_bound']) & \\\n",
    "                     (data.loc[predictions.index, 'Demand'] <= predictions['upper_bound']),\n",
    "                     True,\n",
    "                     False\n",
    "                  )\n",
    "\n",
    "coverage = inside_interval.mean()\n",
    "print(f\"Coverage of the predicted interval on test data: {100 * coverage}\")"
   ]
  },
  {
   "cell_type": "markdown",
   "id": "9742a48f",
   "metadata": {},
   "source": [
    "The coverage of the predicted interval (76%) is slightly lower than the expected (80%)."
   ]
  },
  {
   "cell_type": "code",
   "execution_count": 29,
   "id": "c2a83605",
   "metadata": {},
   "outputs": [
    {
     "data": {
      "image/png": "[encoded data removed]",
      "text/plain": [
       "<Figure size 792x216 with 1 Axes>"
      ]
     },
     "metadata": {},
     "output_type": "display_data"
    }
   ],
   "source": [
    "# Plot\n",
    "# ==============================================================================\n",
    "fig, ax=plt.subplots(figsize=(11, 3))\n",
    "data.loc[end_validation:, 'Demand'].plot(ax=ax, label='Demand')\n",
    "ax.fill_between(\n",
    "    predictions.index,\n",
    "    predictions['lower_bound'],\n",
    "    predictions['upper_bound'],\n",
    "    color = 'deepskyblue',\n",
    "    alpha = 0.3,\n",
    "    label = '80% interval'\n",
    ")\n",
    "ax.set_ylabel('MW')\n",
    "ax.set_title('Energy demand forecast')\n",
    "ax.legend();"
   ]
  },
  {
   "cell_type": "markdown",
   "id": "f890bad9",
   "metadata": {},
   "source": [
    "By default, training residuals are used to create the prediction intervals. However, other residuals can be used, for example, residuals obtained from a validation set.\n",
    "\n",
    "To do this, the new residuals must be stored inside the forecaster using the `set_out_sample_residuals` method. Once the new residuals have been added to the forecaster, set `in_sample_residuals = False` when using the `predict` method."
   ]
  },
  {
   "cell_type": "code",
   "execution_count": 30,
   "id": "ac9b46de",
   "metadata": {},
   "outputs": [],
   "source": [
    "# Simulated residuals\n",
    "simulated_residuals = pd.Series(np.random.normal(size=500))\n",
    "forecaster.set_out_sample_residuals(residuals=simulated_residuals)"
   ]
  },
  {
   "cell_type": "markdown",
   "id": "b6f918f3",
   "metadata": {},
   "source": [
    "## Quantile regression models\n",
    "\n",
    "As in the previous example, an 80% prediction interval is estimated for 7 steps-ahead predictions but, this time, using quantile regression. A LightGBM gradient boosting model is trained in this example, however, the reader may use any other model just replacing the definition of the regressor."
   ]
  },
  {
   "cell_type": "code",
   "execution_count": 31,
   "id": "ba16569b",
   "metadata": {},
   "outputs": [],
   "source": [
    "# Create forecasters: one for each limit of the interval\n",
    "# ==============================================================================\n",
    "# The forecasters obtained for alpha=0.1 and alpha=0.9 produce a 80% confidence\n",
    "# interval (90% - 10% = 80%).\n",
    "\n",
    "# Forecaster for quantile 10%\n",
    "forecaster_q10 = ForecasterAutoregMultiOutput(\n",
    "                    regressor = LGBMRegressor(\n",
    "                                    objective     = 'quantile',\n",
    "                                    metric        = 'quantile',\n",
    "                                    alpha         = 0.1,\n",
    "                                    learning_rate = 0.1,\n",
    "                                    max_depth     = 10,\n",
    "                                    n_estimators  = 100\n",
    "                                ),\n",
    "                    lags = 7,\n",
    "                    steps = 7\n",
    "                  )\n",
    "# Forecaster for quantile 90%\n",
    "forecaster_q90 = ForecasterAutoregMultiOutput(\n",
    "                    regressor = LGBMRegressor(\n",
    "                                    objective     = 'quantile',\n",
    "                                    metric        = 'quantile',\n",
    "                                    alpha         = 0.9,\n",
    "                                    learning_rate = 0.1,\n",
    "                                    max_depth     = 10,\n",
    "                                    n_estimators  = 100\n",
    "                                ),\n",
    "                    lags = 7,\n",
    "                    steps = 7\n",
    "                  )"
   ]
  },
  {
   "cell_type": "markdown",
   "id": "609f6cd3",
   "metadata": {},
   "source": [
    "When validating a quantile regression model, a custom metric must be provided depending on the quantile being estimated. These metrics will be used again when tuning the hyper-parameters of each model."
   ]
  },
  {
   "cell_type": "code",
   "execution_count": 32,
   "id": "82d79717",
   "metadata": {},
   "outputs": [],
   "source": [
    "# Loss function for each quantile (pinball_loss)\n",
    "# ==============================================================================\n",
    "def mean_pinball_loss_q10(y_true, y_pred):\n",
    "    '''\n",
    "    Pinball loss for quantile 10.\n",
    "    '''\n",
    "    return mean_pinball_loss(y_true, y_pred, alpha=0.1)\n",
    "\n",
    "\n",
    "def mean_pinball_loss_q90(y_true, y_pred):\n",
    "    '''\n",
    "    Pinball loss for quantile 90.\n",
    "    '''\n",
    "    return mean_pinball_loss(y_true, y_pred, alpha=0.9)"
   ]
  },
  {
   "cell_type": "code",
   "execution_count": 33,
   "id": "9b4cf3c6",
   "metadata": {},
   "outputs": [],
   "source": [
    "# Backtesting on test data\n",
    "# ==============================================================================\n",
    "metric_q10, predictions_q10 = backtesting_forecaster(\n",
    "                                    forecaster = forecaster_q10,\n",
    "                                    y          = data['Demand'],\n",
    "                                    initial_train_size = len(data_train) + len(data_val),\n",
    "                                    steps      = 7,\n",
    "                                    refit      = True,\n",
    "                                    metric     = mean_pinball_loss_q10,\n",
    "                                    verbose    = False\n",
    "                                )\n",
    "\n",
    "metric_q90, predictions_q90 = backtesting_forecaster(\n",
    "                                    forecaster = forecaster_q90,\n",
    "                                    y          = data['Demand'],\n",
    "                                    initial_train_size = len(data_train) + len(data_val),\n",
    "                                    steps      = 7,\n",
    "                                    refit      = True,\n",
    "                                    metric     = mean_pinball_loss_q90,\n",
    "                                    verbose    = False\n",
    "                                )"
   ]
  },
  {
   "cell_type": "markdown",
   "id": "12d5b6bc",
   "metadata": {},
   "source": [
    "Predictions generated for each model are used to define the upper and lower limits of the interval."
   ]
  },
  {
   "cell_type": "code",
   "execution_count": 34,
   "id": "a54c705b",
   "metadata": {},
   "outputs": [
    {
     "name": "stdout",
     "output_type": "stream",
     "text": [
      "Coverage of the predicted interval: 59.34065934065934\n"
     ]
    }
   ],
   "source": [
    "# Interval coverage on test data\n",
    "# ==============================================================================\n",
    "inside_interval = np.where(\n",
    "                     (data.loc[end_validation:, 'Demand'] >= predictions_q10['pred']) & \\\n",
    "                     (data.loc[end_validation:, 'Demand'] <= predictions_q90['pred']),\n",
    "                     True,\n",
    "                     False\n",
    "                   )\n",
    "\n",
    "coverage = inside_interval.mean()\n",
    "print(f\"Coverage of the predicted interval: {100 * coverage}\")"
   ]
  },
  {
   "cell_type": "markdown",
   "id": "958b653f",
   "metadata": {},
   "source": [
    "The coverage of the predicted interval (59%) is much lower than the expected (80%)."
   ]
  },
  {
   "cell_type": "markdown",
   "id": "1f9431b3",
   "metadata": {},
   "source": [
    "The hyper-parameters of the model were hand-tuned and there is no reason that the same hyper-parameters are suitable for the 10th and 90th percentiles regressors. Therefore, a grid search is carried out for each forecaster."
   ]
  },
  {
   "cell_type": "code",
   "execution_count": 35,
   "id": "defc15b8",
   "metadata": {},
   "outputs": [
    {
     "name": "stdout",
     "output_type": "stream",
     "text": [
      "Number of models compared: 12\n"
     ]
    },
    {
     "name": "stderr",
     "output_type": "stream",
     "text": [
      "loop lags_grid: 100%|███████████████████████████████████████| 1/1 [00:07<00:00,  7.49s/it]\n"
     ]
    },
    {
     "name": "stdout",
     "output_type": "stream",
     "text": [
      "`Forecaster` refitted using the best-found lags and parameters, and the whole data set: \n",
      "  Lags: [1 2 3 4 5 6 7] \n",
      "  Parameters: {'learning_rate': 0.01, 'max_depth': 3, 'n_estimators': 500}\n",
      "  Backtesting metric: 2713.0192469016706\n",
      "\n",
      "Number of models compared: 12\n"
     ]
    },
    {
     "name": "stderr",
     "output_type": "stream",
     "text": [
      "loop lags_grid: 100%|███████████████████████████████████████| 1/1 [00:11<00:00, 11.80s/it]\n"
     ]
    },
    {
     "name": "stdout",
     "output_type": "stream",
     "text": [
      "`Forecaster` refitted using the best-found lags and parameters, and the whole data set: \n",
      "  Lags: [1 2 3 4 5 6 7] \n",
      "  Parameters: {'learning_rate': 0.01, 'max_depth': 10, 'n_estimators': 500}\n",
      "  Backtesting metric: 4094.3047516967745\n",
      "\n"
     ]
    }
   ],
   "source": [
    "# Grid search of hyper-parameters and lags for each quantile forecaster\n",
    "# ==============================================================================\n",
    "# Regressor hyper-parameters\n",
    "param_grid = {\n",
    "    'n_estimators': [100, 500],\n",
    "    'max_depth': [3, 5, 10],\n",
    "    'learning_rate': [0.01, 0.1]\n",
    "}\n",
    "\n",
    "# Lags used as predictors\n",
    "lags_grid = [7]\n",
    "\n",
    "results_grid_q10 = grid_search_forecaster(\n",
    "                            forecaster         = forecaster_q10,\n",
    "                            y                  = data.loc[:end_validation, 'Demand'],\n",
    "                            param_grid         = param_grid,\n",
    "                            lags_grid          = lags_grid,\n",
    "                            steps              = 7,\n",
    "                            refit              = False,\n",
    "                            metric             = mean_pinball_loss_q10,\n",
    "                            initial_train_size = int(len(data_train)),\n",
    "                            return_best        = True,\n",
    "                            verbose            = False\n",
    "                    )\n",
    "\n",
    "results_grid_q90 = grid_search_forecaster(\n",
    "                            forecaster         = forecaster_q90,\n",
    "                            y                  = data.loc[:end_validation, 'Demand'],\n",
    "                            param_grid         = param_grid,\n",
    "                            lags_grid          = lags_grid,\n",
    "                            steps              = 7,\n",
    "                            refit              = False,\n",
    "                            metric             = mean_pinball_loss_q90,\n",
    "                            initial_train_size = int(len(data_train)),\n",
    "                            return_best        = True,\n",
    "                            verbose            = False\n",
    "                    )"
   ]
  },
  {
   "cell_type": "markdown",
   "id": "02a9ab4a",
   "metadata": {},
   "source": [
    "Once the best hyper-parameters have been found for each forecaster, a backtesting process is applied again using the test data."
   ]
  },
  {
   "cell_type": "code",
   "execution_count": 36,
   "id": "c4169a8c",
   "metadata": {},
   "outputs": [],
   "source": [
    "# Backtesting on test data\n",
    "# ==============================================================================\n",
    "metric_q10, predictions_q10 = backtesting_forecaster(\n",
    "                                    forecaster = forecaster_q10,\n",
    "                                    y          = data['Demand'],\n",
    "                                    initial_train_size = len(data_train) + len(data_val),\n",
    "                                    steps      = 7,\n",
    "                                    refit      = False,\n",
    "                                    metric     = mean_pinball_loss_q10,\n",
    "                                    verbose    = False\n",
    "                                )\n",
    "\n",
    "metric_q90, predictions_q90 = backtesting_forecaster(\n",
    "                                    forecaster = forecaster_q90,\n",
    "                                    y          = data['Demand'],\n",
    "                                    initial_train_size = len(data_train) + len(data_val),\n",
    "                                    steps      = 7,\n",
    "                                    refit      = False,\n",
    "                                    metric     = mean_pinball_loss_q90,\n",
    "                                    verbose    = False\n",
    "                                )"
   ]
  },
  {
   "cell_type": "code",
   "execution_count": 37,
   "id": "d2455644",
   "metadata": {},
   "outputs": [
    {
     "data": {
      "image/png": "[encoded data removed]",
      "text/plain": [
       "<Figure size 792x216 with 1 Axes>"
      ]
     },
     "metadata": {},
     "output_type": "display_data"
    }
   ],
   "source": [
    "# Plot\n",
    "# ==============================================================================\n",
    "fig, ax=plt.subplots(figsize=(11, 3))\n",
    "data.loc[end_validation:, 'Demand'].plot(ax=ax, label='Demand')\n",
    "ax.fill_between(\n",
    "    data.loc[end_validation:].index,\n",
    "    predictions_q10['pred'],\n",
    "    predictions_q90['pred'],\n",
    "    color = 'deepskyblue',\n",
    "    alpha = 0.3,\n",
    "    label = '80% interval'\n",
    ")\n",
    "ax.set_ylabel('MW')\n",
    "ax.set_title('Energy demand forecast')\n",
    "ax.legend();"
   ]
  },
  {
   "cell_type": "code",
   "execution_count": 38,
   "id": "8da80d89",
   "metadata": {},
   "outputs": [
    {
     "name": "stdout",
     "output_type": "stream",
     "text": [
      "Coverage of the predicted interval: 75.82417582417582\n"
     ]
    }
   ],
   "source": [
    "# Interval coverage\n",
    "# ==============================================================================\n",
    "inside_interval = np.where(\n",
    "                     (data.loc[end_validation:, 'Demand'] >= predictions_q10['pred']) & \\\n",
    "                     (data.loc[end_validation:, 'Demand'] <= predictions_q90['pred']),\n",
    "                     True,\n",
    "                     False\n",
    "                   )\n",
    "\n",
    "coverage = inside_interval.mean()\n",
    "print(f\"Coverage of the predicted interval: {100 * coverage}\")"
   ]
  },
  {
   "cell_type": "markdown",
   "id": "9edddb0f",
   "metadata": {},
   "source": [
    "After optimizing the hyper-parameters of each quantile forecaster, the coverage is closer to the expected one (80%)."
   ]
  },
  {
   "cell_type": "code",
   "execution_count": 39,
   "id": "1b307a1e",
   "metadata": {},
   "outputs": [
    {
     "data": {
      "text/html": [
       "<style>\n",
       ".jupyter-wrapper .jp-CodeCell .jp-Cell-inputWrapper .jp-InputPrompt {display: none;}\n",
       "</style>\n"
      ],
      "text/plain": [
       "<IPython.core.display.HTML object>"
      ]
     },
     "metadata": {},
     "output_type": "display_data"
    }
   ],
   "source": [
    "%%html\n",
    "<style>\n",
    ".jupyter-wrapper .jp-CodeCell .jp-Cell-inputWrapper .jp-InputPrompt {display: none;}\n",
    "</style>"
   ]
  }
 ],
 "metadata": {
  "interpreter": {
   "hash": "6ea9a7bd5acac7ef50d998c0248a4db17b38ee2b9d85779465a12782ddc26457"
  },
  "kernelspec": {
   "display_name": "cienciadedatos_2",
   "language": "python",
   "name": "python3"
  },
  "language_info": {
   "codemirror_mode": {
    "name": "ipython",
    "version": 3
   },
   "file_extension": ".py",
   "mimetype": "text/x-python",
   "name": "python",
   "nbconvert_exporter": "python",
   "pygments_lexer": "ipython3",
   "version": "3.7.9"
  },
  "toc": {
   "base_numbering": 1,
   "nav_menu": {},
   "number_sections": false,
   "sideBar": true,
   "skip_h1_title": false,
   "title_cell": "Table of Contents",
   "title_sidebar": "Contents",
   "toc_cell": false,
   "toc_position": {},
   "toc_section_display": true,
   "toc_window_display": true
  },
  "varInspector": {
   "cols": {
    "lenName": 16,
    "lenType": 16,
    "lenVar": 40
   },
   "kernels_config": {
    "python": {
     "delete_cmd_postfix": "",
     "delete_cmd_prefix": "del ",
     "library": "var_list.py",
     "varRefreshCmd": "print(var_dic_list())"
    },
    "r": {
     "delete_cmd_postfix": ") ",
     "delete_cmd_prefix": "rm(",
     "library": "var_list.r",
     "varRefreshCmd": "cat(var_dic_list()) "
    }
   },
   "types_to_exclude": [
    "module",
    "function",
    "builtin_function_or_method",
    "instance",
    "_Feature"
   ],
   "window_display": false
  }
 },
 "nbformat": 4,
 "nbformat_minor": 5
}
