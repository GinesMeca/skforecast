{
 "cells": [
  {
   "attachments": {},
   "cell_type": "markdown",
   "id": "d1ae70e1-1354-4aa6-9dc4-73d3c7b016c5",
   "metadata": {},
   "source": [
    "# Window and custom features"
   ]
  },
  {
   "cell_type": "markdown",
   "id": "028c1370",
   "metadata": {},
   "source": [
    "When forecasting time series data, it may be useful to consider additional characteristics beyond just the lagged values. For example, the moving average of the previous *n* values may help to capture the trend in the series. The `window_features` argument allows the inclusion of additional predictors created with the previous values of the series."
   ]
  },
  {
   "attachments": {},
   "cell_type": "markdown",
   "id": "0908f761",
   "metadata": {},
   "source": [
    "## Libraries and data"
   ]
  },
  {
   "cell_type": "code",
   "execution_count": 1,
   "id": "d378f5ff-8092-49bb-80b7-8a3996d19fb1",
   "metadata": {},
   "outputs": [],
   "source": [
    "# Libraries\n",
    "# ==============================================================================\n",
    "import numpy as np\n",
    "import pandas as pd\n",
    "import matplotlib.pyplot as plt\n",
    "from skforecast.datasets import fetch_dataset\n",
    "from skforecast.recursive import ForecasterRecursive\n",
    "from skforecast.preprocessing import RollingFeatures\n",
    "from lightgbm import LGBMRegressor"
   ]
  },
  {
   "cell_type": "code",
   "execution_count": 2,
   "id": "e9cee83a",
   "metadata": {},
   "outputs": [
    {
     "name": "stdout",
     "output_type": "stream",
     "text": [
      "h2o\n",
      "---\n",
      "Monthly expenditure ($AUD) on corticosteroid drugs that the Australian health\n",
      "system had between 1991 and 2008.\n",
      "Hyndman R (2023). fpp3: Data for Forecasting: Principles and Practice(3rd\n",
      "Edition). http://pkg.robjhyndman.com/fpp3package/,https://github.com/robjhyndman\n",
      "/fpp3package, http://OTexts.com/fpp3.\n",
      "Shape of the dataset: (204, 1)\n"
     ]
    },
    {
     "data": {
      "text/plain": [
       "datetime\n",
       "1991-07-01    0.429795\n",
       "1991-08-01    0.400906\n",
       "1991-09-01    0.432159\n",
       "1991-10-01    0.492543\n",
       "1991-11-01    0.502369\n",
       "                ...   \n",
       "2008-02-01    0.761822\n",
       "2008-03-01    0.649435\n",
       "2008-04-01    0.827887\n",
       "2008-05-01    0.816255\n",
       "2008-06-01    0.762137\n",
       "Freq: MS, Name: y, Length: 204, dtype: float64"
      ]
     },
     "execution_count": 2,
     "metadata": {},
     "output_type": "execute_result"
    }
   ],
   "source": [
    "# Data\n",
    "# ==============================================================================\n",
    "data = fetch_dataset(name=\"h2o\", raw=False)\n",
    "data.index.name = 'datetime'\n",
    "data = data.rename(columns={'x': 'y'})\n",
    "y = data['y']\n",
    "y"
   ]
  },
  {
   "attachments": {},
   "cell_type": "markdown",
   "id": "97f03864-ee4a-459d-9eec-03d14feb931e",
   "metadata": {},
   "source": [
    "## RollingFeatures"
   ]
  },
  {
   "attachments": {},
   "cell_type": "markdown",
   "id": "3d439250",
   "metadata": {},
   "source": [
    "The <code>RollingFeatures</code> class available is skforecast allows the creation of some of the most commonly used predictors:\n",
    "\n",
    "+ 'mean': the mean of the previous *n* values.\n",
    "+ 'std': the standard deviation of the previous *n* values.\n",
    "+ 'min': the minimum of the previous *n* values.\n",
    "+ 'max': the maximum of the previous *n* values.\n",
    "+ 'sum': the sum of the previous *n* values.\n",
    "+ 'median': the median of the previous *n* values.\n",
    "+ 'ratio_min_max': the ratio between the minimum and maximum of the previous *n* values.\n",
    "+ 'coef_variation': the coefficient of variation of the previous *n* values.\n",
    "\n",
    "The user can specify these predictors by passing a list of strings to the `stats` argument. The user can also specify the window size for each of these predictors by passing a `list` of integers to the `window_size` argument, if the value is the same for all the predictors, the user can pass a single `integer`.\n",
    "\n",
    "The following example demonstrates how to use the <code>RollingFeatures</code> class to include rolling statistics (mean, minimum, and maximum values). Here, the rolling mean is computed with a window size of 20, while the minimum and maximum values use a window size of 10."
   ]
  },
  {
   "cell_type": "code",
   "execution_count": null,
   "id": "76ed7bb5",
   "metadata": {},
   "outputs": [],
   "source": [
    "# Window features\n",
    "# ==============================================================================\n",
    "window_features = RollingFeatures(\n",
    "                      stats        = ['mean', 'min', 'max'],\n",
    "                      window_sizes = [20, 10, 10]\n",
    "                  )"
   ]
  },
  {
   "cell_type": "code",
   "execution_count": null,
   "id": "9afa7c24",
   "metadata": {},
   "outputs": [],
   "source": [
    "# Create and fit forecaster\n",
    "# ==============================================================================\n",
    "forecaster = ForecasterRecursive(\n",
    "                 regressor       = LGBMRegressor(random_state=123, n_jobs=-1, verbose=-1),\n",
    "                 lags            = 3,\n",
    "                 window_features = window_features\n",
    "             )\n",
    "\n",
    "forecaster.fit(y=y)\n",
    "forecaster"
   ]
  },
  {
   "cell_type": "code",
   "execution_count": 5,
   "id": "f1bdf4f8-b999-4d97-899c-fbcc2af7066a",
   "metadata": {},
   "outputs": [
    {
     "data": {
      "text/plain": [
       "2008-07-01    0.880138\n",
       "2008-08-01    1.020947\n",
       "2008-09-01    1.061728\n",
       "Freq: MS, Name: pred, dtype: float64"
      ]
     },
     "execution_count": 5,
     "metadata": {},
     "output_type": "execute_result"
    }
   ],
   "source": [
    "# Predict\n",
    "# ==============================================================================\n",
    "steps = 36\n",
    "predictions = forecaster.predict(steps=steps)\n",
    "predictions.head(3)"
   ]
  },
  {
   "cell_type": "markdown",
   "id": "a0a25cc4",
   "metadata": {},
   "source": [
    "The window size needed by this Forecaster is the maximum of the window sizes between the lagged values and the rolling features. In this case, this value is 20."
   ]
  },
  {
   "cell_type": "code",
   "execution_count": null,
   "id": "757bdd0a",
   "metadata": {},
   "outputs": [],
   "source": [
    "# Predict\n",
    "# ==============================================================================\n",
    "print(\"Window size lags            : \", forecaster.max_lag)\n",
    "print(\"Window size window features : \", forecaster.max_size_window_features)\n",
    "print(\"Window size Forecaster      : \", forecaster.window_size)"
   ]
  },
  {
   "cell_type": "markdown",
   "id": "0050263a",
   "metadata": {},
   "source": [
    "Additional arguments can be passed to the `RollingFeatures`:\n",
    "\n",
    "+ `features_names`: By default, feature names follow the pattern `roll_<stat>_<window_size>`. For instance, a rolling mean with a window size of 20 is named `roll_mean_20`. Users can also assign custom names to each feature using a `list` of strings.\n",
    "\n",
    "+ `min_periods`: allows specifying the minimum number of observations required to compute the statistics during the training matrix generation (same as the `min_periods` argument of [pandas rolling](https://pandas.pydata.org/docs/reference/api/pandas.DataFrame.rolling.html)). It can be a single integer or a list of integers, one for each statistic.\n",
    "\n",
    "+ `fill_na`: define the strategy for handling missing values during the training matrix generation. Available methods are: `'mean'`, `'median'`, `'ffill'`, `'bfill'`, or a `float` value.\n",
    "\n",
    "By inspecting the training matrices, it is possible to check that the rolling features have been correctly included."
   ]
  },
  {
   "cell_type": "code",
   "execution_count": 6,
   "id": "08956146-2b7e-41ad-8454-246e9d35f8a3",
   "metadata": {},
   "outputs": [
    {
     "data": {
      "text/html": [
       "<div>\n",
       "<style scoped>\n",
       "    .dataframe tbody tr th:only-of-type {\n",
       "        vertical-align: middle;\n",
       "    }\n",
       "\n",
       "    .dataframe tbody tr th {\n",
       "        vertical-align: top;\n",
       "    }\n",
       "\n",
       "    .dataframe thead th {\n",
       "        text-align: right;\n",
       "    }\n",
       "</style>\n",
       "<table border=\"1\" class=\"dataframe\">\n",
       "  <thead>\n",
       "    <tr style=\"text-align: right;\">\n",
       "      <th></th>\n",
       "      <th>lag_1</th>\n",
       "      <th>lag_2</th>\n",
       "      <th>lag_3</th>\n",
       "      <th>roll_mean_20</th>\n",
       "      <th>roll_min_10</th>\n",
       "      <th>roll_max_10</th>\n",
       "    </tr>\n",
       "    <tr>\n",
       "      <th>datetime</th>\n",
       "      <th></th>\n",
       "      <th></th>\n",
       "      <th></th>\n",
       "      <th></th>\n",
       "      <th></th>\n",
       "      <th></th>\n",
       "    </tr>\n",
       "  </thead>\n",
       "  <tbody>\n",
       "    <tr>\n",
       "      <th>1993-03-01</th>\n",
       "      <td>0.387554</td>\n",
       "      <td>0.751503</td>\n",
       "      <td>0.771258</td>\n",
       "      <td>0.496401</td>\n",
       "      <td>0.361801</td>\n",
       "      <td>0.771258</td>\n",
       "    </tr>\n",
       "    <tr>\n",
       "      <th>1993-04-01</th>\n",
       "      <td>0.427283</td>\n",
       "      <td>0.387554</td>\n",
       "      <td>0.751503</td>\n",
       "      <td>0.496275</td>\n",
       "      <td>0.387554</td>\n",
       "      <td>0.771258</td>\n",
       "    </tr>\n",
       "    <tr>\n",
       "      <th>1993-05-01</th>\n",
       "      <td>0.413890</td>\n",
       "      <td>0.427283</td>\n",
       "      <td>0.387554</td>\n",
       "      <td>0.496924</td>\n",
       "      <td>0.387554</td>\n",
       "      <td>0.771258</td>\n",
       "    </tr>\n",
       "    <tr>\n",
       "      <th>1993-06-01</th>\n",
       "      <td>0.428859</td>\n",
       "      <td>0.413890</td>\n",
       "      <td>0.427283</td>\n",
       "      <td>0.496759</td>\n",
       "      <td>0.387554</td>\n",
       "      <td>0.771258</td>\n",
       "    </tr>\n",
       "    <tr>\n",
       "      <th>1993-07-01</th>\n",
       "      <td>0.470126</td>\n",
       "      <td>0.428859</td>\n",
       "      <td>0.413890</td>\n",
       "      <td>0.495638</td>\n",
       "      <td>0.387554</td>\n",
       "      <td>0.771258</td>\n",
       "    </tr>\n",
       "    <tr>\n",
       "      <th>...</th>\n",
       "      <td>...</td>\n",
       "      <td>...</td>\n",
       "      <td>...</td>\n",
       "      <td>...</td>\n",
       "      <td>...</td>\n",
       "      <td>...</td>\n",
       "    </tr>\n",
       "    <tr>\n",
       "      <th>2008-02-01</th>\n",
       "      <td>1.219941</td>\n",
       "      <td>1.176589</td>\n",
       "      <td>1.163534</td>\n",
       "      <td>0.980390</td>\n",
       "      <td>0.561760</td>\n",
       "      <td>1.219941</td>\n",
       "    </tr>\n",
       "    <tr>\n",
       "      <th>2008-03-01</th>\n",
       "      <td>0.761822</td>\n",
       "      <td>1.219941</td>\n",
       "      <td>1.176589</td>\n",
       "      <td>0.978582</td>\n",
       "      <td>0.745258</td>\n",
       "      <td>1.219941</td>\n",
       "    </tr>\n",
       "    <tr>\n",
       "      <th>2008-04-01</th>\n",
       "      <td>0.649435</td>\n",
       "      <td>0.761822</td>\n",
       "      <td>1.219941</td>\n",
       "      <td>0.966838</td>\n",
       "      <td>0.649435</td>\n",
       "      <td>1.219941</td>\n",
       "    </tr>\n",
       "    <tr>\n",
       "      <th>2008-05-01</th>\n",
       "      <td>0.827887</td>\n",
       "      <td>0.649435</td>\n",
       "      <td>0.761822</td>\n",
       "      <td>0.955750</td>\n",
       "      <td>0.649435</td>\n",
       "      <td>1.219941</td>\n",
       "    </tr>\n",
       "    <tr>\n",
       "      <th>2008-06-01</th>\n",
       "      <td>0.816255</td>\n",
       "      <td>0.827887</td>\n",
       "      <td>0.649435</td>\n",
       "      <td>0.946778</td>\n",
       "      <td>0.649435</td>\n",
       "      <td>1.219941</td>\n",
       "    </tr>\n",
       "  </tbody>\n",
       "</table>\n",
       "<p>184 rows × 6 columns</p>\n",
       "</div>"
      ],
      "text/plain": [
       "               lag_1     lag_2     lag_3  roll_mean_20  roll_min_10  \\\n",
       "datetime                                                              \n",
       "1993-03-01  0.387554  0.751503  0.771258      0.496401     0.361801   \n",
       "1993-04-01  0.427283  0.387554  0.751503      0.496275     0.387554   \n",
       "1993-05-01  0.413890  0.427283  0.387554      0.496924     0.387554   \n",
       "1993-06-01  0.428859  0.413890  0.427283      0.496759     0.387554   \n",
       "1993-07-01  0.470126  0.428859  0.413890      0.495638     0.387554   \n",
       "...              ...       ...       ...           ...          ...   \n",
       "2008-02-01  1.219941  1.176589  1.163534      0.980390     0.561760   \n",
       "2008-03-01  0.761822  1.219941  1.176589      0.978582     0.745258   \n",
       "2008-04-01  0.649435  0.761822  1.219941      0.966838     0.649435   \n",
       "2008-05-01  0.827887  0.649435  0.761822      0.955750     0.649435   \n",
       "2008-06-01  0.816255  0.827887  0.649435      0.946778     0.649435   \n",
       "\n",
       "            roll_max_10  \n",
       "datetime                 \n",
       "1993-03-01     0.771258  \n",
       "1993-04-01     0.771258  \n",
       "1993-05-01     0.771258  \n",
       "1993-06-01     0.771258  \n",
       "1993-07-01     0.771258  \n",
       "...                 ...  \n",
       "2008-02-01     1.219941  \n",
       "2008-03-01     1.219941  \n",
       "2008-04-01     1.219941  \n",
       "2008-05-01     1.219941  \n",
       "2008-06-01     1.219941  \n",
       "\n",
       "[184 rows x 6 columns]"
      ]
     },
     "execution_count": 6,
     "metadata": {},
     "output_type": "execute_result"
    }
   ],
   "source": [
    "# Training matrices used internally to fit the regressor\n",
    "# ==============================================================================\n",
    "X_train, y_train = forecaster.create_train_X_y(y=y)\n",
    "X_train"
   ]
  },
  {
   "cell_type": "markdown",
   "id": "e2f5f51c",
   "metadata": {},
   "source": [
    "It is also possible to use the <code>RollingFeatures</code> class outside the forecaster to gain a deeper insight into its behaviour. The `transform` method computes the rolling features for a given numpy array, which is assumed to contain as many past observations as the maximum window size required to compute the features. The output is a numpy array with the rolling features."
   ]
  },
  {
   "cell_type": "code",
   "execution_count": 7,
   "id": "eac1be35",
   "metadata": {},
   "outputs": [
    {
     "data": {
      "text/plain": [
       "array([ 9.5, 10. , 19. ])"
      ]
     },
     "execution_count": 7,
     "metadata": {},
     "output_type": "execute_result"
    }
   ],
   "source": [
    "# Create rolling features from a given array\n",
    "# ==============================================================================\n",
    "x = np.arange(20)\n",
    "window_features.transform(X=x)"
   ]
  },
  {
   "cell_type": "markdown",
   "id": "bb241389",
   "metadata": {},
   "source": [
    "The `transform_batch` method is designed to transform a whole pandas Series from which multiple rolling windows can be extracted. The output is a pandas DataFrame with the rolling features."
   ]
  },
  {
   "cell_type": "code",
   "execution_count": 8,
   "id": "7e1d5c7f",
   "metadata": {},
   "outputs": [
    {
     "data": {
      "text/html": [
       "<div>\n",
       "<style scoped>\n",
       "    .dataframe tbody tr th:only-of-type {\n",
       "        vertical-align: middle;\n",
       "    }\n",
       "\n",
       "    .dataframe tbody tr th {\n",
       "        vertical-align: top;\n",
       "    }\n",
       "\n",
       "    .dataframe thead th {\n",
       "        text-align: right;\n",
       "    }\n",
       "</style>\n",
       "<table border=\"1\" class=\"dataframe\">\n",
       "  <thead>\n",
       "    <tr style=\"text-align: right;\">\n",
       "      <th></th>\n",
       "      <th>roll_mean_20</th>\n",
       "      <th>roll_min_10</th>\n",
       "      <th>roll_max_10</th>\n",
       "    </tr>\n",
       "    <tr>\n",
       "      <th>datetime</th>\n",
       "      <th></th>\n",
       "      <th></th>\n",
       "      <th></th>\n",
       "    </tr>\n",
       "  </thead>\n",
       "  <tbody>\n",
       "    <tr>\n",
       "      <th>1993-03-01</th>\n",
       "      <td>0.496401</td>\n",
       "      <td>0.361801</td>\n",
       "      <td>0.771258</td>\n",
       "    </tr>\n",
       "    <tr>\n",
       "      <th>1993-04-01</th>\n",
       "      <td>0.496275</td>\n",
       "      <td>0.387554</td>\n",
       "      <td>0.771258</td>\n",
       "    </tr>\n",
       "    <tr>\n",
       "      <th>1993-05-01</th>\n",
       "      <td>0.496924</td>\n",
       "      <td>0.387554</td>\n",
       "      <td>0.771258</td>\n",
       "    </tr>\n",
       "  </tbody>\n",
       "</table>\n",
       "</div>"
      ],
      "text/plain": [
       "            roll_mean_20  roll_min_10  roll_max_10\n",
       "datetime                                          \n",
       "1993-03-01      0.496401     0.361801     0.771258\n",
       "1993-04-01      0.496275     0.387554     0.771258\n",
       "1993-05-01      0.496924     0.387554     0.771258"
      ]
     },
     "execution_count": 8,
     "metadata": {},
     "output_type": "execute_result"
    }
   ],
   "source": [
    "# Create rolling features from a pandas series\n",
    "# ==============================================================================\n",
    "window_features.transform_batch(y).head(3)"
   ]
  },
  {
   "cell_type": "markdown",
   "id": "d8e8dc20",
   "metadata": {},
   "source": [
    "The reason for these two different data transformation methods is that the first is used during prediction, where the forecaster only has access to the last window of the series. In contrast, the second is used during training, where the forecaster has access to the entire series."
   ]
  },
  {
   "cell_type": "markdown",
   "id": "63623cfc",
   "metadata": {},
   "source": [
    "## Create your custom window features"
   ]
  },
  {
   "cell_type": "markdown",
   "id": "700c07a3",
   "metadata": {},
   "source": [
    "<code>RollingFeatures</code> is very useful for including some of the most commonly used predictors.  However, users may need to include additional predictors that are not provided by this class. In such cases, users can create their own custom class to compute the desired features and include them in the forecaster.\n",
    "\n",
    "The custom class must have these 2 methods:\n",
    "\n",
    "+ `transform_batch`: method to compute the features in batch from a pandas Series. This method will be used to compute the features during the training process. It must return a pandas DataFrame containing the rolling features.\n",
    "\n",
    "+ `transform`: method to compute the features from a numpy array. This method will be used to compute the features during the prediction process. It must return a numpy array containing the computed statistics.\n",
    "\n",
    "and these 2 attributes:\n",
    "\n",
    "+ `window_sizes`: size of the rolling window required to compute the features. It must be a list of integers.\n",
    "\n",
    "+ `features_names`: list with the names of the output features. It must be a list of strings.\n",
    "\n",
    "The follwing example shows how to create a custom class to include the rolling skewness and kurtosis with a window size of 20."
   ]
  },
  {
   "cell_type": "markdown",
   "id": "6c4f19b6",
   "metadata": {},
   "source": [
    "<div class=\"admonition note\" name=\"html-admonition\" style=\"background: rgba(0,191,191,.1); padding-top: 0px; padding-bottom: 6px; border-radius: 8px; border-left: 8px solid #00bfa5; border-color: #00bfa5; padding-left: 10px; padding-right: 10px;\">\n",
    "\n",
    "<p class=\"title\">\n",
    "    <i style=\"font-size: 18px; color:#00bfa5;\"></i>\n",
    "    <b style=\"color: #00bfa5;\">&#128161 Tip</b>\n",
    "</p>\n",
    "\n",
    "If you have any doubt when creating your custom class, you can check the source code of the <code>RollingFeatures</code> class available in the <a href=\"../api/preprocessing.html#skforecast.preprocessing.preprocessing.RollingFeatures\">API Reference</a>.\n",
    "\n",
    "</div>"
   ]
  },
  {
   "cell_type": "code",
   "execution_count": null,
   "id": "9f6acbec",
   "metadata": {},
   "outputs": [],
   "source": [
    "# Custom class to create rolling skewness features\n",
    "# ==============================================================================\n",
    "from scipy.stats import skew\n",
    "\n",
    "\n",
    "class RollingSkewness():\n",
    "    \"\"\"\n",
    "    Custom class to create rolling skewness features.\n",
    "    \"\"\"\n",
    "\n",
    "    def __init__(self, window_sizes, features_names: list = 'rolling_skewness'):\n",
    "        \n",
    "        if not isinstance(window_sizes, list):\n",
    "            window_sizes = [window_sizes]\n",
    "        self.window_sizes = window_sizes\n",
    "        self.features_names = features_names\n",
    "\n",
    "    def transform_batch(self, X: pd.Series) -> pd.DataFrame:\n",
    "        \n",
    "        rolling_obj = X.rolling(window=self.window_sizes[0], center=False, closed='left')\n",
    "        rolling_skewness = rolling_obj.skew()\n",
    "        rolling_skewness = pd.DataFrame({\n",
    "                               self.features_names: rolling_skewness\n",
    "                           }).dropna()\n",
    "\n",
    "        return rolling_skewness\n",
    "\n",
    "    def transform(self, X: np.ndarray) -> np.ndarray:\n",
    "        \n",
    "        X = X[~np.isnan(X)]\n",
    "        if len(X) > 0:\n",
    "            rolling_skewness = np.array([skew(X, bias=False)])\n",
    "        else:\n",
    "            rolling_skewness = np.nan\n",
    "        \n",
    "        return rolling_skewness"
   ]
  },
  {
   "cell_type": "code",
   "execution_count": null,
   "id": "70760ed4",
   "metadata": {},
   "outputs": [
    {
     "data": {
      "text/html": [
       "<div>\n",
       "<style scoped>\n",
       "    .dataframe tbody tr th:only-of-type {\n",
       "        vertical-align: middle;\n",
       "    }\n",
       "\n",
       "    .dataframe tbody tr th {\n",
       "        vertical-align: top;\n",
       "    }\n",
       "\n",
       "    .dataframe thead th {\n",
       "        text-align: right;\n",
       "    }\n",
       "</style>\n",
       "<table border=\"1\" class=\"dataframe\">\n",
       "  <thead>\n",
       "    <tr style=\"text-align: right;\">\n",
       "      <th></th>\n",
       "      <th>rolling_skewness</th>\n",
       "    </tr>\n",
       "    <tr>\n",
       "      <th>datetime</th>\n",
       "      <th></th>\n",
       "    </tr>\n",
       "  </thead>\n",
       "  <tbody>\n",
       "    <tr>\n",
       "      <th>1991-10-01</th>\n",
       "      <td>-1.696160</td>\n",
       "    </tr>\n",
       "    <tr>\n",
       "      <th>1991-11-01</th>\n",
       "      <td>0.897261</td>\n",
       "    </tr>\n",
       "    <tr>\n",
       "      <th>1991-12-01</th>\n",
       "      <td>-1.602797</td>\n",
       "    </tr>\n",
       "    <tr>\n",
       "      <th>1992-01-01</th>\n",
       "      <td>1.681518</td>\n",
       "    </tr>\n",
       "    <tr>\n",
       "      <th>1992-02-01</th>\n",
       "      <td>-0.778727</td>\n",
       "    </tr>\n",
       "    <tr>\n",
       "      <th>...</th>\n",
       "      <td>...</td>\n",
       "    </tr>\n",
       "    <tr>\n",
       "      <th>2008-02-01</th>\n",
       "      <td>1.359033</td>\n",
       "    </tr>\n",
       "    <tr>\n",
       "      <th>2008-03-01</th>\n",
       "      <td>-1.674974</td>\n",
       "    </tr>\n",
       "    <tr>\n",
       "      <th>2008-04-01</th>\n",
       "      <td>1.466482</td>\n",
       "    </tr>\n",
       "    <tr>\n",
       "      <th>2008-05-01</th>\n",
       "      <td>-0.747574</td>\n",
       "    </tr>\n",
       "    <tr>\n",
       "      <th>2008-06-01</th>\n",
       "      <td>-1.705640</td>\n",
       "    </tr>\n",
       "  </tbody>\n",
       "</table>\n",
       "<p>201 rows × 1 columns</p>\n",
       "</div>"
      ],
      "text/plain": [
       "            rolling_skewness\n",
       "datetime                    \n",
       "1991-10-01         -1.696160\n",
       "1991-11-01          0.897261\n",
       "1991-12-01         -1.602797\n",
       "1992-01-01          1.681518\n",
       "1992-02-01         -0.778727\n",
       "...                      ...\n",
       "2008-02-01          1.359033\n",
       "2008-03-01         -1.674974\n",
       "2008-04-01          1.466482\n",
       "2008-05-01         -0.747574\n",
       "2008-06-01         -1.705640\n",
       "\n",
       "[201 rows x 1 columns]"
      ]
     },
     "execution_count": 10,
     "metadata": {},
     "output_type": "execute_result"
    }
   ],
   "source": [
    "# Transform batch\n",
    "# ==============================================================================\n",
    "window_features = RollingSkewness(window_sizes=3)\n",
    "window_features.transform_batch(y)"
   ]
  },
  {
   "cell_type": "code",
   "execution_count": null,
   "id": "e72cdf99",
   "metadata": {},
   "outputs": [
    {
     "data": {
      "text/plain": [
       "array([0.93521953])"
      ]
     },
     "execution_count": 11,
     "metadata": {},
     "output_type": "execute_result"
    }
   ],
   "source": [
    "# Transform\n",
    "# ==============================================================================\n",
    "window_features.transform(X=np.array([6, 12, 8]))"
   ]
  },
  {
   "cell_type": "code",
   "execution_count": null,
   "id": "5566caab",
   "metadata": {},
   "outputs": [],
   "source": [
    "# Forecaster with custom rolling features\n",
    "# ==============================================================================\n",
    "forecaster = ForecasterRecursive(\n",
    "                 regressor       = LGBMRegressor(random_state=123, n_jobs=-1, verbose=-1),\n",
    "                 lags            = 3,\n",
    "                 window_features = window_features,\n",
    "             )\n",
    "\n",
    "forecaster.fit(y=y)\n",
    "forecaster.predict(steps=5)"
   ]
  }
 ],
 "metadata": {
  "kernelspec": {
   "display_name": "skforecast_py11",
   "language": "python",
   "name": "python3"
  },
  "language_info": {
   "codemirror_mode": {
    "name": "ipython",
    "version": 3
   },
   "file_extension": ".py",
   "mimetype": "text/x-python",
   "name": "python",
   "nbconvert_exporter": "python",
   "pygments_lexer": "ipython3",
   "version": "3.11.5"
  }
 },
 "nbformat": 4,
 "nbformat_minor": 5
}
