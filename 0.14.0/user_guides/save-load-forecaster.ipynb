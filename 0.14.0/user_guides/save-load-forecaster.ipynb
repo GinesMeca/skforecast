{
 "cells": [
  {
   "attachments": {},
   "cell_type": "markdown",
   "metadata": {},
   "source": [
    "# Save and load forecasters\n",
    "\n",
    "Skforecast models can be easily saved and loaded from disk using the joblib library. Two handy functions, `save_forecaster` and `load_forecaster` are available to streamline this process. See below for a simple example.\n",
    "\n",
    "A `forecaster_id` has been included when initializing the Forecaster, this may help to identify the target of the model."
   ]
  },
  {
   "cell_type": "markdown",
   "metadata": {},
   "source": [
    "<div class=\"admonition note\" name=\"html-admonition\" style=\"background: rgba(0,184,212,.1); padding-top: 0px; padding-bottom: 6px; border-radius: 8px; border-left: 8px solid #00b8d4; border-color: #00b8d4; padding-left: 10px; padding-right: 10px;\">\n",
    "\n",
    "<p class=\"title\">\n",
    "    <i style=\"font-size: 18px; color:#00b8d4;\"></i>\n",
    "    <b style=\"color: #00b8d4;\">&#9998 Note</b>\n",
    "</p>\n",
    "\n",
    "Learn how to use <a href=\"../user_guides/forecaster-in-production.html\">forecaster models in production</a>.\n",
    "\n",
    "</div>"
   ]
  },
  {
   "attachments": {},
   "cell_type": "markdown",
   "metadata": {},
   "source": [
    "## Libraries and data"
   ]
  },
  {
   "cell_type": "code",
   "execution_count": 1,
   "metadata": {},
   "outputs": [],
   "source": [
    "# Libraries\n",
    "# ==============================================================================\n",
    "import numpy as np\n",
    "import pandas as pd\n",
    "from sklearn.ensemble import RandomForestRegressor\n",
    "\n",
    "from skforecast.datasets import fetch_dataset\n",
    "from skforecast.recursive import ForecasterRecursive\n",
    "from skforecast.utils import save_forecaster\n",
    "from skforecast.utils import load_forecaster"
   ]
  },
  {
   "cell_type": "code",
   "execution_count": 2,
   "metadata": {},
   "outputs": [
    {
     "name": "stdout",
     "output_type": "stream",
     "text": [
      "h2o\n",
      "---\n",
      "Monthly expenditure ($AUD) on corticosteroid drugs that the Australian health\n",
      "system had between 1991 and 2008.\n",
      "Hyndman R (2023). fpp3: Data for Forecasting: Principles and Practice(3rd\n",
      "Edition). http://pkg.robjhyndman.com/fpp3package/,https://github.com/robjhyndman\n",
      "/fpp3package, http://OTexts.com/fpp3.\n",
      "Shape of the dataset: (204, 2)\n"
     ]
    }
   ],
   "source": [
    "# Download data\n",
    "# ==============================================================================\n",
    "data = fetch_dataset(\n",
    "    name=\"h2o\", raw=True, kwargs_read_csv={\"names\": [\"y\", \"date\"], \"header\": 0}\n",
    ")\n",
    "data['date'] = pd.to_datetime(data['date'], format='%Y-%m-%d')\n",
    "data = data.set_index('date')\n",
    "data = data.asfreq('MS')"
   ]
  },
  {
   "attachments": {},
   "cell_type": "markdown",
   "metadata": {},
   "source": [
    "## Save and load forecaster model"
   ]
  },
  {
   "cell_type": "code",
   "execution_count": 3,
   "metadata": {},
   "outputs": [
    {
     "data": {
      "text/plain": [
       "2008-07-01    0.714526\n",
       "2008-08-01    0.789144\n",
       "2008-09-01    0.818433\n",
       "Freq: MS, Name: pred, dtype: float64"
      ]
     },
     "execution_count": 3,
     "metadata": {},
     "output_type": "execute_result"
    }
   ],
   "source": [
    "# Create and train forecaster\n",
    "# ==============================================================================\n",
    "forecaster = ForecasterRecursive(\n",
    "                 regressor     = RandomForestRegressor(random_state=123),\n",
    "                 lags          = 5,\n",
    "                 forecaster_id = \"forecaster_001\"\n",
    "             )\n",
    "\n",
    "forecaster.fit(y=data['y'])\n",
    "forecaster.predict(steps=3)"
   ]
  },
  {
   "cell_type": "code",
   "execution_count": 4,
   "metadata": {},
   "outputs": [],
   "source": [
    "# Save model\n",
    "# ==============================================================================\n",
    "save_forecaster(forecaster, file_name='forecaster_001.joblib', verbose=False)"
   ]
  },
  {
   "cell_type": "code",
   "execution_count": 5,
   "metadata": {},
   "outputs": [
    {
     "name": "stdout",
     "output_type": "stream",
     "text": [
      "=================== \n",
      "ForecasterRecursive \n",
      "=================== \n",
      "Regressor: RandomForestRegressor \n",
      "Lags: [1 2 3 4 5] \n",
      "Window features: None \n",
      "Window size: 5 \n",
      "Exogenous included: False \n",
      "Exogenous names: None \n",
      "Transformer for y: None \n",
      "Transformer for exog: None \n",
      "Weight function included: False \n",
      "Differentiation order: None \n",
      "Training range: [Timestamp('1991-07-01 00:00:00'), Timestamp('2008-06-01 00:00:00')] \n",
      "Training index type: DatetimeIndex \n",
      "Training index frequency: MS \n",
      "Regressor parameters: \n",
      "    {'bootstrap': True, 'ccp_alpha': 0.0, 'criterion': 'squared_error', 'max_depth':\n",
      "    None, 'max_features': 1.0, 'max_leaf_nodes': None, 'max_samples': None,\n",
      "    'min_impurity_decrease': 0.0, 'min_samples_leaf': 1, 'min_samples_split': 2,\n",
      "    'min_weight_fraction_leaf': 0.0, 'monotonic_cst': None, 'n_estimators': 100,\n",
      "    'n_jobs': None, 'oob_score': False, 'random_state': 123, 'verbose': 0,\n",
      "    'warm_start': False} \n",
      "fit_kwargs: {} \n",
      "Creation date: 2024-11-10 17:43:25 \n",
      "Last fit date: 2024-11-10 17:43:25 \n",
      "Skforecast version: 0.14.0 \n",
      "Python version: 3.11.10 \n",
      "Forecaster id: forecaster_001 \n",
      "\n"
     ]
    }
   ],
   "source": [
    "# Load model\n",
    "# ==============================================================================\n",
    "forecaster_loaded = load_forecaster('forecaster_001.joblib', verbose=True)"
   ]
  },
  {
   "cell_type": "code",
   "execution_count": 6,
   "metadata": {},
   "outputs": [
    {
     "data": {
      "text/plain": [
       "2008-07-01    0.714526\n",
       "2008-08-01    0.789144\n",
       "2008-09-01    0.818433\n",
       "Freq: MS, Name: pred, dtype: float64"
      ]
     },
     "execution_count": 6,
     "metadata": {},
     "output_type": "execute_result"
    }
   ],
   "source": [
    "# Predict\n",
    "# ==============================================================================\n",
    "forecaster_loaded.predict(steps=3)"
   ]
  },
  {
   "cell_type": "code",
   "execution_count": 7,
   "metadata": {},
   "outputs": [
    {
     "data": {
      "text/plain": [
       "'forecaster_001'"
      ]
     },
     "execution_count": 7,
     "metadata": {},
     "output_type": "execute_result"
    }
   ],
   "source": [
    "# Forecaster identifier\n",
    "# ==============================================================================\n",
    "forecaster.forecaster_id"
   ]
  },
  {
   "cell_type": "markdown",
   "metadata": {},
   "source": [
    "## Saving and Loading a Forecaster Model with Custom Features\n",
    "\n",
    "Sometimes external objects are needed when creating a Forecaster. For example:\n",
    "\n",
    "+ Custom class to [create window and custom features](../user_guides/window-features-and-custom-features.html#create-your-custom-window-features).\n",
    "\n",
    "+ A function to reduce the impact of some dates on the model, [Weighted Time Series Forecasting](../user_guides/weighted-time-series-forecasting.html). \n",
    "\n",
    "For your code to work properly, these functions must be available in the environment where the Forecaster is loaded."
   ]
  },
  {
   "cell_type": "code",
   "execution_count": 8,
   "metadata": {},
   "outputs": [],
   "source": [
    "# Custom class to create rolling skewness features\n",
    "# ==============================================================================\n",
    "from scipy.stats import skew\n",
    "\n",
    "\n",
    "class RollingSkewness():\n",
    "    \"\"\"\n",
    "    Custom class to create rolling skewness features.\n",
    "    \"\"\"\n",
    "\n",
    "    def __init__(self, window_sizes, features_names: list = 'rolling_skewness'):\n",
    "        \n",
    "        if not isinstance(window_sizes, list):\n",
    "            window_sizes = [window_sizes]\n",
    "        self.window_sizes = window_sizes\n",
    "        self.features_names = features_names\n",
    "\n",
    "    def transform_batch(self, X: pd.Series) -> pd.DataFrame:\n",
    "        \n",
    "        rolling_obj = X.rolling(window=self.window_sizes[0], center=False, closed='left')\n",
    "        rolling_skewness = rolling_obj.skew()\n",
    "        rolling_skewness = pd.DataFrame({\n",
    "                               self.features_names: rolling_skewness\n",
    "                           }).dropna()\n",
    "\n",
    "        return rolling_skewness\n",
    "\n",
    "    def transform(self, X: np.ndarray) -> np.ndarray:\n",
    "        \n",
    "        X = X[~np.isnan(X)]\n",
    "        if len(X) > 0:\n",
    "            rolling_skewness = np.array([skew(X, bias=False)])\n",
    "        else:\n",
    "            rolling_skewness = np.nan\n",
    "        \n",
    "        return rolling_skewness"
   ]
  },
  {
   "cell_type": "code",
   "execution_count": 9,
   "metadata": {},
   "outputs": [],
   "source": [
    "# Custom function to create weights\n",
    "# ==============================================================================\n",
    "def custom_weights(index):\n",
    "    \"\"\"\n",
    "    Return 0 if index is between 2004-01-01 and 2005-01-01.\n",
    "    \"\"\"\n",
    "    weights = np.where(\n",
    "                  (index >= '2004-01-01') & (index <= '2005-01-01'),\n",
    "                   0,\n",
    "                   1\n",
    "              )\n",
    "\n",
    "    return weights"
   ]
  },
  {
   "cell_type": "code",
   "execution_count": 10,
   "metadata": {},
   "outputs": [],
   "source": [
    "# Create and train forecaster\n",
    "# ==============================================================================\n",
    "window_features = RollingSkewness(window_sizes=3)\n",
    "\n",
    "forecaster = ForecasterRecursive(\n",
    "                 regressor       = RandomForestRegressor(random_state=123),\n",
    "                 lags            = 3,\n",
    "                 window_features = window_features,\n",
    "                 weight_func     = custom_weights,\n",
    "                 forecaster_id   = \"forecaster_custom_features\"\n",
    "             )\n",
    "\n",
    "forecaster.fit(y=data['y'])"
   ]
  },
  {
   "cell_type": "markdown",
   "metadata": {},
   "source": [
    "<div class=\"admonition note\" name=\"html-admonition\" style=\"background: rgba(255,145,0,.1); padding-top: 0px; padding-bottom: 6px; border-radius: 8px; border-left: 8px solid #ff9100; border-color: #ff9100; padding-left: 10px; padding-right: 10px\">\n",
    "\n",
    "<p class=\"title\">\n",
    "    <i style=\"font-size: 18px; color:#ff9100; border-color: #ff1744;\"></i>\n",
    "    <b style=\"color: #ff9100;\"> <span style=\"color: #ff9100;\">&#9888;</span> Warning</b>\n",
    "</p>\n",
    "\n",
    "The <code>save_forecaster</code> function will save the functions used to create the weights as a module (<code>custom_weights.py</code>). <b>But the classes used to create the window features will not be saved</b>. Therefore, you must ensure that these classes are available in the environment where the Forecaster is loaded.\n",
    "\n",
    "</div>"
   ]
  },
  {
   "cell_type": "code",
   "execution_count": 11,
   "metadata": {},
   "outputs": [
    {
     "name": "stderr",
     "output_type": "stream",
     "text": [
      "c:\\Users\\jaesc2\\Miniconda3\\envs\\skforecast_py11_2\\Lib\\site-packages\\skforecast\\utils\\utils.py:1898: SaveLoadSkforecastWarning: The Forecaster includes custom user-defined classes in the `window_features` argument. These classes are not saved automatically when saving the Forecaster. Please ensure you save these classes manually and import them before loading the Forecaster.\n",
      "    Custom classes: RollingSkewness\n",
      "Visit the documentation for more information: https://skforecast.org/latest/user_guides/save-load-forecaster.html#saving-and-loading-a-forecaster-model-with-custom-features \n",
      " You can suppress this warning using: warnings.simplefilter('ignore', category=SaveLoadSkforecastWarning)\n",
      "  warnings.warn(\n"
     ]
    }
   ],
   "source": [
    "# Save model and custom function\n",
    "# ==============================================================================\n",
    "save_forecaster(\n",
    "    forecaster, \n",
    "    file_name = 'forecaster_custom_features.joblib', \n",
    "    save_custom_functions = True, \n",
    "    verbose = False\n",
    ")"
   ]
  },
  {
   "cell_type": "markdown",
   "metadata": {},
   "source": [
    "At this point, the `RollingSkewness` class is manually saved in a file called `rolling_skewness.py`. This file must be available in the environment where the Forecaster is loaded."
   ]
  },
  {
   "cell_type": "code",
   "execution_count": 12,
   "metadata": {},
   "outputs": [
    {
     "name": "stdout",
     "output_type": "stream",
     "text": [
      "=================== \n",
      "ForecasterRecursive \n",
      "=================== \n",
      "Regressor: RandomForestRegressor \n",
      "Lags: [1 2 3] \n",
      "Window features: ['rolling_skewness'] \n",
      "Window size: 3 \n",
      "Exogenous included: False \n",
      "Exogenous names: None \n",
      "Transformer for y: None \n",
      "Transformer for exog: None \n",
      "Weight function included: True \n",
      "Differentiation order: None \n",
      "Training range: [Timestamp('1991-07-01 00:00:00'), Timestamp('2008-06-01 00:00:00')] \n",
      "Training index type: DatetimeIndex \n",
      "Training index frequency: MS \n",
      "Regressor parameters: \n",
      "    {'bootstrap': True, 'ccp_alpha': 0.0, 'criterion': 'squared_error', 'max_depth':\n",
      "    None, 'max_features': 1.0, 'max_leaf_nodes': None, 'max_samples': None,\n",
      "    'min_impurity_decrease': 0.0, 'min_samples_leaf': 1, 'min_samples_split': 2,\n",
      "    'min_weight_fraction_leaf': 0.0, 'monotonic_cst': None, 'n_estimators': 100,\n",
      "    'n_jobs': None, 'oob_score': False, 'random_state': 123, 'verbose': 0,\n",
      "    'warm_start': False} \n",
      "fit_kwargs: {} \n",
      "Creation date: 2024-11-10 17:43:26 \n",
      "Last fit date: 2024-11-10 17:43:26 \n",
      "Skforecast version: 0.14.0 \n",
      "Python version: 3.11.10 \n",
      "Forecaster id: forecaster_custom_features \n",
      "\n"
     ]
    }
   ],
   "source": [
    "# Load model and custom function\n",
    "# ==============================================================================\n",
    "from rolling_skewness import RollingSkewness  # This has to be generated manually\n",
    "from custom_weights import custom_weights\n",
    "\n",
    "forecaster_loaded = load_forecaster('forecaster_custom_features.joblib', verbose=True)"
   ]
  }
 ],
 "metadata": {
  "kernelspec": {
   "display_name": "skforecast_py11_2",
   "language": "python",
   "name": "python3"
  },
  "language_info": {
   "codemirror_mode": {
    "name": "ipython",
    "version": 3
   },
   "file_extension": ".py",
   "mimetype": "text/x-python",
   "name": "python",
   "nbconvert_exporter": "python",
   "pygments_lexer": "ipython3",
   "version": "3.11.10"
  },
  "toc": {
   "base_numbering": 1,
   "nav_menu": {},
   "number_sections": false,
   "sideBar": true,
   "skip_h1_title": true,
   "title_cell": "Tabla de contenidos",
   "title_sidebar": "Tabla de contenidos",
   "toc_cell": false,
   "toc_position": {
    "height": "calc(100% - 180px)",
    "left": "10px",
    "top": "150px",
    "width": "165px"
   },
   "toc_section_display": true,
   "toc_window_display": false
  },
  "varInspector": {
   "cols": {
    "lenName": 16,
    "lenType": 16,
    "lenVar": 40
   },
   "kernels_config": {
    "python": {
     "delete_cmd_postfix": "",
     "delete_cmd_prefix": "del ",
     "library": "var_list.py",
     "varRefreshCmd": "print(var_dic_list())"
    },
    "r": {
     "delete_cmd_postfix": ") ",
     "delete_cmd_prefix": "rm(",
     "library": "var_list.r",
     "varRefreshCmd": "cat(var_dic_list()) "
    }
   },
   "position": {
    "height": "144.391px",
    "left": "1478px",
    "right": "20px",
    "top": "126px",
    "width": "350px"
   },
   "types_to_exclude": [
    "module",
    "function",
    "builtin_function_or_method",
    "instance",
    "_Feature"
   ],
   "window_display": false
  }
 },
 "nbformat": 4,
 "nbformat_minor": 4
}
